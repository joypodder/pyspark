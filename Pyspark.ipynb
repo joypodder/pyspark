{
  "nbformat": 4,
  "nbformat_minor": 0,
  "metadata": {
    "colab": {
      "provenance": [],
      "collapsed_sections": [
        "LB7X6p7jKtZy",
        "obSf1BJzqi8z",
        "sG7oEIsU24jk",
        "NYKI86Sy28AK",
        "LEXGGBQtczoD",
        "KH2CWRKCfFGs",
        "E4aCe0qTfgQ0",
        "hSnToPXAkRiZ",
        "tjcm-lKMqqfH",
        "lJ89l0MlylFC",
        "ZWI9GBvWy-cf",
        "Qx73FwgfzauS"
      ],
      "mount_file_id": "1rT1R3wnU5y5UtkDRXvYOvefqSwHExS4x",
      "authorship_tag": "ABX9TyMJNiL9X2lKpbIBazB0hYy/",
      "include_colab_link": true
    },
    "kernelspec": {
      "name": "python3",
      "display_name": "Python 3"
    },
    "language_info": {
      "name": "python"
    }
  },
  "cells": [
    {
      "cell_type": "markdown",
      "metadata": {
        "id": "view-in-github",
        "colab_type": "text"
      },
      "source": [
        "<a href=\"https://colab.research.google.com/github/joypodder/pyspark/blob/main/Pyspark.ipynb\" target=\"_parent\"><img src=\"https://colab.research.google.com/assets/colab-badge.svg\" alt=\"Open In Colab\"/></a>"
      ]
    },
    {
      "cell_type": "code",
      "execution_count": null,
      "metadata": {
        "colab": {
          "base_uri": "https://localhost:8080/"
        },
        "id": "q7UJ1Xq8HAHF",
        "outputId": "65216f2d-b04b-49f6-fa0e-c358842bed34"
      },
      "outputs": [
        {
          "output_type": "stream",
          "name": "stdout",
          "text": [
            "Requirement already satisfied: pyspark in /usr/local/lib/python3.11/dist-packages (3.5.4)\n",
            "Requirement already satisfied: py4j==0.10.9.7 in /usr/local/lib/python3.11/dist-packages (from pyspark) (0.10.9.7)\n"
          ]
        }
      ],
      "source": [
        "pip install pyspark"
      ]
    },
    {
      "cell_type": "code",
      "source": [
        "from pyspark.sql import SparkSession\n",
        "\n",
        "# Create SparkSession\n",
        "spark = SparkSession.builder \\\n",
        "      .master(\"local[1]\") \\\n",
        "      .appName(\"SparkByExamples.com\") \\\n",
        "      .getOrCreate()\n",
        "sc = spark.sparkContext"
      ],
      "metadata": {
        "id": "UZsjj8-BHhf1"
      },
      "execution_count": 24,
      "outputs": []
    },
    {
      "cell_type": "code",
      "source": [
        "from pyspark.sql.functions import *\n",
        "from pyspark.sql.types import *"
      ],
      "metadata": {
        "id": "dmwVjp0G2kFb"
      },
      "execution_count": 25,
      "outputs": []
    },
    {
      "cell_type": "markdown",
      "source": [
        "# Creating dummy dataframe"
      ],
      "metadata": {
        "id": "87c-U2TZKmtx"
      }
    },
    {
      "cell_type": "code",
      "source": [
        "data = [('Joy','ZS','M',46004),\n",
        "        ('ABC','ZS','M','12345')]\n",
        "\n",
        "columns = ['Name','Company','Gender','ID']\n",
        "\n",
        "df = spark.createDataFrame(data = data, schema = columns)\n",
        "df.show(truncate=False)"
      ],
      "metadata": {
        "colab": {
          "base_uri": "https://localhost:8080/"
        },
        "id": "vgpCp3KtIWHd",
        "outputId": "2c604699-ec2b-4c5a-a1a1-555bc9e6543a"
      },
      "execution_count": null,
      "outputs": [
        {
          "output_type": "stream",
          "name": "stdout",
          "text": [
            "+----+-------+------+-----+\n",
            "|Name|Company|Gender|ID   |\n",
            "+----+-------+------+-----+\n",
            "|Joy |ZS     |M     |46004|\n",
            "|ABC |ZS     |M     |12345|\n",
            "+----+-------+------+-----+\n",
            "\n"
          ]
        }
      ]
    },
    {
      "cell_type": "markdown",
      "source": [
        "# Importing dataframe from csv"
      ],
      "metadata": {
        "id": "LB7X6p7jKtZy"
      }
    },
    {
      "cell_type": "code",
      "source": [
        "df2 = spark.read.option(\"header\",\"true\").csv(\"QUERY4.csv\")"
      ],
      "metadata": {
        "id": "7pL74XkHHwsx"
      },
      "execution_count": null,
      "outputs": []
    },
    {
      "cell_type": "code",
      "source": [
        "df2.printSchema()"
      ],
      "metadata": {
        "colab": {
          "base_uri": "https://localhost:8080/"
        },
        "id": "cNPNahoVJdRj",
        "outputId": "7bfc6253-f1c4-447a-fff3-571713e14d9f"
      },
      "execution_count": null,
      "outputs": [
        {
          "output_type": "stream",
          "name": "stdout",
          "text": [
            "root\n",
            " |-- geo_name: string (nullable = true)\n",
            " |-- total_trx_units_sales_district: string (nullable = true)\n",
            "\n"
          ]
        }
      ]
    },
    {
      "cell_type": "code",
      "source": [
        "df2.show()"
      ],
      "metadata": {
        "colab": {
          "base_uri": "https://localhost:8080/"
        },
        "id": "AOgcjtJ6LB_k",
        "outputId": "7e1b9dc2-b853-432a-869a-adc4c0dca9a8"
      },
      "execution_count": null,
      "outputs": [
        {
          "output_type": "stream",
          "name": "stdout",
          "text": [
            "+-----------+------------------------------+\n",
            "|   geo_name|total_trx_units_sales_district|\n",
            "+-----------+------------------------------+\n",
            "| District 1|                         86509|\n",
            "| District 1|                         86509|\n",
            "|District 21|                         68442|\n",
            "|District 31|                         68270|\n",
            "|District 16|                         68242|\n",
            "|District 13|                         68231|\n",
            "|District 30|                         68230|\n",
            "| District 6|                         68214|\n",
            "|District 10|                         68214|\n",
            "|District 26|                         68190|\n",
            "| District 3|                         68185|\n",
            "+-----------+------------------------------+\n",
            "\n"
          ]
        }
      ]
    },
    {
      "cell_type": "code",
      "source": [
        "df2 = df2.withColumnRenamed(\"total_trx_units_sales_district\",\"sales\")\n"
      ],
      "metadata": {
        "id": "FWMDYYUhL8MO"
      },
      "execution_count": null,
      "outputs": []
    },
    {
      "cell_type": "code",
      "source": [
        "df2 = df2.withColumn('ID',df2['sales'].cast('int'))"
      ],
      "metadata": {
        "id": "0GYYnc3MMGfM"
      },
      "execution_count": null,
      "outputs": []
    },
    {
      "cell_type": "markdown",
      "source": [
        "Creating temporary view from a df"
      ],
      "metadata": {
        "id": "uo_L9NNoKy4u"
      }
    },
    {
      "cell_type": "code",
      "source": [
        "df2.createOrReplaceTempView(\"Temp_table\")"
      ],
      "metadata": {
        "id": "VjSNhpg8JfqD"
      },
      "execution_count": null,
      "outputs": []
    },
    {
      "cell_type": "code",
      "source": [
        "querydf = spark.sql(\"SELECT sum(sales) from temp_table group by geo_name\")"
      ],
      "metadata": {
        "id": "7f1xMG_DKOoq"
      },
      "execution_count": null,
      "outputs": []
    },
    {
      "cell_type": "code",
      "source": [
        "querydf.show()"
      ],
      "metadata": {
        "colab": {
          "base_uri": "https://localhost:8080/"
        },
        "id": "wNqGWHKcKYFI",
        "outputId": "5b0fa219-fad9-484d-ce6a-a2d61d44d275"
      },
      "execution_count": null,
      "outputs": [
        {
          "output_type": "stream",
          "name": "stdout",
          "text": [
            "+----------+\n",
            "|sum(sales)|\n",
            "+----------+\n",
            "|   68214.0|\n",
            "|   68190.0|\n",
            "|   68231.0|\n",
            "|   68442.0|\n",
            "|   68270.0|\n",
            "|   68242.0|\n",
            "|   68185.0|\n",
            "|   68214.0|\n",
            "|  173018.0|\n",
            "|   68230.0|\n",
            "+----------+\n",
            "\n"
          ]
        }
      ]
    },
    {
      "cell_type": "markdown",
      "source": [
        "# RDD"
      ],
      "metadata": {
        "id": "obSf1BJzqi8z"
      }
    },
    {
      "cell_type": "code",
      "source": [
        "rdd = spark.sparkContext.parallelize([1,2,3,4,5])"
      ],
      "metadata": {
        "id": "3vD-Ke7LKZyK"
      },
      "execution_count": null,
      "outputs": []
    },
    {
      "cell_type": "code",
      "source": [
        "print(rdd.collect())"
      ],
      "metadata": {
        "colab": {
          "base_uri": "https://localhost:8080/"
        },
        "id": "SiF9KVAcq6AO",
        "outputId": "e5b7b27a-2224-4504-9de9-100d2e588c79"
      },
      "execution_count": null,
      "outputs": [
        {
          "output_type": "stream",
          "name": "stdout",
          "text": [
            "[1, 2, 3, 4, 5]\n"
          ]
        }
      ]
    },
    {
      "cell_type": "code",
      "source": [
        "dataseq = [(\"Java\",20000),(\"Python\", 10000),(\"Scala\",30000)]\n",
        "rdd = sc.parallelize(dataseq)"
      ],
      "metadata": {
        "id": "hBGw8N1CxPRd"
      },
      "execution_count": null,
      "outputs": []
    },
    {
      "cell_type": "code",
      "source": [
        "print(rdd.collect())"
      ],
      "metadata": {
        "colab": {
          "base_uri": "https://localhost:8080/"
        },
        "id": "M7kUoUHHx371",
        "outputId": "f782217e-f6b0-4e28-ac21-04d2eb19733a"
      },
      "execution_count": null,
      "outputs": [
        {
          "output_type": "stream",
          "name": "stdout",
          "text": [
            "[('Java', 20000), ('Python', 10000), ('Scala', 30000)]\n"
          ]
        }
      ]
    },
    {
      "cell_type": "code",
      "source": [
        "rdd_csv = sc.textFile(\"QUERY4.csv\")"
      ],
      "metadata": {
        "id": "fUOhbYSSx_UK"
      },
      "execution_count": null,
      "outputs": []
    },
    {
      "cell_type": "code",
      "source": [
        "print(rdd_csv.collect())"
      ],
      "metadata": {
        "colab": {
          "base_uri": "https://localhost:8080/"
        },
        "id": "IxdpS3eVyx6n",
        "outputId": "017ed29e-593b-4574-975d-d8341268bb46"
      },
      "execution_count": null,
      "outputs": [
        {
          "output_type": "stream",
          "name": "stdout",
          "text": [
            "['geo_name,total_trx_units_sales_district', 'District 1,86509', 'District 1,86509', 'District 21,68442', 'District 31,68270', 'District 16,68242', 'District 13,68231', 'District 30,68230', 'District 6,68214', 'District 10,68214', 'District 26,68190', 'District 3,68185']\n"
          ]
        }
      ]
    },
    {
      "cell_type": "code",
      "source": [
        "rdd_csv = rdd_csv.map(lambda x: x.split(\",\"))"
      ],
      "metadata": {
        "id": "DJ9PTgKzyz7m"
      },
      "execution_count": null,
      "outputs": []
    },
    {
      "cell_type": "code",
      "source": [
        "for element in rdd_csv.collect():\n",
        "    print( element[0],\"\\t\",element[1])"
      ],
      "metadata": {
        "colab": {
          "base_uri": "https://localhost:8080/"
        },
        "id": "VdXxLp470x5s",
        "outputId": "21632259-703f-4e3f-cb50-f26bc034e25a"
      },
      "execution_count": null,
      "outputs": [
        {
          "output_type": "stream",
          "name": "stdout",
          "text": [
            "geo_name \t total_trx_units_sales_district\n",
            "District 1 \t 86509\n",
            "District 1 \t 86509\n",
            "District 21 \t 68442\n",
            "District 31 \t 68270\n",
            "District 16 \t 68242\n",
            "District 13 \t 68231\n",
            "District 30 \t 68230\n",
            "District 6 \t 68214\n",
            "District 10 \t 68214\n",
            "District 26 \t 68190\n",
            "District 3 \t 68185\n"
          ]
        }
      ]
    },
    {
      "cell_type": "code",
      "source": [],
      "metadata": {
        "id": "7_Uo_1ibzgxz"
      },
      "execution_count": null,
      "outputs": []
    },
    {
      "cell_type": "markdown",
      "source": [
        "# Pyspark tutorial"
      ],
      "metadata": {
        "id": "VNgfphFFzit4"
      }
    },
    {
      "cell_type": "code",
      "source": [
        "df = spark.read.format('csv').option('header',True).option('InferSchema',True).load('/content/drive/MyDrive/Pyspark/BigMart Sales.csv')"
      ],
      "metadata": {
        "id": "F_3QsLvbzlfI"
      },
      "execution_count": 26,
      "outputs": []
    },
    {
      "cell_type": "code",
      "source": [
        "df.show()"
      ],
      "metadata": {
        "colab": {
          "base_uri": "https://localhost:8080/"
        },
        "id": "PI3qMcI_0bs9",
        "outputId": "2ba9f1e7-6b2a-41e8-f068-3b745df156d9"
      },
      "execution_count": null,
      "outputs": [
        {
          "output_type": "stream",
          "name": "stdout",
          "text": [
            "+---------------+-----------+----------------+---------------+--------------------+--------+-----------------+-------------------------+-----------+--------------------+-----------------+-----------------+\n",
            "|Item_Identifier|Item_Weight|Item_Fat_Content|Item_Visibility|           Item_Type|Item_MRP|Outlet_Identifier|Outlet_Establishment_Year|Outlet_Size|Outlet_Location_Type|      Outlet_Type|Item_Outlet_Sales|\n",
            "+---------------+-----------+----------------+---------------+--------------------+--------+-----------------+-------------------------+-----------+--------------------+-----------------+-----------------+\n",
            "|          FDA15|        9.3|         Low Fat|    0.016047301|               Dairy|249.8092|           OUT049|                     1999|     Medium|              Tier 1|Supermarket Type1|         3735.138|\n",
            "|          DRC01|       5.92|         Regular|    0.019278216|         Soft Drinks| 48.2692|           OUT018|                     2009|     Medium|              Tier 3|Supermarket Type2|         443.4228|\n",
            "|          FDN15|       17.5|         Low Fat|    0.016760075|                Meat| 141.618|           OUT049|                     1999|     Medium|              Tier 1|Supermarket Type1|          2097.27|\n",
            "|          FDX07|       19.2|         Regular|              0|Fruits and Vegeta...| 182.095|           OUT010|                     1998|       NULL|              Tier 3|    Grocery Store|           732.38|\n",
            "|          NCD19|       8.93|         Low Fat|              0|           Household| 53.8614|           OUT013|                     1987|       High|              Tier 3|Supermarket Type1|         994.7052|\n",
            "|          FDP36|     10.395|         Regular|              0|        Baking Goods| 51.4008|           OUT018|                     2009|     Medium|              Tier 3|Supermarket Type2|         556.6088|\n",
            "|          FDO10|      13.65|         Regular|    0.012741089|         Snack Foods| 57.6588|           OUT013|                     1987|       High|              Tier 3|Supermarket Type1|         343.5528|\n",
            "|          FDP10|       NULL|         Low Fat|    0.127469857|         Snack Foods|107.7622|           OUT027|                     1985|     Medium|              Tier 3|Supermarket Type3|        4022.7636|\n",
            "|          FDH17|       16.2|         Regular|    0.016687114|        Frozen Foods| 96.9726|           OUT045|                     2002|       NULL|              Tier 2|Supermarket Type1|        1076.5986|\n",
            "|          FDU28|       19.2|         Regular|     0.09444959|        Frozen Foods|187.8214|           OUT017|                     2007|       NULL|              Tier 2|Supermarket Type1|         4710.535|\n",
            "|          FDY07|       11.8|         Low Fat|              0|Fruits and Vegeta...| 45.5402|           OUT049|                     1999|     Medium|              Tier 1|Supermarket Type1|        1516.0266|\n",
            "|          FDA03|       18.5|         Regular|    0.045463773|               Dairy|144.1102|           OUT046|                     1997|      Small|              Tier 1|Supermarket Type1|         2187.153|\n",
            "|          FDX32|       15.1|         Regular|      0.1000135|Fruits and Vegeta...|145.4786|           OUT049|                     1999|     Medium|              Tier 1|Supermarket Type1|        1589.2646|\n",
            "|          FDS46|       17.6|         Regular|    0.047257328|         Snack Foods|119.6782|           OUT046|                     1997|      Small|              Tier 1|Supermarket Type1|        2145.2076|\n",
            "|          FDF32|      16.35|         Low Fat|      0.0680243|Fruits and Vegeta...|196.4426|           OUT013|                     1987|       High|              Tier 3|Supermarket Type1|         1977.426|\n",
            "|          FDP49|          9|         Regular|    0.069088961|           Breakfast| 56.3614|           OUT046|                     1997|      Small|              Tier 1|Supermarket Type1|        1547.3192|\n",
            "|          NCB42|       11.8|         Low Fat|    0.008596051|  Health and Hygiene|115.3492|           OUT018|                     2009|     Medium|              Tier 3|Supermarket Type2|        1621.8888|\n",
            "|          FDP49|          9|         Regular|    0.069196376|           Breakfast| 54.3614|           OUT049|                     1999|     Medium|              Tier 1|Supermarket Type1|         718.3982|\n",
            "|          DRI11|       NULL|         Low Fat|    0.034237682|         Hard Drinks|113.2834|           OUT027|                     1985|     Medium|              Tier 3|Supermarket Type3|         2303.668|\n",
            "|          FDU02|      13.35|         Low Fat|     0.10249212|               Dairy|230.5352|           OUT035|                     2004|      Small|              Tier 2|Supermarket Type1|        2748.4224|\n",
            "+---------------+-----------+----------------+---------------+--------------------+--------+-----------------+-------------------------+-----------+--------------------+-----------------+-----------------+\n",
            "only showing top 20 rows\n",
            "\n"
          ]
        }
      ]
    },
    {
      "cell_type": "markdown",
      "source": [
        "## Select transformation"
      ],
      "metadata": {
        "id": "sG7oEIsU24jk"
      }
    },
    {
      "cell_type": "code",
      "source": [
        "df.select(col('Item_Identifier'),col('Item_Weight')).show()"
      ],
      "metadata": {
        "colab": {
          "base_uri": "https://localhost:8080/"
        },
        "id": "0r5kTqLi00nK",
        "outputId": "353f8514-2ac4-432a-ff23-88e12e2a9bc6"
      },
      "execution_count": null,
      "outputs": [
        {
          "output_type": "stream",
          "name": "stdout",
          "text": [
            "+---------------+-----------+\n",
            "|Item_Identifier|Item_Weight|\n",
            "+---------------+-----------+\n",
            "|          FDA15|        9.3|\n",
            "|          DRC01|       5.92|\n",
            "|          FDN15|       17.5|\n",
            "|          FDX07|       19.2|\n",
            "|          NCD19|       8.93|\n",
            "|          FDP36|     10.395|\n",
            "|          FDO10|      13.65|\n",
            "|          FDP10|       NULL|\n",
            "|          FDH17|       16.2|\n",
            "|          FDU28|       19.2|\n",
            "|          FDY07|       11.8|\n",
            "|          FDA03|       18.5|\n",
            "|          FDX32|       15.1|\n",
            "|          FDS46|       17.6|\n",
            "|          FDF32|      16.35|\n",
            "|          FDP49|          9|\n",
            "|          NCB42|       11.8|\n",
            "|          FDP49|          9|\n",
            "|          DRI11|       NULL|\n",
            "|          FDU02|      13.35|\n",
            "+---------------+-----------+\n",
            "only showing top 20 rows\n",
            "\n"
          ]
        }
      ]
    },
    {
      "cell_type": "markdown",
      "source": [
        "## Alias"
      ],
      "metadata": {
        "id": "NYKI86Sy28AK"
      }
    },
    {
      "cell_type": "code",
      "source": [
        "df.select(col('Item_Identifier').alias('ID'),col('Item_Weight').alias('Weight')).show()"
      ],
      "metadata": {
        "colab": {
          "base_uri": "https://localhost:8080/"
        },
        "id": "fW2qX1md2Yp1",
        "outputId": "77042efd-142f-46c0-ea1b-e746b87b3b42"
      },
      "execution_count": null,
      "outputs": [
        {
          "output_type": "stream",
          "name": "stdout",
          "text": [
            "+-----+------+\n",
            "|   ID|Weight|\n",
            "+-----+------+\n",
            "|FDA15|   9.3|\n",
            "|DRC01|  5.92|\n",
            "|FDN15|  17.5|\n",
            "|FDX07|  19.2|\n",
            "|NCD19|  8.93|\n",
            "|FDP36|10.395|\n",
            "|FDO10| 13.65|\n",
            "|FDP10|  NULL|\n",
            "|FDH17|  16.2|\n",
            "|FDU28|  19.2|\n",
            "|FDY07|  11.8|\n",
            "|FDA03|  18.5|\n",
            "|FDX32|  15.1|\n",
            "|FDS46|  17.6|\n",
            "|FDF32| 16.35|\n",
            "|FDP49|     9|\n",
            "|NCB42|  11.8|\n",
            "|FDP49|     9|\n",
            "|DRI11|  NULL|\n",
            "|FDU02| 13.35|\n",
            "+-----+------+\n",
            "only showing top 20 rows\n",
            "\n"
          ]
        }
      ]
    },
    {
      "cell_type": "markdown",
      "source": [
        "## Filter"
      ],
      "metadata": {
        "id": "LEXGGBQtczoD"
      }
    },
    {
      "cell_type": "code",
      "source": [
        "\n",
        "#df.filter(col('Item_Fat_Content')=='Regular').show()\n",
        "df.filter((col('Item_Type')=='Soft Drinks') & (col('Item_Weight') < 10)).show()"
      ],
      "metadata": {
        "id": "AEb9h8RS3S6k",
        "colab": {
          "base_uri": "https://localhost:8080/"
        },
        "outputId": "3d1c7b17-3781-4ec1-a380-539fe0c0749b"
      },
      "execution_count": null,
      "outputs": [
        {
          "output_type": "stream",
          "name": "stdout",
          "text": [
            "+---------------+-----------+----------------+---------------+-----------+--------+-----------------+-------------------------+-----------+--------------------+-----------------+-----------------+----------+----------+--------+\n",
            "|Item_Identifier|Item_Weight|Item_Fat_Content|Item_Visibility|  Item_Type|Item_MRP|Outlet_Identifier|Outlet_Establishment_Year|Outlet_Size|Outlet_Location_Type|      Outlet_Type|Item_Outlet_Sales|  currdate|   newdate|datediff|\n",
            "+---------------+-----------+----------------+---------------+-----------+--------+-----------------+-------------------------+-----------+--------------------+-----------------+-----------------+----------+----------+--------+\n",
            "|          DRC01|       5.92|         Regular|    0.019278216|Soft Drinks| 48.2692|           OUT018|                     2009|     Medium|              Tier 3|Supermarket Type2|         443.4228|2025-01-28|2025-02-07|      10|\n",
            "|          DRZ11|       8.85|         Regular|    0.113123893|Soft Drinks|122.5388|           OUT018|                     2009|     Medium|              Tier 3|Supermarket Type2|        1609.9044|2025-01-28|2025-02-07|      10|\n",
            "|          DRF49|       7.27|         Low Fat|    0.071077939|Soft Drinks|114.2518|           OUT046|                     1997|      Small|              Tier 1|Supermarket Type1|        2618.5914|2025-01-28|2025-02-07|      10|\n",
            "|          DRK12|        9.5|              LF|    0.041878397|Soft Drinks|   32.99|           OUT035|                     2004|      Small|              Tier 2|Supermarket Type1|           133.16|2025-01-28|2025-02-07|      10|\n",
            "|          DRK01|       7.63|         Low Fat|     0.06105276|Soft Drinks| 95.4436|           OUT035|                     2004|      Small|              Tier 2|Supermarket Type1|         1418.154|2025-01-28|2025-02-07|      10|\n",
            "|          DRF49|       7.27|         Low Fat|    0.071222087|Soft Drinks|113.5518|           OUT045|                     2002|       NULL|              Tier 2|Supermarket Type1|          569.259|2025-01-28|2025-02-07|      10|\n",
            "|          DRE60|      9.395|         Low Fat|    0.159657596|Soft Drinks| 224.972|           OUT045|                     2002|       NULL|              Tier 2|Supermarket Type1|         7696.648|2025-01-28|2025-02-07|      10|\n",
            "|          DRI01|       7.97|         Low Fat|    0.034452949|Soft Drinks|174.0422|           OUT046|                     1997|      Small|              Tier 1|Supermarket Type1|         2586.633|2025-01-28|2025-02-07|      10|\n",
            "|          DRD37|        9.8|         Low Fat|    0.013898123|Soft Drinks|  46.506|           OUT018|                     2009|     Medium|              Tier 3|Supermarket Type2|          372.848|2025-01-28|2025-02-07|      10|\n",
            "|          DRH13|      8.575|         Low Fat|    0.023983258|Soft Drinks| 106.328|           OUT018|                     2009|     Medium|              Tier 3|Supermarket Type2|          958.752|2025-01-28|2025-02-07|      10|\n",
            "|          DRK37|          5|         Low Fat|    0.044004675|Soft Drinks| 188.853|           OUT046|                     1997|      Small|              Tier 1|Supermarket Type1|         5502.837|2025-01-28|2025-02-07|      10|\n",
            "|          DRF01|      5.655|         Low Fat|    0.175352413|Soft Drinks|147.4102|           OUT049|                     1999|     Medium|              Tier 1|Supermarket Type1|        2478.7734|2025-01-28|2025-02-07|      10|\n",
            "|          DRE13|       6.28|         Low Fat|    0.027699863|Soft Drinks| 87.9198|           OUT035|                     2004|      Small|              Tier 2|Supermarket Type1|        1221.0772|2025-01-28|2025-02-07|      10|\n",
            "|          DRD49|      9.895|         Low Fat|    0.167799329|Soft Drinks|239.4564|           OUT035|                     2004|      Small|              Tier 2|Supermarket Type1|        5243.8408|2025-01-28|2025-02-07|      10|\n",
            "|          DRK12|        9.5|         Low Fat|              0|Soft Drinks|   32.89|           OUT010|                     1998|       NULL|              Tier 3|    Grocery Store|            33.29|2025-01-28|2025-02-07|      10|\n",
            "|          DRE60|      9.395|         Low Fat|    0.159582185|Soft Drinks| 224.772|           OUT049|                     1999|     Medium|              Tier 1|Supermarket Type1|         7017.532|2025-01-28|2025-02-07|      10|\n",
            "|          DRE12|       4.59|         Low Fat|    0.070890602|Soft Drinks| 111.686|           OUT049|                     1999|     Medium|              Tier 1|Supermarket Type1|         1584.604|2025-01-28|2025-02-07|      10|\n",
            "|          DRY23|      9.395|         Regular|    0.109075742|Soft Drinks| 42.9112|           OUT035|                     2004|      Small|              Tier 2|Supermarket Type1|          426.112|2025-01-28|2025-02-07|      10|\n",
            "|          DRE13|       6.28|         Low Fat|    0.027761289|Soft Drinks| 85.8198|           OUT045|                     2002|       NULL|              Tier 2|Supermarket Type1|          872.198|2025-01-28|2025-02-07|      10|\n",
            "|          DRZ24|      7.535|         Low Fat|    0.082250143|Soft Drinks| 118.344|           OUT017|                     2007|       NULL|              Tier 2|Supermarket Type1|         3115.944|2025-01-28|2025-02-07|      10|\n",
            "+---------------+-----------+----------------+---------------+-----------+--------+-----------------+-------------------------+-----------+--------------------+-----------------+-----------------+----------+----------+--------+\n",
            "only showing top 20 rows\n",
            "\n"
          ]
        }
      ]
    },
    {
      "cell_type": "code",
      "source": [
        "df.filter((col('Outlet_Size').isNull()) & (col('Outlet_Location_Type').isin('Tier 1','Tier 2'))).show()"
      ],
      "metadata": {
        "colab": {
          "base_uri": "https://localhost:8080/"
        },
        "id": "Db9BOAw4d30u",
        "outputId": "4b3e5930-2ac5-45a9-9720-41c665d89773"
      },
      "execution_count": null,
      "outputs": [
        {
          "output_type": "stream",
          "name": "stdout",
          "text": [
            "+---------------+-----------+----------------+---------------+--------------------+--------+-----------------+-------------------------+-----------+--------------------+-----------------+-----------------+\n",
            "|Item_Identifier|Item_Weight|Item_Fat_Content|Item_Visibility|           Item_Type|Item_MRP|Outlet_Identifier|Outlet_Establishment_Year|Outlet_Size|Outlet_Location_Type|      Outlet_Type|Item_Outlet_Sales|\n",
            "+---------------+-----------+----------------+---------------+--------------------+--------+-----------------+-------------------------+-----------+--------------------+-----------------+-----------------+\n",
            "|          FDH17|       16.2|         Regular|    0.016687114|        Frozen Foods| 96.9726|           OUT045|                     2002|       NULL|              Tier 2|Supermarket Type1|        1076.5986|\n",
            "|          FDU28|       19.2|         Regular|     0.09444959|        Frozen Foods|187.8214|           OUT017|                     2007|       NULL|              Tier 2|Supermarket Type1|         4710.535|\n",
            "|          NCD06|         13|         Low Fat|    0.099887103|           Household|  45.906|           OUT017|                     2007|       NULL|              Tier 2|Supermarket Type1|          838.908|\n",
            "|          FDO23|      17.85|         Low Fat|              0|              Breads| 93.1436|           OUT045|                     2002|       NULL|              Tier 2|Supermarket Type1|        2174.5028|\n",
            "|          NCP05|       19.6|         Low Fat|              0|  Health and Hygiene|153.3024|           OUT045|                     2002|       NULL|              Tier 2|Supermarket Type1|        2428.8384|\n",
            "|          FDV49|         10|         Low Fat|    0.025879577|              Canned|265.2226|           OUT045|                     2002|       NULL|              Tier 2|Supermarket Type1|        5815.0972|\n",
            "|          FDA43|     10.895|         Low Fat|    0.065041581|Fruits and Vegeta...|196.3794|           OUT017|                     2007|       NULL|              Tier 2|Supermarket Type1|        3121.2704|\n",
            "|          NCP18|      12.15|         Low Fat|    0.028760013|           Household|151.4708|           OUT017|                     2007|       NULL|              Tier 2|Supermarket Type1|        4815.0656|\n",
            "|          NCX54|      9.195|         Low Fat|    0.048157338|           Household|106.1622|           OUT045|                     2002|       NULL|              Tier 2|Supermarket Type1|         2117.244|\n",
            "|          FDV27|       7.97|         Regular|    0.040071131|                Meat| 87.3514|           OUT045|                     2002|       NULL|              Tier 2|Supermarket Type1|        1062.6168|\n",
            "|          FDZ03|      13.65|         Regular|    0.078946455|               Dairy| 186.024|           OUT045|                     2002|       NULL|              Tier 2|Supermarket Type1|         1118.544|\n",
            "|          DRH37|       17.6|         Low Fat|    0.041700756|         Soft Drinks|164.8526|           OUT045|                     2002|       NULL|              Tier 2|Supermarket Type1|        2302.3364|\n",
            "|          FDH35|      18.25|         Low Fat|              0|       Starchy Foods|164.7526|           OUT045|                     2002|       NULL|              Tier 2|Supermarket Type1|        4604.6728|\n",
            "|          FDG02|      7.855|         Low Fat|    0.011324862|              Canned|189.6188|           OUT017|                     2007|       NULL|              Tier 2|Supermarket Type1|        2285.0256|\n",
            "|          FDL04|         19|         Low Fat|    0.112556507|        Frozen Foods|104.9622|           OUT017|                     2007|       NULL|              Tier 2|Supermarket Type1|         1587.933|\n",
            "|          FDV25|      5.905|         Low Fat|              0|              Canned|222.5456|           OUT045|                     2002|       NULL|              Tier 2|Supermarket Type1|        5305.0944|\n",
            "|          FDG20|       15.5|         Regular|     0.12639886|Fruits and Vegeta...|177.0028|           OUT017|                     2007|       NULL|              Tier 2|Supermarket Type1|        2479.4392|\n",
            "|          DRI25|       19.6|         Low Fat|    0.033970195|         Soft Drinks| 55.1614|           OUT045|                     2002|       NULL|              Tier 2|Supermarket Type1|         1381.535|\n",
            "|          FDT28|       13.3|         Low Fat|    0.063695084|        Frozen Foods|151.0708|           OUT045|                     2002|       NULL|              Tier 2|Supermarket Type1|        1805.6496|\n",
            "|          FDG12|      6.635|         Regular|              0|        Baking Goods|121.3098|           OUT045|                     2002|       NULL|              Tier 2|Supermarket Type1|        2530.7058|\n",
            "+---------------+-----------+----------------+---------------+--------------------+--------+-----------------+-------------------------+-----------+--------------------+-----------------+-----------------+\n",
            "only showing top 20 rows\n",
            "\n"
          ]
        }
      ]
    },
    {
      "cell_type": "markdown",
      "source": [
        "## With column rename"
      ],
      "metadata": {
        "id": "KH2CWRKCfFGs"
      }
    },
    {
      "cell_type": "code",
      "source": [
        "df.withColumnRenamed('Item_Weight','Wt').show()"
      ],
      "metadata": {
        "colab": {
          "base_uri": "https://localhost:8080/"
        },
        "id": "o0RxQ3KffDIF",
        "outputId": "3d6387ed-8350-4032-fb2e-66cf3d4bc78b"
      },
      "execution_count": null,
      "outputs": [
        {
          "output_type": "stream",
          "name": "stdout",
          "text": [
            "+---------------+------+----------------+---------------+--------------------+--------+-----------------+-------------------------+-----------+--------------------+-----------------+-----------------+\n",
            "|Item_Identifier|    Wt|Item_Fat_Content|Item_Visibility|           Item_Type|Item_MRP|Outlet_Identifier|Outlet_Establishment_Year|Outlet_Size|Outlet_Location_Type|      Outlet_Type|Item_Outlet_Sales|\n",
            "+---------------+------+----------------+---------------+--------------------+--------+-----------------+-------------------------+-----------+--------------------+-----------------+-----------------+\n",
            "|          FDA15|   9.3|         Low Fat|    0.016047301|               Dairy|249.8092|           OUT049|                     1999|     Medium|              Tier 1|Supermarket Type1|         3735.138|\n",
            "|          DRC01|  5.92|         Regular|    0.019278216|         Soft Drinks| 48.2692|           OUT018|                     2009|     Medium|              Tier 3|Supermarket Type2|         443.4228|\n",
            "|          FDN15|  17.5|         Low Fat|    0.016760075|                Meat| 141.618|           OUT049|                     1999|     Medium|              Tier 1|Supermarket Type1|          2097.27|\n",
            "|          FDX07|  19.2|         Regular|              0|Fruits and Vegeta...| 182.095|           OUT010|                     1998|       NULL|              Tier 3|    Grocery Store|           732.38|\n",
            "|          NCD19|  8.93|         Low Fat|              0|           Household| 53.8614|           OUT013|                     1987|       High|              Tier 3|Supermarket Type1|         994.7052|\n",
            "|          FDP36|10.395|         Regular|              0|        Baking Goods| 51.4008|           OUT018|                     2009|     Medium|              Tier 3|Supermarket Type2|         556.6088|\n",
            "|          FDO10| 13.65|         Regular|    0.012741089|         Snack Foods| 57.6588|           OUT013|                     1987|       High|              Tier 3|Supermarket Type1|         343.5528|\n",
            "|          FDP10|  NULL|         Low Fat|    0.127469857|         Snack Foods|107.7622|           OUT027|                     1985|     Medium|              Tier 3|Supermarket Type3|        4022.7636|\n",
            "|          FDH17|  16.2|         Regular|    0.016687114|        Frozen Foods| 96.9726|           OUT045|                     2002|       NULL|              Tier 2|Supermarket Type1|        1076.5986|\n",
            "|          FDU28|  19.2|         Regular|     0.09444959|        Frozen Foods|187.8214|           OUT017|                     2007|       NULL|              Tier 2|Supermarket Type1|         4710.535|\n",
            "|          FDY07|  11.8|         Low Fat|              0|Fruits and Vegeta...| 45.5402|           OUT049|                     1999|     Medium|              Tier 1|Supermarket Type1|        1516.0266|\n",
            "|          FDA03|  18.5|         Regular|    0.045463773|               Dairy|144.1102|           OUT046|                     1997|      Small|              Tier 1|Supermarket Type1|         2187.153|\n",
            "|          FDX32|  15.1|         Regular|      0.1000135|Fruits and Vegeta...|145.4786|           OUT049|                     1999|     Medium|              Tier 1|Supermarket Type1|        1589.2646|\n",
            "|          FDS46|  17.6|         Regular|    0.047257328|         Snack Foods|119.6782|           OUT046|                     1997|      Small|              Tier 1|Supermarket Type1|        2145.2076|\n",
            "|          FDF32| 16.35|         Low Fat|      0.0680243|Fruits and Vegeta...|196.4426|           OUT013|                     1987|       High|              Tier 3|Supermarket Type1|         1977.426|\n",
            "|          FDP49|     9|         Regular|    0.069088961|           Breakfast| 56.3614|           OUT046|                     1997|      Small|              Tier 1|Supermarket Type1|        1547.3192|\n",
            "|          NCB42|  11.8|         Low Fat|    0.008596051|  Health and Hygiene|115.3492|           OUT018|                     2009|     Medium|              Tier 3|Supermarket Type2|        1621.8888|\n",
            "|          FDP49|     9|         Regular|    0.069196376|           Breakfast| 54.3614|           OUT049|                     1999|     Medium|              Tier 1|Supermarket Type1|         718.3982|\n",
            "|          DRI11|  NULL|         Low Fat|    0.034237682|         Hard Drinks|113.2834|           OUT027|                     1985|     Medium|              Tier 3|Supermarket Type3|         2303.668|\n",
            "|          FDU02| 13.35|         Low Fat|     0.10249212|               Dairy|230.5352|           OUT035|                     2004|      Small|              Tier 2|Supermarket Type1|        2748.4224|\n",
            "+---------------+------+----------------+---------------+--------------------+--------+-----------------+-------------------------+-----------+--------------------+-----------------+-----------------+\n",
            "only showing top 20 rows\n",
            "\n"
          ]
        }
      ]
    },
    {
      "cell_type": "markdown",
      "source": [
        "## with column"
      ],
      "metadata": {
        "id": "E4aCe0qTfgQ0"
      }
    },
    {
      "cell_type": "markdown",
      "source": [
        "### new column"
      ],
      "metadata": {
        "id": "adiGjIdhfwVN"
      }
    },
    {
      "cell_type": "code",
      "source": [
        "df = df.withColumn('Flag',lit(1))"
      ],
      "metadata": {
        "id": "ZQ-uc0I7dHvK"
      },
      "execution_count": null,
      "outputs": []
    },
    {
      "cell_type": "code",
      "source": [
        "df.show()"
      ],
      "metadata": {
        "colab": {
          "base_uri": "https://localhost:8080/"
        },
        "id": "78tmo3cWgABE",
        "outputId": "541cb091-4cd5-4bd7-ab94-8c834ce7d993"
      },
      "execution_count": null,
      "outputs": [
        {
          "output_type": "stream",
          "name": "stdout",
          "text": [
            "+---------------+-----------+----------------+---------------+--------------------+--------+-----------------+-------------------------+-----------+--------------------+-----------------+-----------------+----+\n",
            "|Item_Identifier|Item_Weight|Item_Fat_Content|Item_Visibility|           Item_Type|Item_MRP|Outlet_Identifier|Outlet_Establishment_Year|Outlet_Size|Outlet_Location_Type|      Outlet_Type|Item_Outlet_Sales|Flag|\n",
            "+---------------+-----------+----------------+---------------+--------------------+--------+-----------------+-------------------------+-----------+--------------------+-----------------+-----------------+----+\n",
            "|          FDA15|        9.3|         Low Fat|    0.016047301|               Dairy|249.8092|           OUT049|                     1999|     Medium|              Tier 1|Supermarket Type1|         3735.138|   1|\n",
            "|          DRC01|       5.92|         Regular|    0.019278216|         Soft Drinks| 48.2692|           OUT018|                     2009|     Medium|              Tier 3|Supermarket Type2|         443.4228|   1|\n",
            "|          FDN15|       17.5|         Low Fat|    0.016760075|                Meat| 141.618|           OUT049|                     1999|     Medium|              Tier 1|Supermarket Type1|          2097.27|   1|\n",
            "|          FDX07|       19.2|         Regular|              0|Fruits and Vegeta...| 182.095|           OUT010|                     1998|       NULL|              Tier 3|    Grocery Store|           732.38|   1|\n",
            "|          NCD19|       8.93|         Low Fat|              0|           Household| 53.8614|           OUT013|                     1987|       High|              Tier 3|Supermarket Type1|         994.7052|   1|\n",
            "|          FDP36|     10.395|         Regular|              0|        Baking Goods| 51.4008|           OUT018|                     2009|     Medium|              Tier 3|Supermarket Type2|         556.6088|   1|\n",
            "|          FDO10|      13.65|         Regular|    0.012741089|         Snack Foods| 57.6588|           OUT013|                     1987|       High|              Tier 3|Supermarket Type1|         343.5528|   1|\n",
            "|          FDP10|       NULL|         Low Fat|    0.127469857|         Snack Foods|107.7622|           OUT027|                     1985|     Medium|              Tier 3|Supermarket Type3|        4022.7636|   1|\n",
            "|          FDH17|       16.2|         Regular|    0.016687114|        Frozen Foods| 96.9726|           OUT045|                     2002|       NULL|              Tier 2|Supermarket Type1|        1076.5986|   1|\n",
            "|          FDU28|       19.2|         Regular|     0.09444959|        Frozen Foods|187.8214|           OUT017|                     2007|       NULL|              Tier 2|Supermarket Type1|         4710.535|   1|\n",
            "|          FDY07|       11.8|         Low Fat|              0|Fruits and Vegeta...| 45.5402|           OUT049|                     1999|     Medium|              Tier 1|Supermarket Type1|        1516.0266|   1|\n",
            "|          FDA03|       18.5|         Regular|    0.045463773|               Dairy|144.1102|           OUT046|                     1997|      Small|              Tier 1|Supermarket Type1|         2187.153|   1|\n",
            "|          FDX32|       15.1|         Regular|      0.1000135|Fruits and Vegeta...|145.4786|           OUT049|                     1999|     Medium|              Tier 1|Supermarket Type1|        1589.2646|   1|\n",
            "|          FDS46|       17.6|         Regular|    0.047257328|         Snack Foods|119.6782|           OUT046|                     1997|      Small|              Tier 1|Supermarket Type1|        2145.2076|   1|\n",
            "|          FDF32|      16.35|         Low Fat|      0.0680243|Fruits and Vegeta...|196.4426|           OUT013|                     1987|       High|              Tier 3|Supermarket Type1|         1977.426|   1|\n",
            "|          FDP49|          9|         Regular|    0.069088961|           Breakfast| 56.3614|           OUT046|                     1997|      Small|              Tier 1|Supermarket Type1|        1547.3192|   1|\n",
            "|          NCB42|       11.8|         Low Fat|    0.008596051|  Health and Hygiene|115.3492|           OUT018|                     2009|     Medium|              Tier 3|Supermarket Type2|        1621.8888|   1|\n",
            "|          FDP49|          9|         Regular|    0.069196376|           Breakfast| 54.3614|           OUT049|                     1999|     Medium|              Tier 1|Supermarket Type1|         718.3982|   1|\n",
            "|          DRI11|       NULL|         Low Fat|    0.034237682|         Hard Drinks|113.2834|           OUT027|                     1985|     Medium|              Tier 3|Supermarket Type3|         2303.668|   1|\n",
            "|          FDU02|      13.35|         Low Fat|     0.10249212|               Dairy|230.5352|           OUT035|                     2004|      Small|              Tier 2|Supermarket Type1|        2748.4224|   1|\n",
            "+---------------+-----------+----------------+---------------+--------------------+--------+-----------------+-------------------------+-----------+--------------------+-----------------+-----------------+----+\n",
            "only showing top 20 rows\n",
            "\n"
          ]
        }
      ]
    },
    {
      "cell_type": "code",
      "source": [
        "df.withColumn('Multiply',col('Item_Weight')*col('Item_MRP')).show()"
      ],
      "metadata": {
        "colab": {
          "base_uri": "https://localhost:8080/"
        },
        "id": "2c_GGnpvgD79",
        "outputId": "d4f5948c-0c6f-4469-8bd5-5d1f250d3c0c"
      },
      "execution_count": null,
      "outputs": [
        {
          "output_type": "stream",
          "name": "stdout",
          "text": [
            "+---------------+-----------+----------------+---------------+--------------------+--------+-----------------+-------------------------+-----------+--------------------+-----------------+-----------------+----+------------------+\n",
            "|Item_Identifier|Item_Weight|Item_Fat_Content|Item_Visibility|           Item_Type|Item_MRP|Outlet_Identifier|Outlet_Establishment_Year|Outlet_Size|Outlet_Location_Type|      Outlet_Type|Item_Outlet_Sales|Flag|          Multiply|\n",
            "+---------------+-----------+----------------+---------------+--------------------+--------+-----------------+-------------------------+-----------+--------------------+-----------------+-----------------+----+------------------+\n",
            "|          FDA15|        9.3|         Low Fat|    0.016047301|               Dairy|249.8092|           OUT049|                     1999|     Medium|              Tier 1|Supermarket Type1|         3735.138|   1|2323.2255600000003|\n",
            "|          DRC01|       5.92|         Regular|    0.019278216|         Soft Drinks| 48.2692|           OUT018|                     2009|     Medium|              Tier 3|Supermarket Type2|         443.4228|   1|285.75366399999996|\n",
            "|          FDN15|       17.5|         Low Fat|    0.016760075|                Meat| 141.618|           OUT049|                     1999|     Medium|              Tier 1|Supermarket Type1|          2097.27|   1|          2478.315|\n",
            "|          FDX07|       19.2|         Regular|              0|Fruits and Vegeta...| 182.095|           OUT010|                     1998|       NULL|              Tier 3|    Grocery Store|           732.38|   1|3496.2239999999997|\n",
            "|          NCD19|       8.93|         Low Fat|              0|           Household| 53.8614|           OUT013|                     1987|       High|              Tier 3|Supermarket Type1|         994.7052|   1|        480.982302|\n",
            "|          FDP36|     10.395|         Regular|              0|        Baking Goods| 51.4008|           OUT018|                     2009|     Medium|              Tier 3|Supermarket Type2|         556.6088|   1| 534.3113159999999|\n",
            "|          FDO10|      13.65|         Regular|    0.012741089|         Snack Foods| 57.6588|           OUT013|                     1987|       High|              Tier 3|Supermarket Type1|         343.5528|   1|         787.04262|\n",
            "|          FDP10|       NULL|         Low Fat|    0.127469857|         Snack Foods|107.7622|           OUT027|                     1985|     Medium|              Tier 3|Supermarket Type3|        4022.7636|   1|              NULL|\n",
            "|          FDH17|       16.2|         Regular|    0.016687114|        Frozen Foods| 96.9726|           OUT045|                     2002|       NULL|              Tier 2|Supermarket Type1|        1076.5986|   1|1570.9561199999998|\n",
            "|          FDU28|       19.2|         Regular|     0.09444959|        Frozen Foods|187.8214|           OUT017|                     2007|       NULL|              Tier 2|Supermarket Type1|         4710.535|   1|        3606.17088|\n",
            "|          FDY07|       11.8|         Low Fat|              0|Fruits and Vegeta...| 45.5402|           OUT049|                     1999|     Medium|              Tier 1|Supermarket Type1|        1516.0266|   1|         537.37436|\n",
            "|          FDA03|       18.5|         Regular|    0.045463773|               Dairy|144.1102|           OUT046|                     1997|      Small|              Tier 1|Supermarket Type1|         2187.153|   1|         2666.0387|\n",
            "|          FDX32|       15.1|         Regular|      0.1000135|Fruits and Vegeta...|145.4786|           OUT049|                     1999|     Medium|              Tier 1|Supermarket Type1|        1589.2646|   1|2196.7268599999998|\n",
            "|          FDS46|       17.6|         Regular|    0.047257328|         Snack Foods|119.6782|           OUT046|                     1997|      Small|              Tier 1|Supermarket Type1|        2145.2076|   1|2106.3363200000003|\n",
            "|          FDF32|      16.35|         Low Fat|      0.0680243|Fruits and Vegeta...|196.4426|           OUT013|                     1987|       High|              Tier 3|Supermarket Type1|         1977.426|   1|        3211.83651|\n",
            "|          FDP49|          9|         Regular|    0.069088961|           Breakfast| 56.3614|           OUT046|                     1997|      Small|              Tier 1|Supermarket Type1|        1547.3192|   1|507.25260000000003|\n",
            "|          NCB42|       11.8|         Low Fat|    0.008596051|  Health and Hygiene|115.3492|           OUT018|                     2009|     Medium|              Tier 3|Supermarket Type2|        1621.8888|   1|        1361.12056|\n",
            "|          FDP49|          9|         Regular|    0.069196376|           Breakfast| 54.3614|           OUT049|                     1999|     Medium|              Tier 1|Supermarket Type1|         718.3982|   1|489.25260000000003|\n",
            "|          DRI11|       NULL|         Low Fat|    0.034237682|         Hard Drinks|113.2834|           OUT027|                     1985|     Medium|              Tier 3|Supermarket Type3|         2303.668|   1|              NULL|\n",
            "|          FDU02|      13.35|         Low Fat|     0.10249212|               Dairy|230.5352|           OUT035|                     2004|      Small|              Tier 2|Supermarket Type1|        2748.4224|   1|        3077.64492|\n",
            "+---------------+-----------+----------------+---------------+--------------------+--------+-----------------+-------------------------+-----------+--------------------+-----------------+-----------------+----+------------------+\n",
            "only showing top 20 rows\n",
            "\n"
          ]
        }
      ]
    },
    {
      "cell_type": "markdown",
      "source": [
        "### modify existing column"
      ],
      "metadata": {
        "id": "Yw6fJ7pNgdLQ"
      }
    },
    {
      "cell_type": "code",
      "source": [
        "df.withColumn('Item_Fat_Content',regexp_replace('Item_Fat_Content','Low Fat','LF'))\\\n",
        "      .withColumn('Item_Fat_Content',regexp_replace('Item_Fat_Content','Regular','Reg')).show()"
      ],
      "metadata": {
        "colab": {
          "base_uri": "https://localhost:8080/"
        },
        "id": "ciGopiR9gaCd",
        "outputId": "4db82e2b-8c54-4306-e8b8-356350d926a9"
      },
      "execution_count": null,
      "outputs": [
        {
          "output_type": "stream",
          "name": "stdout",
          "text": [
            "+---------------+-----------+----------------+---------------+--------------------+--------+-----------------+-------------------------+-----------+--------------------+-----------------+-----------------+----+\n",
            "|Item_Identifier|Item_Weight|Item_Fat_Content|Item_Visibility|           Item_Type|Item_MRP|Outlet_Identifier|Outlet_Establishment_Year|Outlet_Size|Outlet_Location_Type|      Outlet_Type|Item_Outlet_Sales|Flag|\n",
            "+---------------+-----------+----------------+---------------+--------------------+--------+-----------------+-------------------------+-----------+--------------------+-----------------+-----------------+----+\n",
            "|          FDA15|        9.3|              LF|    0.016047301|               Dairy|249.8092|           OUT049|                     1999|     Medium|              Tier 1|Supermarket Type1|         3735.138|   1|\n",
            "|          DRC01|       5.92|             Reg|    0.019278216|         Soft Drinks| 48.2692|           OUT018|                     2009|     Medium|              Tier 3|Supermarket Type2|         443.4228|   1|\n",
            "|          FDN15|       17.5|              LF|    0.016760075|                Meat| 141.618|           OUT049|                     1999|     Medium|              Tier 1|Supermarket Type1|          2097.27|   1|\n",
            "|          FDX07|       19.2|             Reg|              0|Fruits and Vegeta...| 182.095|           OUT010|                     1998|       NULL|              Tier 3|    Grocery Store|           732.38|   1|\n",
            "|          NCD19|       8.93|              LF|              0|           Household| 53.8614|           OUT013|                     1987|       High|              Tier 3|Supermarket Type1|         994.7052|   1|\n",
            "|          FDP36|     10.395|             Reg|              0|        Baking Goods| 51.4008|           OUT018|                     2009|     Medium|              Tier 3|Supermarket Type2|         556.6088|   1|\n",
            "|          FDO10|      13.65|             Reg|    0.012741089|         Snack Foods| 57.6588|           OUT013|                     1987|       High|              Tier 3|Supermarket Type1|         343.5528|   1|\n",
            "|          FDP10|       NULL|              LF|    0.127469857|         Snack Foods|107.7622|           OUT027|                     1985|     Medium|              Tier 3|Supermarket Type3|        4022.7636|   1|\n",
            "|          FDH17|       16.2|             Reg|    0.016687114|        Frozen Foods| 96.9726|           OUT045|                     2002|       NULL|              Tier 2|Supermarket Type1|        1076.5986|   1|\n",
            "|          FDU28|       19.2|             Reg|     0.09444959|        Frozen Foods|187.8214|           OUT017|                     2007|       NULL|              Tier 2|Supermarket Type1|         4710.535|   1|\n",
            "|          FDY07|       11.8|              LF|              0|Fruits and Vegeta...| 45.5402|           OUT049|                     1999|     Medium|              Tier 1|Supermarket Type1|        1516.0266|   1|\n",
            "|          FDA03|       18.5|             Reg|    0.045463773|               Dairy|144.1102|           OUT046|                     1997|      Small|              Tier 1|Supermarket Type1|         2187.153|   1|\n",
            "|          FDX32|       15.1|             Reg|      0.1000135|Fruits and Vegeta...|145.4786|           OUT049|                     1999|     Medium|              Tier 1|Supermarket Type1|        1589.2646|   1|\n",
            "|          FDS46|       17.6|             Reg|    0.047257328|         Snack Foods|119.6782|           OUT046|                     1997|      Small|              Tier 1|Supermarket Type1|        2145.2076|   1|\n",
            "|          FDF32|      16.35|              LF|      0.0680243|Fruits and Vegeta...|196.4426|           OUT013|                     1987|       High|              Tier 3|Supermarket Type1|         1977.426|   1|\n",
            "|          FDP49|          9|             Reg|    0.069088961|           Breakfast| 56.3614|           OUT046|                     1997|      Small|              Tier 1|Supermarket Type1|        1547.3192|   1|\n",
            "|          NCB42|       11.8|              LF|    0.008596051|  Health and Hygiene|115.3492|           OUT018|                     2009|     Medium|              Tier 3|Supermarket Type2|        1621.8888|   1|\n",
            "|          FDP49|          9|             Reg|    0.069196376|           Breakfast| 54.3614|           OUT049|                     1999|     Medium|              Tier 1|Supermarket Type1|         718.3982|   1|\n",
            "|          DRI11|       NULL|              LF|    0.034237682|         Hard Drinks|113.2834|           OUT027|                     1985|     Medium|              Tier 3|Supermarket Type3|         2303.668|   1|\n",
            "|          FDU02|      13.35|              LF|     0.10249212|               Dairy|230.5352|           OUT035|                     2004|      Small|              Tier 2|Supermarket Type1|        2748.4224|   1|\n",
            "+---------------+-----------+----------------+---------------+--------------------+--------+-----------------+-------------------------+-----------+--------------------+-----------------+-----------------+----+\n",
            "only showing top 20 rows\n",
            "\n"
          ]
        }
      ]
    },
    {
      "cell_type": "markdown",
      "source": [
        "## typecasting"
      ],
      "metadata": {
        "id": "hSnToPXAkRiZ"
      }
    },
    {
      "cell_type": "code",
      "source": [
        "df.withColumn('Item_Weight',col('Item_Weight').cast(StringType())).printSchema()"
      ],
      "metadata": {
        "colab": {
          "base_uri": "https://localhost:8080/"
        },
        "id": "Fnf6eUrQkT-t",
        "outputId": "c00d6fea-d1a0-4a63-c0f6-38c60b448b6a"
      },
      "execution_count": null,
      "outputs": [
        {
          "output_type": "stream",
          "name": "stdout",
          "text": [
            "root\n",
            " |-- Item_Identifier: string (nullable = true)\n",
            " |-- Item_Weight: string (nullable = true)\n",
            " |-- Item_Fat_Content: string (nullable = true)\n",
            " |-- Item_Visibility: string (nullable = true)\n",
            " |-- Item_Type: string (nullable = true)\n",
            " |-- Item_MRP: string (nullable = true)\n",
            " |-- Outlet_Identifier: string (nullable = true)\n",
            " |-- Outlet_Establishment_Year: string (nullable = true)\n",
            " |-- Outlet_Size: string (nullable = true)\n",
            " |-- Outlet_Location_Type: string (nullable = true)\n",
            " |-- Outlet_Type: string (nullable = true)\n",
            " |-- Item_Outlet_Sales: string (nullable = true)\n",
            " |-- Flag: integer (nullable = false)\n",
            "\n"
          ]
        }
      ]
    },
    {
      "cell_type": "markdown",
      "source": [
        "## Sort/OrderBy"
      ],
      "metadata": {
        "id": "tjcm-lKMqqfH"
      }
    },
    {
      "cell_type": "code",
      "source": [
        "df.sort(col('Item_Weight').desc()).show()"
      ],
      "metadata": {
        "colab": {
          "base_uri": "https://localhost:8080/"
        },
        "id": "gDSe8ad6qgzy",
        "outputId": "b5ca6321-7b77-4b71-dfcb-ebc9a2703187"
      },
      "execution_count": null,
      "outputs": [
        {
          "output_type": "stream",
          "name": "stdout",
          "text": [
            "+---------------+-----------+----------------+---------------+------------+--------+-----------------+-------------------------+-----------+--------------------+-----------------+-----------------+----+\n",
            "|Item_Identifier|Item_Weight|Item_Fat_Content|Item_Visibility|   Item_Type|Item_MRP|Outlet_Identifier|Outlet_Establishment_Year|Outlet_Size|Outlet_Location_Type|      Outlet_Type|Item_Outlet_Sales|Flag|\n",
            "+---------------+-----------+----------------+---------------+------------+--------+-----------------+-------------------------+-----------+--------------------+-----------------+-----------------+----+\n",
            "|          FDR13|      9.895|         Regular|    0.028696932|      Canned|117.0492|           OUT013|                     1987|       High|              Tier 3|Supermarket Type1|         810.9444|   1|\n",
            "|          DRD49|      9.895|         Low Fat|    0.167799329| Soft Drinks|239.4564|           OUT035|                     2004|      Small|              Tier 2|Supermarket Type1|        5243.8408|   1|\n",
            "|          FDR13|      9.895|         Regular|    0.028837829|      Canned|117.8492|           OUT018|                     2009|     Medium|              Tier 3|Supermarket Type2|        1506.0396|   1|\n",
            "|          FDT16|      9.895|         Regular|    0.048761046|Frozen Foods|260.5278|           OUT045|                     2002|       NULL|              Tier 2|Supermarket Type1|        8851.1452|   1|\n",
            "|          DRD49|      9.895|         Low Fat|    0.168780385| Soft Drinks|236.8564|           OUT017|                     2007|       NULL|              Tier 2|Supermarket Type1|         4767.128|   1|\n",
            "|          DRD49|      9.895|              LF|    0.167831064| Soft Drinks|237.4564|           OUT046|                     1997|      Small|              Tier 1|Supermarket Type1|         715.0692|   1|\n",
            "|          NCJ54|      9.895|              LF|    0.060067115|   Household|230.6642|           OUT046|                     1997|      Small|              Tier 1|Supermarket Type1|         4647.284|   1|\n",
            "|          NCJ54|      9.895|         Low Fat|    0.060017128|   Household|230.8642|           OUT013|                     1987|       High|              Tier 3|Supermarket Type1|        4414.9198|   1|\n",
            "|          DRD49|      9.895|         Low Fat|     0.16817143| Soft Drinks|237.7564|           OUT045|                     2002|       NULL|              Tier 2|Supermarket Type1|        3813.7024|   1|\n",
            "|          FDT16|      9.895|         Regular|    0.048662357|Frozen Foods|261.7278|           OUT046|                     1997|      Small|              Tier 1|Supermarket Type1|        4685.9004|   1|\n",
            "|          FDR13|      9.895|         Regular|    0.028765486|      Canned|115.3492|           OUT049|                     1999|     Medium|              Tier 1|Supermarket Type1|        1274.3412|   1|\n",
            "|          NCJ54|      9.895|         Low Fat|    0.060188932|   Household|233.0642|           OUT045|                     2002|       NULL|              Tier 2|Supermarket Type1|        6041.4692|   1|\n",
            "|          FDT16|      9.895|         Regular|    0.048738014|Frozen Foods|262.1278|           OUT049|                     1999|     Medium|              Tier 1|Supermarket Type1|         3904.917|   1|\n",
            "|          FDT16|      9.895|         Regular|    0.048860587|Frozen Foods|260.2278|           OUT018|                     2009|     Medium|              Tier 3|Supermarket Type2|        4165.2448|   1|\n",
            "|          NCJ54|      9.895|         Low Fat|    0.060055757|   Household|234.2642|           OUT035|                     2004|      Small|              Tier 2|Supermarket Type1|        3717.8272|   1|\n",
            "|          FDY12|        9.8|         Regular|    0.235354055|Baking Goods| 50.8008|           OUT010|                     1998|       NULL|              Tier 3|    Grocery Store|         101.2016|   1|\n",
            "|          FDA23|        9.8|         Low Fat|    0.047187038|Baking Goods|100.6016|           OUT046|                     1997|      Small|              Tier 1|Supermarket Type1|        1619.2256|   1|\n",
            "|          FDP12|        9.8|         Regular|    0.045337184|Baking Goods| 36.8874|           OUT049|                     1999|     Medium|              Tier 1|Supermarket Type1|         564.5984|   1|\n",
            "|          FDK43|        9.8|         Low Fat|    0.026950104|        Meat| 128.402|           OUT018|                     2009|     Medium|              Tier 3|Supermarket Type2|          1265.02|   1|\n",
            "|          FDY12|        9.8|         Regular|     0.14061104|Baking Goods| 49.8008|           OUT046|                     1997|      Small|              Tier 1|Supermarket Type1|         809.6128|   1|\n",
            "+---------------+-----------+----------------+---------------+------------+--------+-----------------+-------------------------+-----------+--------------------+-----------------+-----------------+----+\n",
            "only showing top 20 rows\n",
            "\n"
          ]
        }
      ]
    },
    {
      "cell_type": "code",
      "source": [
        "df.sort(col('Item_Visibility').asc()).show()"
      ],
      "metadata": {
        "colab": {
          "base_uri": "https://localhost:8080/"
        },
        "id": "9rCJgdvkwDvQ",
        "outputId": "84ce873e-ca76-4e24-f0de-839c81495deb"
      },
      "execution_count": null,
      "outputs": [
        {
          "output_type": "stream",
          "name": "stdout",
          "text": [
            "+---------------+-----------+----------------+---------------+--------------------+--------+-----------------+-------------------------+-----------+--------------------+-----------------+-----------------+----+\n",
            "|Item_Identifier|Item_Weight|Item_Fat_Content|Item_Visibility|           Item_Type|Item_MRP|Outlet_Identifier|Outlet_Establishment_Year|Outlet_Size|Outlet_Location_Type|      Outlet_Type|Item_Outlet_Sales|Flag|\n",
            "+---------------+-----------+----------------+---------------+--------------------+--------+-----------------+-------------------------+-----------+--------------------+-----------------+-----------------+----+\n",
            "|          DRB48|      16.75|         Regular|              0|         Soft Drinks| 39.3822|           OUT046|                     1997|      Small|              Tier 1|Supermarket Type1|         353.5398|   1|\n",
            "|          FDS32|      17.75|         Regular|              0|Fruits and Vegeta...|139.9838|           OUT045|                     2002|       NULL|              Tier 2|Supermarket Type1|        1966.7732|   1|\n",
            "|          FDR04|      7.075|         Low Fat|              0|        Frozen Foods| 98.0068|           OUT018|                     2009|     Medium|              Tier 3|Supermarket Type2|         874.8612|   1|\n",
            "|          FDX07|       19.2|         Regular|              0|Fruits and Vegeta...| 182.095|           OUT010|                     1998|       NULL|              Tier 3|    Grocery Store|           732.38|   1|\n",
            "|          FDX25|       16.7|         Low Fat|              0|              Canned|181.2292|           OUT018|                     2009|     Medium|              Tier 3|Supermarket Type2|        2554.0088|   1|\n",
            "|          FDP36|     10.395|         Regular|              0|        Baking Goods| 51.4008|           OUT018|                     2009|     Medium|              Tier 3|Supermarket Type2|         556.6088|   1|\n",
            "|          FDZ07|       NULL|         Regular|              0|Fruits and Vegeta...| 60.2194|           OUT027|                     1985|     Medium|              Tier 3|Supermarket Type3|        1733.7432|   1|\n",
            "|          FDO23|      17.85|         Low Fat|              0|              Breads| 93.1436|           OUT045|                     2002|       NULL|              Tier 2|Supermarket Type1|        2174.5028|   1|\n",
            "|          FDY28|       7.47|         Regular|              0|        Frozen Foods|214.3218|           OUT035|                     2004|      Small|              Tier 2|Supermarket Type1|         4274.436|   1|\n",
            "|          FDM20|         10|         Low Fat|              0|Fruits and Vegeta...|246.9144|           OUT018|                     2009|     Medium|              Tier 3|Supermarket Type2|        3185.1872|   1|\n",
            "|          FDC50|      15.85|         Low Fat|              0|              Canned| 96.4094|           OUT035|                     2004|      Small|              Tier 2|Supermarket Type1|        1237.7222|   1|\n",
            "|          FDV25|      5.905|         Low Fat|              0|              Canned|222.5456|           OUT045|                     2002|       NULL|              Tier 2|Supermarket Type1|        5305.0944|   1|\n",
            "|          FDP22|       NULL|         Regular|              0|         Snack Foods| 52.6666|           OUT027|                     1985|     Medium|              Tier 3|Supermarket Type3|         717.7324|   1|\n",
            "|          FDP33|       18.7|         Low Fat|              0|         Snack Foods|256.6672|           OUT018|                     2009|     Medium|              Tier 3|Supermarket Type2|        3068.0064|   1|\n",
            "|          NCZ42|       10.5|         Low Fat|              0|           Household|238.3248|           OUT010|                     1998|       NULL|              Tier 3|    Grocery Store|         711.0744|   1|\n",
            "|          FDI16|         14|         Regular|              0|        Frozen Foods|  53.064|           OUT035|                     2004|      Small|              Tier 2|Supermarket Type1|          905.488|   1|\n",
            "|          FDA27|      20.35|         Regular|              0|               Dairy|256.7672|           OUT018|                     2009|     Medium|              Tier 3|Supermarket Type2|        5624.6784|   1|\n",
            "|          FDR47|      17.85|              LF|              0|              Breads|196.5794|           OUT010|                     1998|       NULL|              Tier 3|    Grocery Store|         585.2382|   1|\n",
            "|          DRH15|      8.775|         Low Fat|              0|               Dairy| 45.9428|           OUT013|                     1987|       High|              Tier 3|Supermarket Type1|         790.9704|   1|\n",
            "|          NCZ54|      14.65|         Low Fat|              0|           Household|161.5552|           OUT010|                     1998|       NULL|              Tier 3|    Grocery Store|         324.9104|   1|\n",
            "+---------------+-----------+----------------+---------------+--------------------+--------+-----------------+-------------------------+-----------+--------------------+-----------------+-----------------+----+\n",
            "only showing top 20 rows\n",
            "\n"
          ]
        }
      ]
    },
    {
      "cell_type": "code",
      "source": [
        "#df.sort([col('Item_Visibility').asc(),col('Item_MRP').desc()]).show()\n",
        "df.sort(['Item_Visibility','Item_MRP'],ascending=[1,0]).show()"
      ],
      "metadata": {
        "colab": {
          "base_uri": "https://localhost:8080/"
        },
        "id": "6hXnM0Duwd9y",
        "outputId": "fedf02e1-0b15-4cf6-9931-5eba5b558a18"
      },
      "execution_count": null,
      "outputs": [
        {
          "output_type": "stream",
          "name": "stdout",
          "text": [
            "+---------------+-----------+----------------+---------------+--------------------+--------+-----------------+-------------------------+-----------+--------------------+-----------------+-----------------+----+\n",
            "|Item_Identifier|Item_Weight|Item_Fat_Content|Item_Visibility|           Item_Type|Item_MRP|Outlet_Identifier|Outlet_Establishment_Year|Outlet_Size|Outlet_Location_Type|      Outlet_Type|Item_Outlet_Sales|Flag|\n",
            "+---------------+-----------+----------------+---------------+--------------------+--------+-----------------+-------------------------+-----------+--------------------+-----------------+-----------------+----+\n",
            "|          FDU35|       6.44|         low fat|              0|              Breads|   99.87|           OUT045|                     2002|       NULL|              Tier 2|Supermarket Type1|          1498.05|   1|\n",
            "|          NCH29|       5.51|         Low Fat|              0|  Health and Hygiene| 98.9726|           OUT018|                     2009|     Medium|              Tier 3|Supermarket Type2|        1565.9616|   1|\n",
            "|          FDZ47|       20.7|         Regular|              0|        Baking Goods| 98.7042|           OUT017|                     2007|       NULL|              Tier 2|Supermarket Type1|        1884.8798|   1|\n",
            "|          FDL10|      8.395|         Low Fat|              0|         Snack Foods| 98.7042|           OUT013|                     1987|       High|              Tier 3|Supermarket Type1|         892.8378|   1|\n",
            "|          FDH20|       16.1|         Regular|              0|Fruits and Vegeta...|  98.441|           OUT017|                     2007|       NULL|              Tier 2|Supermarket Type1|          868.869|   1|\n",
            "|          FDU35|       6.44|         Low Fat|              0|              Breads|   98.27|           OUT046|                     1997|      Small|              Tier 1|Supermarket Type1|          2396.88|   1|\n",
            "|          FDL40|       NULL|         Low Fat|              0|        Frozen Foods|  98.241|           OUT019|                     1985|      Small|              Tier 1|    Grocery Store|          289.623|   1|\n",
            "|          FDH31|       NULL|         Regular|              0|                Meat| 98.2042|           OUT019|                     1985|      Small|              Tier 1|    Grocery Store|         198.4084|   1|\n",
            "|          NCD30|       NULL|         Low Fat|              0|           Household| 98.1726|           OUT027|                     1985|     Medium|              Tier 3|Supermarket Type3|          978.726|   1|\n",
            "|          FDR04|      7.075|         Low Fat|              0|        Frozen Foods| 98.0068|           OUT018|                     2009|     Medium|              Tier 3|Supermarket Type2|         874.8612|   1|\n",
            "|          DRD27|      18.75|         Low Fat|              0|               Dairy| 97.9042|           OUT045|                     2002|       NULL|              Tier 2|Supermarket Type1|        1686.4714|   1|\n",
            "|          FDT50|       6.75|         Regular|              0|               Dairy| 96.7752|           OUT049|                     1999|     Medium|              Tier 1|Supermarket Type1|        1342.2528|   1|\n",
            "|          DRN36|       15.2|         Low Fat|              0|         Soft Drinks| 96.6752|           OUT046|                     1997|      Small|              Tier 1|Supermarket Type1|          479.376|   1|\n",
            "|          FDC50|      15.85|         Low Fat|              0|              Canned| 96.4094|           OUT035|                     2004|      Small|              Tier 2|Supermarket Type1|        1237.7222|   1|\n",
            "|          FDK60|       16.5|         Regular|              0|        Baking Goods| 96.2068|           OUT046|                     1997|      Small|              Tier 1|Supermarket Type1|        3013.4108|   1|\n",
            "|          FDX57|      17.25|         Regular|              0|         Snack Foods| 95.2068|           OUT013|                     1987|       High|              Tier 3|Supermarket Type1|        2721.7904|   1|\n",
            "|          FDU24|       6.78|         Regular|              0|        Baking Goods|  95.012|           OUT049|                     1999|     Medium|              Tier 1|Supermarket Type1|         2050.664|   1|\n",
            "|          FDO27|      6.175|         Regular|              0|                Meat| 94.9752|           OUT045|                     2002|       NULL|              Tier 2|Supermarket Type1|        1534.0032|   1|\n",
            "|          NCG43|       20.2|         Low Fat|              0|           Household| 94.1462|           OUT046|                     1997|      Small|              Tier 1|Supermarket Type1|         832.9158|   1|\n",
            "|          FDU24|       6.78|         Regular|              0|        Baking Goods|  94.012|           OUT013|                     1987|       High|              Tier 3|Supermarket Type1|         1211.756|   1|\n",
            "+---------------+-----------+----------------+---------------+--------------------+--------+-----------------+-------------------------+-----------+--------------------+-----------------+-----------------+----+\n",
            "only showing top 20 rows\n",
            "\n"
          ]
        }
      ]
    },
    {
      "cell_type": "markdown",
      "source": [
        "## Limit"
      ],
      "metadata": {
        "id": "lJ89l0MlylFC"
      }
    },
    {
      "cell_type": "code",
      "source": [
        "df.limit(10).show()"
      ],
      "metadata": {
        "colab": {
          "base_uri": "https://localhost:8080/"
        },
        "id": "jLug24xUx9ab",
        "outputId": "bcab0d20-7c48-4b0e-80cf-04f2a76ac97f"
      },
      "execution_count": null,
      "outputs": [
        {
          "output_type": "stream",
          "name": "stdout",
          "text": [
            "+---------------+-----------+----------------+---------------+--------------------+--------+-----------------+-------------------------+-----------+--------------------+-----------------+-----------------+----+\n",
            "|Item_Identifier|Item_Weight|Item_Fat_Content|Item_Visibility|           Item_Type|Item_MRP|Outlet_Identifier|Outlet_Establishment_Year|Outlet_Size|Outlet_Location_Type|      Outlet_Type|Item_Outlet_Sales|Flag|\n",
            "+---------------+-----------+----------------+---------------+--------------------+--------+-----------------+-------------------------+-----------+--------------------+-----------------+-----------------+----+\n",
            "|          FDA15|        9.3|         Low Fat|    0.016047301|               Dairy|249.8092|           OUT049|                     1999|     Medium|              Tier 1|Supermarket Type1|         3735.138|   1|\n",
            "|          DRC01|       5.92|         Regular|    0.019278216|         Soft Drinks| 48.2692|           OUT018|                     2009|     Medium|              Tier 3|Supermarket Type2|         443.4228|   1|\n",
            "|          FDN15|       17.5|         Low Fat|    0.016760075|                Meat| 141.618|           OUT049|                     1999|     Medium|              Tier 1|Supermarket Type1|          2097.27|   1|\n",
            "|          FDX07|       19.2|         Regular|              0|Fruits and Vegeta...| 182.095|           OUT010|                     1998|       NULL|              Tier 3|    Grocery Store|           732.38|   1|\n",
            "|          NCD19|       8.93|         Low Fat|              0|           Household| 53.8614|           OUT013|                     1987|       High|              Tier 3|Supermarket Type1|         994.7052|   1|\n",
            "|          FDP36|     10.395|         Regular|              0|        Baking Goods| 51.4008|           OUT018|                     2009|     Medium|              Tier 3|Supermarket Type2|         556.6088|   1|\n",
            "|          FDO10|      13.65|         Regular|    0.012741089|         Snack Foods| 57.6588|           OUT013|                     1987|       High|              Tier 3|Supermarket Type1|         343.5528|   1|\n",
            "|          FDP10|       NULL|         Low Fat|    0.127469857|         Snack Foods|107.7622|           OUT027|                     1985|     Medium|              Tier 3|Supermarket Type3|        4022.7636|   1|\n",
            "|          FDH17|       16.2|         Regular|    0.016687114|        Frozen Foods| 96.9726|           OUT045|                     2002|       NULL|              Tier 2|Supermarket Type1|        1076.5986|   1|\n",
            "|          FDU28|       19.2|         Regular|     0.09444959|        Frozen Foods|187.8214|           OUT017|                     2007|       NULL|              Tier 2|Supermarket Type1|         4710.535|   1|\n",
            "+---------------+-----------+----------------+---------------+--------------------+--------+-----------------+-------------------------+-----------+--------------------+-----------------+-----------------+----+\n",
            "\n"
          ]
        }
      ]
    },
    {
      "cell_type": "markdown",
      "source": [
        "## Drop"
      ],
      "metadata": {
        "id": "ZWI9GBvWy-cf"
      }
    },
    {
      "cell_type": "code",
      "source": [
        "df.drop('Item_Visibility','Item_Visibility').show()"
      ],
      "metadata": {
        "colab": {
          "base_uri": "https://localhost:8080/"
        },
        "id": "xa-leLOXzAqu",
        "outputId": "b8aeb8f4-4bba-42f8-f6ea-5ca2095e1ed1"
      },
      "execution_count": null,
      "outputs": [
        {
          "output_type": "stream",
          "name": "stdout",
          "text": [
            "+---------------+-----------+----------------+--------------------+--------+-----------------+-------------------------+-----------+--------------------+-----------------+-----------------+----+\n",
            "|Item_Identifier|Item_Weight|Item_Fat_Content|           Item_Type|Item_MRP|Outlet_Identifier|Outlet_Establishment_Year|Outlet_Size|Outlet_Location_Type|      Outlet_Type|Item_Outlet_Sales|Flag|\n",
            "+---------------+-----------+----------------+--------------------+--------+-----------------+-------------------------+-----------+--------------------+-----------------+-----------------+----+\n",
            "|          FDA15|        9.3|         Low Fat|               Dairy|249.8092|           OUT049|                     1999|     Medium|              Tier 1|Supermarket Type1|         3735.138|   1|\n",
            "|          DRC01|       5.92|         Regular|         Soft Drinks| 48.2692|           OUT018|                     2009|     Medium|              Tier 3|Supermarket Type2|         443.4228|   1|\n",
            "|          FDN15|       17.5|         Low Fat|                Meat| 141.618|           OUT049|                     1999|     Medium|              Tier 1|Supermarket Type1|          2097.27|   1|\n",
            "|          FDX07|       19.2|         Regular|Fruits and Vegeta...| 182.095|           OUT010|                     1998|       NULL|              Tier 3|    Grocery Store|           732.38|   1|\n",
            "|          NCD19|       8.93|         Low Fat|           Household| 53.8614|           OUT013|                     1987|       High|              Tier 3|Supermarket Type1|         994.7052|   1|\n",
            "|          FDP36|     10.395|         Regular|        Baking Goods| 51.4008|           OUT018|                     2009|     Medium|              Tier 3|Supermarket Type2|         556.6088|   1|\n",
            "|          FDO10|      13.65|         Regular|         Snack Foods| 57.6588|           OUT013|                     1987|       High|              Tier 3|Supermarket Type1|         343.5528|   1|\n",
            "|          FDP10|       NULL|         Low Fat|         Snack Foods|107.7622|           OUT027|                     1985|     Medium|              Tier 3|Supermarket Type3|        4022.7636|   1|\n",
            "|          FDH17|       16.2|         Regular|        Frozen Foods| 96.9726|           OUT045|                     2002|       NULL|              Tier 2|Supermarket Type1|        1076.5986|   1|\n",
            "|          FDU28|       19.2|         Regular|        Frozen Foods|187.8214|           OUT017|                     2007|       NULL|              Tier 2|Supermarket Type1|         4710.535|   1|\n",
            "|          FDY07|       11.8|         Low Fat|Fruits and Vegeta...| 45.5402|           OUT049|                     1999|     Medium|              Tier 1|Supermarket Type1|        1516.0266|   1|\n",
            "|          FDA03|       18.5|         Regular|               Dairy|144.1102|           OUT046|                     1997|      Small|              Tier 1|Supermarket Type1|         2187.153|   1|\n",
            "|          FDX32|       15.1|         Regular|Fruits and Vegeta...|145.4786|           OUT049|                     1999|     Medium|              Tier 1|Supermarket Type1|        1589.2646|   1|\n",
            "|          FDS46|       17.6|         Regular|         Snack Foods|119.6782|           OUT046|                     1997|      Small|              Tier 1|Supermarket Type1|        2145.2076|   1|\n",
            "|          FDF32|      16.35|         Low Fat|Fruits and Vegeta...|196.4426|           OUT013|                     1987|       High|              Tier 3|Supermarket Type1|         1977.426|   1|\n",
            "|          FDP49|          9|         Regular|           Breakfast| 56.3614|           OUT046|                     1997|      Small|              Tier 1|Supermarket Type1|        1547.3192|   1|\n",
            "|          NCB42|       11.8|         Low Fat|  Health and Hygiene|115.3492|           OUT018|                     2009|     Medium|              Tier 3|Supermarket Type2|        1621.8888|   1|\n",
            "|          FDP49|          9|         Regular|           Breakfast| 54.3614|           OUT049|                     1999|     Medium|              Tier 1|Supermarket Type1|         718.3982|   1|\n",
            "|          DRI11|       NULL|         Low Fat|         Hard Drinks|113.2834|           OUT027|                     1985|     Medium|              Tier 3|Supermarket Type3|         2303.668|   1|\n",
            "|          FDU02|      13.35|         Low Fat|               Dairy|230.5352|           OUT035|                     2004|      Small|              Tier 2|Supermarket Type1|        2748.4224|   1|\n",
            "+---------------+-----------+----------------+--------------------+--------+-----------------+-------------------------+-----------+--------------------+-----------------+-----------------+----+\n",
            "only showing top 20 rows\n",
            "\n"
          ]
        }
      ]
    },
    {
      "cell_type": "code",
      "source": [],
      "metadata": {
        "id": "FjIZBdkHzNq5"
      },
      "execution_count": null,
      "outputs": []
    },
    {
      "cell_type": "markdown",
      "source": [
        "## Drop duplicates"
      ],
      "metadata": {
        "id": "Qx73FwgfzauS"
      }
    },
    {
      "cell_type": "code",
      "source": [
        "# de-dup\n",
        "df.dropDuplicates().show()"
      ],
      "metadata": {
        "colab": {
          "base_uri": "https://localhost:8080/"
        },
        "id": "exsw5LZ1zdbB",
        "outputId": "37b8e576-f82b-47ae-de78-336e72438912"
      },
      "execution_count": null,
      "outputs": [
        {
          "output_type": "stream",
          "name": "stdout",
          "text": [
            "+---------------+-----------+----------------+---------------+--------------------+--------+-----------------+-------------------------+-----------+--------------------+-----------------+-----------------+----+\n",
            "|Item_Identifier|Item_Weight|Item_Fat_Content|Item_Visibility|           Item_Type|Item_MRP|Outlet_Identifier|Outlet_Establishment_Year|Outlet_Size|Outlet_Location_Type|      Outlet_Type|Item_Outlet_Sales|Flag|\n",
            "+---------------+-----------+----------------+---------------+--------------------+--------+-----------------+-------------------------+-----------+--------------------+-----------------+-----------------+----+\n",
            "|          NCB06|       17.6|         Low Fat|    0.082316506|  Health and Hygiene| 160.692|           OUT035|                     2004|      Small|              Tier 2|Supermarket Type1|          1597.92|   1|\n",
            "|          NCR05|       10.1|         Low Fat|    0.054630834|  Health and Hygiene|200.2084|           OUT046|                     1997|      Small|              Tier 1|Supermarket Type1|        1587.2672|   1|\n",
            "|          FDY03|       17.6|         Regular|    0.076121831|                Meat|111.7202|           OUT046|                     1997|      Small|              Tier 1|Supermarket Type1|         1125.202|   1|\n",
            "|          FDR59|       14.5|         Regular|    0.063851475|              Breads|260.4594|           OUT035|                     2004|      Small|              Tier 2|Supermarket Type1|        3139.9128|   1|\n",
            "|          FDD21|       10.3|         Regular|    0.030616757|Fruits and Vegeta...|112.7176|           OUT049|                     1999|     Medium|              Tier 1|Supermarket Type1|         343.5528|   1|\n",
            "|          FDJ20|       20.7|         Regular|    0.100583009|Fruits and Vegeta...|123.5388|           OUT018|                     2009|     Medium|              Tier 3|Supermarket Type2|        1981.4208|   1|\n",
            "|          DRL11|       10.5|              LF|    0.048213766|         Hard Drinks|159.6946|           OUT018|                     2009|     Medium|              Tier 3|Supermarket Type2|        3629.2758|   1|\n",
            "|          FDE08|       18.2|         Low Fat|    0.049396364|Fruits and Vegeta...|146.4734|           OUT049|                     1999|     Medium|              Tier 1|Supermarket Type1|        3563.3616|   1|\n",
            "|          FDR58|      6.675|         Low Fat|    0.041921462|         Snack Foods| 92.3462|           OUT046|                     1997|      Small|              Tier 1|Supermarket Type1|        2406.2012|   1|\n",
            "|          FDE17|       20.1|         Regular|    0.054540159|        Frozen Foods|152.1366|           OUT049|                     1999|     Medium|              Tier 1|Supermarket Type1|          755.683|   1|\n",
            "|          FDA15|        9.3|         Low Fat|    0.016087659|               Dairy|249.6092|           OUT018|                     2009|     Medium|              Tier 3|Supermarket Type2|        5976.2208|   1|\n",
            "|          FDI35|         14|         Low Fat|    0.041355366|       Starchy Foods|182.0634|           OUT049|                     1999|     Medium|              Tier 1|Supermarket Type1|         4544.085|   1|\n",
            "|          FDQ58|      7.315|         Low Fat|     0.01532563|         Snack Foods| 153.434|           OUT049|                     1999|     Medium|              Tier 1|Supermarket Type1|          459.402|   1|\n",
            "|          DRA24|      19.35|         Regular|    0.039920687|         Soft Drinks|163.3868|           OUT035|                     2004|      Small|              Tier 2|Supermarket Type1|        3439.5228|   1|\n",
            "|          FDD03|       13.3|         Low Fat|    0.079791176|               Dairy|  232.73|           OUT035|                     2004|      Small|              Tier 2|Supermarket Type1|          2796.36|   1|\n",
            "|          NCE19|       8.97|         Low Fat|    0.093159233|           Household| 55.7956|           OUT049|                     1999|     Medium|              Tier 1|Supermarket Type1|        1037.3164|   1|\n",
            "|          FDK55|       18.5|         Low Fat|     0.02586664|                Meat| 88.9172|           OUT018|                     2009|     Medium|              Tier 3|Supermarket Type2|        1695.1268|   1|\n",
            "|          FDO52|       11.6|         Regular|    0.077164595|        Frozen Foods|172.5106|           OUT046|                     1997|      Small|              Tier 1|Supermarket Type1|         2566.659|   1|\n",
            "|          FDG50|      7.405|         Low Fat|    0.015259084|              Canned| 91.0146|           OUT013|                     1987|       High|              Tier 3|Supermarket Type1|         729.7168|   1|\n",
            "|          NCY54|       8.43|         Low Fat|    0.177694846|           Household|171.1422|           OUT046|                     1997|      Small|              Tier 1|Supermarket Type1|         2586.633|   1|\n",
            "+---------------+-----------+----------------+---------------+--------------------+--------+-----------------+-------------------------+-----------+--------------------+-----------------+-----------------+----+\n",
            "only showing top 20 rows\n",
            "\n"
          ]
        }
      ]
    },
    {
      "cell_type": "code",
      "source": [
        "df.dropDuplicates(['Item_Identifier']).show()"
      ],
      "metadata": {
        "colab": {
          "base_uri": "https://localhost:8080/"
        },
        "id": "EfLwx66pzugB",
        "outputId": "64c198ed-b671-4a89-d825-a1777851b659"
      },
      "execution_count": null,
      "outputs": [
        {
          "output_type": "stream",
          "name": "stdout",
          "text": [
            "+---------------+-----------+----------------+---------------+-----------+--------+-----------------+-------------------------+-----------+--------------------+-----------------+-----------------+----+\n",
            "|Item_Identifier|Item_Weight|Item_Fat_Content|Item_Visibility|  Item_Type|Item_MRP|Outlet_Identifier|Outlet_Establishment_Year|Outlet_Size|Outlet_Location_Type|      Outlet_Type|Item_Outlet_Sales|Flag|\n",
            "+---------------+-----------+----------------+---------------+-----------+--------+-----------------+-------------------------+-----------+--------------------+-----------------+-----------------+----+\n",
            "|          DRA12|       11.6|         Low Fat|    0.041177505|Soft Drinks|140.3154|           OUT017|                     2007|       NULL|              Tier 2|Supermarket Type1|        2552.6772|   1|\n",
            "|          DRA24|      19.35|         Regular|    0.040154087|Soft Drinks|164.6868|           OUT017|                     2007|       NULL|              Tier 2|Supermarket Type1|        1146.5076|   1|\n",
            "|          DRA59|       8.27|         Regular|    0.127927931|Soft Drinks|184.8924|           OUT046|                     1997|      Small|              Tier 1|Supermarket Type1|        4442.2176|   1|\n",
            "|          DRB01|       7.39|         Low Fat|    0.082367244|Soft Drinks| 187.753|           OUT049|                     1999|     Medium|              Tier 1|Supermarket Type1|         1518.024|   1|\n",
            "|          DRB13|      6.115|         Regular|    0.007084185|Soft Drinks| 191.153|           OUT017|                     2007|       NULL|              Tier 2|Supermarket Type1|         3415.554|   1|\n",
            "|          DRB24|      8.785|         Low Fat|    0.020609218|Soft Drinks|155.1656|           OUT049|                     1999|     Medium|              Tier 1|Supermarket Type1|        4016.1056|   1|\n",
            "|          DRB25|       12.3|         Low Fat|    0.069446588|Soft Drinks|106.3938|           OUT035|                     2004|      Small|              Tier 2|Supermarket Type1|         857.5504|   1|\n",
            "|          DRB48|      16.75|         Regular|    0.024832806|Soft Drinks| 38.7822|           OUT013|                     1987|       High|              Tier 3|Supermarket Type1|         667.7974|   1|\n",
            "|          DRC01|       5.92|         Regular|    0.019278216|Soft Drinks| 48.2692|           OUT018|                     2009|     Medium|              Tier 3|Supermarket Type2|         443.4228|   1|\n",
            "|          DRC12|      17.85|         Low Fat|    0.038040837|Soft Drinks|189.1188|           OUT017|                     2007|       NULL|              Tier 2|Supermarket Type1|        3237.1196|   1|\n",
            "|          DRC13|       8.26|         Regular|    0.032435437|Soft Drinks| 124.873|           OUT035|                     2004|      Small|              Tier 2|Supermarket Type1|         2956.152|   1|\n",
            "|          DRC24|      17.85|         Low Fat|    0.024961677|Soft Drinks|153.1998|           OUT017|                     2007|       NULL|              Tier 2|Supermarket Type1|        3383.5956|   1|\n",
            "|          DRC25|       NULL|         Low Fat|    0.079440262|Soft Drinks| 86.7882|           OUT019|                     1985|      Small|              Tier 1|    Grocery Store|          85.8882|   1|\n",
            "|          DRC27|       13.8|         Low Fat|    0.058091482|      Dairy|245.1802|           OUT035|                     2004|      Small|              Tier 2|Supermarket Type1|        5650.6446|   1|\n",
            "|          DRC36|       NULL|         Regular|    0.044767032|Soft Drinks|173.7054|           OUT027|                     1985|     Medium|              Tier 3|Supermarket Type3|        5778.4782|   1|\n",
            "|          DRC49|       NULL|              LF|    0.065119701|Soft Drinks|145.7128|           OUT027|                     1985|     Medium|              Tier 3|Supermarket Type3|        4026.7584|   1|\n",
            "|          DRD01|       12.1|         Regular|    0.061163967|Soft Drinks| 56.5614|           OUT035|                     2004|      Small|              Tier 2|Supermarket Type1|          828.921|   1|\n",
            "|          DRD12|       6.96|         Low Fat|    0.077193561|Soft Drinks| 89.9146|           OUT046|                     1997|      Small|              Tier 1|Supermarket Type1|        1277.0044|   1|\n",
            "|          DRD13|         15|         Low Fat|    0.049357077|Soft Drinks| 62.6168|           OUT017|                     2007|       NULL|              Tier 2|Supermarket Type1|          958.752|   1|\n",
            "|          DRD15|       10.6|         Low Fat|    0.056911107|      Dairy|233.9642|           OUT045|                     2002|       NULL|              Tier 2|Supermarket Type1|        3717.8272|   1|\n",
            "+---------------+-----------+----------------+---------------+-----------+--------+-----------------+-------------------------+-----------+--------------------+-----------------+-----------------+----+\n",
            "only showing top 20 rows\n",
            "\n"
          ]
        }
      ]
    },
    {
      "cell_type": "markdown",
      "source": [
        "## Union"
      ],
      "metadata": {
        "id": "DRP_zYan1H8-"
      }
    },
    {
      "cell_type": "code",
      "source": [
        "data1 = [('a','1'),\n",
        "         ('b',2)]\n",
        "data2 = [('c','1'),\n",
        "         ('d','2')]\n",
        "schema = 'id1 STRING,id2 STRING'\n",
        "df1 = spark.createDataFrame(data=data1,schema=schema)\n",
        "df2 = spark.createDataFrame(data=data2,schema=schema)"
      ],
      "metadata": {
        "id": "AxjOI5A20Jsp"
      },
      "execution_count": null,
      "outputs": []
    },
    {
      "cell_type": "code",
      "source": [
        "df1.union(df2).show()"
      ],
      "metadata": {
        "colab": {
          "base_uri": "https://localhost:8080/"
        },
        "id": "PpoPHKrE4QP-",
        "outputId": "99827335-0e3e-410e-baec-264a88b7aa44"
      },
      "execution_count": null,
      "outputs": [
        {
          "output_type": "stream",
          "name": "stdout",
          "text": [
            "+---+---+\n",
            "|id1|id2|\n",
            "+---+---+\n",
            "|  a|  1|\n",
            "|  b|  2|\n",
            "|  c|  1|\n",
            "|  d|  2|\n",
            "+---+---+\n",
            "\n"
          ]
        }
      ]
    },
    {
      "cell_type": "markdown",
      "source": [
        "## Union by name"
      ],
      "metadata": {
        "id": "BwPXwFT85mda"
      }
    },
    {
      "cell_type": "code",
      "source": [
        "data1 = [('a',1),('b',2)]\n",
        "schema1 = 'id1 STRING, id2 INT'\n",
        "\n",
        "\n",
        "data2 = [(3,'c'),(4,'d')]\n",
        "schema2 = 'id2 INT, id1 STRING'\n",
        "\n",
        "df1 = spark.createDataFrame(data=data1,schema=schema1)\n",
        "df2 = spark.createDataFrame(data=data2,schema=schema2)"
      ],
      "metadata": {
        "id": "yhlLR4Zq5mJe"
      },
      "execution_count": null,
      "outputs": []
    },
    {
      "cell_type": "code",
      "source": [
        "print(\"DF1\")\n",
        "df1.show()\n",
        "\n",
        "print(\"DF2\")\n",
        "df2.show()"
      ],
      "metadata": {
        "colab": {
          "base_uri": "https://localhost:8080/"
        },
        "id": "TyN63yzJ6eMc",
        "outputId": "2c6e15ca-bd11-4a80-9adf-acee840e49e4"
      },
      "execution_count": null,
      "outputs": [
        {
          "output_type": "stream",
          "name": "stdout",
          "text": [
            "DF1\n",
            "+---+---+\n",
            "|id1|id2|\n",
            "+---+---+\n",
            "|  a|  1|\n",
            "|  b|  2|\n",
            "+---+---+\n",
            "\n",
            "DF2\n",
            "+---+---+\n",
            "|id2|id1|\n",
            "+---+---+\n",
            "|  3|  c|\n",
            "|  4|  d|\n",
            "+---+---+\n",
            "\n"
          ]
        }
      ]
    },
    {
      "cell_type": "code",
      "source": [
        "df1.unionByName(df2).show()"
      ],
      "metadata": {
        "colab": {
          "base_uri": "https://localhost:8080/"
        },
        "id": "BPCvs-Uc4vDW",
        "outputId": "04253098-1662-4bf6-fc5b-c8aaac42097c"
      },
      "execution_count": null,
      "outputs": [
        {
          "output_type": "stream",
          "name": "stdout",
          "text": [
            "+---+---+\n",
            "|id1|id2|\n",
            "+---+---+\n",
            "|  a|  1|\n",
            "|  b|  2|\n",
            "|  c|  3|\n",
            "|  d|  4|\n",
            "+---+---+\n",
            "\n"
          ]
        }
      ]
    },
    {
      "cell_type": "markdown",
      "source": [
        "## String functions"
      ],
      "metadata": {
        "id": "3Ej7RexbSxm2"
      }
    },
    {
      "cell_type": "code",
      "source": [
        "df.select(lower(col('Item_Type').alias('String fns'))).show()"
      ],
      "metadata": {
        "id": "ZryuROGv6ctR",
        "colab": {
          "base_uri": "https://localhost:8080/"
        },
        "outputId": "60f81cbe-60ad-4a6b-9f36-f85db00336bf"
      },
      "execution_count": null,
      "outputs": [
        {
          "output_type": "stream",
          "name": "stdout",
          "text": [
            "+--------------------------------+\n",
            "|lower(Item_Type AS `String fns`)|\n",
            "+--------------------------------+\n",
            "|                           dairy|\n",
            "|                     soft drinks|\n",
            "|                            meat|\n",
            "|            fruits and vegeta...|\n",
            "|                       household|\n",
            "|                    baking goods|\n",
            "|                     snack foods|\n",
            "|                     snack foods|\n",
            "|                    frozen foods|\n",
            "|                    frozen foods|\n",
            "|            fruits and vegeta...|\n",
            "|                           dairy|\n",
            "|            fruits and vegeta...|\n",
            "|                     snack foods|\n",
            "|            fruits and vegeta...|\n",
            "|                       breakfast|\n",
            "|              health and hygiene|\n",
            "|                       breakfast|\n",
            "|                     hard drinks|\n",
            "|                           dairy|\n",
            "+--------------------------------+\n",
            "only showing top 20 rows\n",
            "\n"
          ]
        }
      ]
    },
    {
      "cell_type": "markdown",
      "source": [
        "## Date functions"
      ],
      "metadata": {
        "id": "Bj6La42JTsOv"
      }
    },
    {
      "cell_type": "markdown",
      "source": [
        "### current_date()"
      ],
      "metadata": {
        "id": "9oqV8RgpU2Qy"
      }
    },
    {
      "cell_type": "code",
      "source": [
        "df = df.withColumn('currdate',current_date())"
      ],
      "metadata": {
        "id": "8isjmSrhTrnZ"
      },
      "execution_count": null,
      "outputs": []
    },
    {
      "cell_type": "code",
      "source": [
        "df.show()"
      ],
      "metadata": {
        "colab": {
          "base_uri": "https://localhost:8080/"
        },
        "id": "zPmoRhxfWh7r",
        "outputId": "0ded4c1b-940b-4472-8c6a-e1753703f33e"
      },
      "execution_count": null,
      "outputs": [
        {
          "output_type": "stream",
          "name": "stdout",
          "text": [
            "+---------------+-----------+----------------+---------------+--------------------+--------+-----------------+-------------------------+-----------+--------------------+-----------------+-----------------+----------+\n",
            "|Item_Identifier|Item_Weight|Item_Fat_Content|Item_Visibility|           Item_Type|Item_MRP|Outlet_Identifier|Outlet_Establishment_Year|Outlet_Size|Outlet_Location_Type|      Outlet_Type|Item_Outlet_Sales|  currdate|\n",
            "+---------------+-----------+----------------+---------------+--------------------+--------+-----------------+-------------------------+-----------+--------------------+-----------------+-----------------+----------+\n",
            "|          FDA15|        9.3|         Low Fat|    0.016047301|               Dairy|249.8092|           OUT049|                     1999|     Medium|              Tier 1|Supermarket Type1|         3735.138|2025-01-28|\n",
            "|          DRC01|       5.92|         Regular|    0.019278216|         Soft Drinks| 48.2692|           OUT018|                     2009|     Medium|              Tier 3|Supermarket Type2|         443.4228|2025-01-28|\n",
            "|          FDN15|       17.5|         Low Fat|    0.016760075|                Meat| 141.618|           OUT049|                     1999|     Medium|              Tier 1|Supermarket Type1|          2097.27|2025-01-28|\n",
            "|          FDX07|       19.2|         Regular|              0|Fruits and Vegeta...| 182.095|           OUT010|                     1998|       NULL|              Tier 3|    Grocery Store|           732.38|2025-01-28|\n",
            "|          NCD19|       8.93|         Low Fat|              0|           Household| 53.8614|           OUT013|                     1987|       High|              Tier 3|Supermarket Type1|         994.7052|2025-01-28|\n",
            "|          FDP36|     10.395|         Regular|              0|        Baking Goods| 51.4008|           OUT018|                     2009|     Medium|              Tier 3|Supermarket Type2|         556.6088|2025-01-28|\n",
            "|          FDO10|      13.65|         Regular|    0.012741089|         Snack Foods| 57.6588|           OUT013|                     1987|       High|              Tier 3|Supermarket Type1|         343.5528|2025-01-28|\n",
            "|          FDP10|       NULL|         Low Fat|    0.127469857|         Snack Foods|107.7622|           OUT027|                     1985|     Medium|              Tier 3|Supermarket Type3|        4022.7636|2025-01-28|\n",
            "|          FDH17|       16.2|         Regular|    0.016687114|        Frozen Foods| 96.9726|           OUT045|                     2002|       NULL|              Tier 2|Supermarket Type1|        1076.5986|2025-01-28|\n",
            "|          FDU28|       19.2|         Regular|     0.09444959|        Frozen Foods|187.8214|           OUT017|                     2007|       NULL|              Tier 2|Supermarket Type1|         4710.535|2025-01-28|\n",
            "|          FDY07|       11.8|         Low Fat|              0|Fruits and Vegeta...| 45.5402|           OUT049|                     1999|     Medium|              Tier 1|Supermarket Type1|        1516.0266|2025-01-28|\n",
            "|          FDA03|       18.5|         Regular|    0.045463773|               Dairy|144.1102|           OUT046|                     1997|      Small|              Tier 1|Supermarket Type1|         2187.153|2025-01-28|\n",
            "|          FDX32|       15.1|         Regular|      0.1000135|Fruits and Vegeta...|145.4786|           OUT049|                     1999|     Medium|              Tier 1|Supermarket Type1|        1589.2646|2025-01-28|\n",
            "|          FDS46|       17.6|         Regular|    0.047257328|         Snack Foods|119.6782|           OUT046|                     1997|      Small|              Tier 1|Supermarket Type1|        2145.2076|2025-01-28|\n",
            "|          FDF32|      16.35|         Low Fat|      0.0680243|Fruits and Vegeta...|196.4426|           OUT013|                     1987|       High|              Tier 3|Supermarket Type1|         1977.426|2025-01-28|\n",
            "|          FDP49|          9|         Regular|    0.069088961|           Breakfast| 56.3614|           OUT046|                     1997|      Small|              Tier 1|Supermarket Type1|        1547.3192|2025-01-28|\n",
            "|          NCB42|       11.8|         Low Fat|    0.008596051|  Health and Hygiene|115.3492|           OUT018|                     2009|     Medium|              Tier 3|Supermarket Type2|        1621.8888|2025-01-28|\n",
            "|          FDP49|          9|         Regular|    0.069196376|           Breakfast| 54.3614|           OUT049|                     1999|     Medium|              Tier 1|Supermarket Type1|         718.3982|2025-01-28|\n",
            "|          DRI11|       NULL|         Low Fat|    0.034237682|         Hard Drinks|113.2834|           OUT027|                     1985|     Medium|              Tier 3|Supermarket Type3|         2303.668|2025-01-28|\n",
            "|          FDU02|      13.35|         Low Fat|     0.10249212|               Dairy|230.5352|           OUT035|                     2004|      Small|              Tier 2|Supermarket Type1|        2748.4224|2025-01-28|\n",
            "+---------------+-----------+----------------+---------------+--------------------+--------+-----------------+-------------------------+-----------+--------------------+-----------------+-----------------+----------+\n",
            "only showing top 20 rows\n",
            "\n"
          ]
        }
      ]
    },
    {
      "cell_type": "markdown",
      "source": [
        "### date_add()"
      ],
      "metadata": {
        "id": "LwTcjrQxU6jJ"
      }
    },
    {
      "cell_type": "code",
      "source": [
        "df  = df.withColumn('newdate',date_add(col('currdate'),10))"
      ],
      "metadata": {
        "id": "plP9MpCnTKSl"
      },
      "execution_count": null,
      "outputs": []
    },
    {
      "cell_type": "code",
      "source": [
        "df.show()"
      ],
      "metadata": {
        "colab": {
          "base_uri": "https://localhost:8080/"
        },
        "id": "2zcH8uSRcVmi",
        "outputId": "1940d9f4-f73a-403b-c790-20c9138976bc"
      },
      "execution_count": null,
      "outputs": [
        {
          "output_type": "stream",
          "name": "stdout",
          "text": [
            "+---------------+-----------+----------------+---------------+--------------------+--------+-----------------+-------------------------+-----------+--------------------+-----------------+-----------------+----------+----------+\n",
            "|Item_Identifier|Item_Weight|Item_Fat_Content|Item_Visibility|           Item_Type|Item_MRP|Outlet_Identifier|Outlet_Establishment_Year|Outlet_Size|Outlet_Location_Type|      Outlet_Type|Item_Outlet_Sales|  currdate|   newdate|\n",
            "+---------------+-----------+----------------+---------------+--------------------+--------+-----------------+-------------------------+-----------+--------------------+-----------------+-----------------+----------+----------+\n",
            "|          FDA15|        9.3|         Low Fat|    0.016047301|               Dairy|249.8092|           OUT049|                     1999|     Medium|              Tier 1|Supermarket Type1|         3735.138|2025-01-28|2025-02-07|\n",
            "|          DRC01|       5.92|         Regular|    0.019278216|         Soft Drinks| 48.2692|           OUT018|                     2009|     Medium|              Tier 3|Supermarket Type2|         443.4228|2025-01-28|2025-02-07|\n",
            "|          FDN15|       17.5|         Low Fat|    0.016760075|                Meat| 141.618|           OUT049|                     1999|     Medium|              Tier 1|Supermarket Type1|          2097.27|2025-01-28|2025-02-07|\n",
            "|          FDX07|       19.2|         Regular|              0|Fruits and Vegeta...| 182.095|           OUT010|                     1998|       NULL|              Tier 3|    Grocery Store|           732.38|2025-01-28|2025-02-07|\n",
            "|          NCD19|       8.93|         Low Fat|              0|           Household| 53.8614|           OUT013|                     1987|       High|              Tier 3|Supermarket Type1|         994.7052|2025-01-28|2025-02-07|\n",
            "|          FDP36|     10.395|         Regular|              0|        Baking Goods| 51.4008|           OUT018|                     2009|     Medium|              Tier 3|Supermarket Type2|         556.6088|2025-01-28|2025-02-07|\n",
            "|          FDO10|      13.65|         Regular|    0.012741089|         Snack Foods| 57.6588|           OUT013|                     1987|       High|              Tier 3|Supermarket Type1|         343.5528|2025-01-28|2025-02-07|\n",
            "|          FDP10|       NULL|         Low Fat|    0.127469857|         Snack Foods|107.7622|           OUT027|                     1985|     Medium|              Tier 3|Supermarket Type3|        4022.7636|2025-01-28|2025-02-07|\n",
            "|          FDH17|       16.2|         Regular|    0.016687114|        Frozen Foods| 96.9726|           OUT045|                     2002|       NULL|              Tier 2|Supermarket Type1|        1076.5986|2025-01-28|2025-02-07|\n",
            "|          FDU28|       19.2|         Regular|     0.09444959|        Frozen Foods|187.8214|           OUT017|                     2007|       NULL|              Tier 2|Supermarket Type1|         4710.535|2025-01-28|2025-02-07|\n",
            "|          FDY07|       11.8|         Low Fat|              0|Fruits and Vegeta...| 45.5402|           OUT049|                     1999|     Medium|              Tier 1|Supermarket Type1|        1516.0266|2025-01-28|2025-02-07|\n",
            "|          FDA03|       18.5|         Regular|    0.045463773|               Dairy|144.1102|           OUT046|                     1997|      Small|              Tier 1|Supermarket Type1|         2187.153|2025-01-28|2025-02-07|\n",
            "|          FDX32|       15.1|         Regular|      0.1000135|Fruits and Vegeta...|145.4786|           OUT049|                     1999|     Medium|              Tier 1|Supermarket Type1|        1589.2646|2025-01-28|2025-02-07|\n",
            "|          FDS46|       17.6|         Regular|    0.047257328|         Snack Foods|119.6782|           OUT046|                     1997|      Small|              Tier 1|Supermarket Type1|        2145.2076|2025-01-28|2025-02-07|\n",
            "|          FDF32|      16.35|         Low Fat|      0.0680243|Fruits and Vegeta...|196.4426|           OUT013|                     1987|       High|              Tier 3|Supermarket Type1|         1977.426|2025-01-28|2025-02-07|\n",
            "|          FDP49|          9|         Regular|    0.069088961|           Breakfast| 56.3614|           OUT046|                     1997|      Small|              Tier 1|Supermarket Type1|        1547.3192|2025-01-28|2025-02-07|\n",
            "|          NCB42|       11.8|         Low Fat|    0.008596051|  Health and Hygiene|115.3492|           OUT018|                     2009|     Medium|              Tier 3|Supermarket Type2|        1621.8888|2025-01-28|2025-02-07|\n",
            "|          FDP49|          9|         Regular|    0.069196376|           Breakfast| 54.3614|           OUT049|                     1999|     Medium|              Tier 1|Supermarket Type1|         718.3982|2025-01-28|2025-02-07|\n",
            "|          DRI11|       NULL|         Low Fat|    0.034237682|         Hard Drinks|113.2834|           OUT027|                     1985|     Medium|              Tier 3|Supermarket Type3|         2303.668|2025-01-28|2025-02-07|\n",
            "|          FDU02|      13.35|         Low Fat|     0.10249212|               Dairy|230.5352|           OUT035|                     2004|      Small|              Tier 2|Supermarket Type1|        2748.4224|2025-01-28|2025-02-07|\n",
            "+---------------+-----------+----------------+---------------+--------------------+--------+-----------------+-------------------------+-----------+--------------------+-----------------+-----------------+----------+----------+\n",
            "only showing top 20 rows\n",
            "\n"
          ]
        }
      ]
    },
    {
      "cell_type": "markdown",
      "source": [
        "### Datediff"
      ],
      "metadata": {
        "id": "_RBXs0tHb2-h"
      }
    },
    {
      "cell_type": "code",
      "source": [
        "df = df.withColumn('datediff',datediff(col('newdate'),col('currdate')))"
      ],
      "metadata": {
        "id": "MryMdTgCVQO1"
      },
      "execution_count": null,
      "outputs": []
    },
    {
      "cell_type": "code",
      "source": [
        "df.show()"
      ],
      "metadata": {
        "colab": {
          "base_uri": "https://localhost:8080/"
        },
        "id": "DsCdmFp1cukU",
        "outputId": "874a26de-2eba-4dfb-896b-b26996f90f16"
      },
      "execution_count": null,
      "outputs": [
        {
          "output_type": "stream",
          "name": "stdout",
          "text": [
            "+---------------+-----------+----------------+---------------+--------------------+--------+-----------------+-------------------------+-----------+--------------------+-----------------+-----------------+----------+----------+--------+\n",
            "|Item_Identifier|Item_Weight|Item_Fat_Content|Item_Visibility|           Item_Type|Item_MRP|Outlet_Identifier|Outlet_Establishment_Year|Outlet_Size|Outlet_Location_Type|      Outlet_Type|Item_Outlet_Sales|  currdate|   newdate|datediff|\n",
            "+---------------+-----------+----------------+---------------+--------------------+--------+-----------------+-------------------------+-----------+--------------------+-----------------+-----------------+----------+----------+--------+\n",
            "|          FDA15|        9.3|         Low Fat|    0.016047301|               Dairy|249.8092|           OUT049|                     1999|     Medium|              Tier 1|Supermarket Type1|         3735.138|2025-01-28|2025-02-07|      10|\n",
            "|          DRC01|       5.92|         Regular|    0.019278216|         Soft Drinks| 48.2692|           OUT018|                     2009|     Medium|              Tier 3|Supermarket Type2|         443.4228|2025-01-28|2025-02-07|      10|\n",
            "|          FDN15|       17.5|         Low Fat|    0.016760075|                Meat| 141.618|           OUT049|                     1999|     Medium|              Tier 1|Supermarket Type1|          2097.27|2025-01-28|2025-02-07|      10|\n",
            "|          FDX07|       19.2|         Regular|              0|Fruits and Vegeta...| 182.095|           OUT010|                     1998|       NULL|              Tier 3|    Grocery Store|           732.38|2025-01-28|2025-02-07|      10|\n",
            "|          NCD19|       8.93|         Low Fat|              0|           Household| 53.8614|           OUT013|                     1987|       High|              Tier 3|Supermarket Type1|         994.7052|2025-01-28|2025-02-07|      10|\n",
            "|          FDP36|     10.395|         Regular|              0|        Baking Goods| 51.4008|           OUT018|                     2009|     Medium|              Tier 3|Supermarket Type2|         556.6088|2025-01-28|2025-02-07|      10|\n",
            "|          FDO10|      13.65|         Regular|    0.012741089|         Snack Foods| 57.6588|           OUT013|                     1987|       High|              Tier 3|Supermarket Type1|         343.5528|2025-01-28|2025-02-07|      10|\n",
            "|          FDP10|       NULL|         Low Fat|    0.127469857|         Snack Foods|107.7622|           OUT027|                     1985|     Medium|              Tier 3|Supermarket Type3|        4022.7636|2025-01-28|2025-02-07|      10|\n",
            "|          FDH17|       16.2|         Regular|    0.016687114|        Frozen Foods| 96.9726|           OUT045|                     2002|       NULL|              Tier 2|Supermarket Type1|        1076.5986|2025-01-28|2025-02-07|      10|\n",
            "|          FDU28|       19.2|         Regular|     0.09444959|        Frozen Foods|187.8214|           OUT017|                     2007|       NULL|              Tier 2|Supermarket Type1|         4710.535|2025-01-28|2025-02-07|      10|\n",
            "|          FDY07|       11.8|         Low Fat|              0|Fruits and Vegeta...| 45.5402|           OUT049|                     1999|     Medium|              Tier 1|Supermarket Type1|        1516.0266|2025-01-28|2025-02-07|      10|\n",
            "|          FDA03|       18.5|         Regular|    0.045463773|               Dairy|144.1102|           OUT046|                     1997|      Small|              Tier 1|Supermarket Type1|         2187.153|2025-01-28|2025-02-07|      10|\n",
            "|          FDX32|       15.1|         Regular|      0.1000135|Fruits and Vegeta...|145.4786|           OUT049|                     1999|     Medium|              Tier 1|Supermarket Type1|        1589.2646|2025-01-28|2025-02-07|      10|\n",
            "|          FDS46|       17.6|         Regular|    0.047257328|         Snack Foods|119.6782|           OUT046|                     1997|      Small|              Tier 1|Supermarket Type1|        2145.2076|2025-01-28|2025-02-07|      10|\n",
            "|          FDF32|      16.35|         Low Fat|      0.0680243|Fruits and Vegeta...|196.4426|           OUT013|                     1987|       High|              Tier 3|Supermarket Type1|         1977.426|2025-01-28|2025-02-07|      10|\n",
            "|          FDP49|          9|         Regular|    0.069088961|           Breakfast| 56.3614|           OUT046|                     1997|      Small|              Tier 1|Supermarket Type1|        1547.3192|2025-01-28|2025-02-07|      10|\n",
            "|          NCB42|       11.8|         Low Fat|    0.008596051|  Health and Hygiene|115.3492|           OUT018|                     2009|     Medium|              Tier 3|Supermarket Type2|        1621.8888|2025-01-28|2025-02-07|      10|\n",
            "|          FDP49|          9|         Regular|    0.069196376|           Breakfast| 54.3614|           OUT049|                     1999|     Medium|              Tier 1|Supermarket Type1|         718.3982|2025-01-28|2025-02-07|      10|\n",
            "|          DRI11|       NULL|         Low Fat|    0.034237682|         Hard Drinks|113.2834|           OUT027|                     1985|     Medium|              Tier 3|Supermarket Type3|         2303.668|2025-01-28|2025-02-07|      10|\n",
            "|          FDU02|      13.35|         Low Fat|     0.10249212|               Dairy|230.5352|           OUT035|                     2004|      Small|              Tier 2|Supermarket Type1|        2748.4224|2025-01-28|2025-02-07|      10|\n",
            "+---------------+-----------+----------------+---------------+--------------------+--------+-----------------+-------------------------+-----------+--------------------+-----------------+-----------------+----------+----------+--------+\n",
            "only showing top 20 rows\n",
            "\n"
          ]
        }
      ]
    },
    {
      "cell_type": "markdown",
      "source": [
        "### date format functions"
      ],
      "metadata": {
        "id": "D8cTc-4ddSO3"
      }
    },
    {
      "cell_type": "code",
      "source": [
        "df.withColumn('currdate',date_format(col('currdate'),'dd-MM-yyyy')).show()"
      ],
      "metadata": {
        "colab": {
          "base_uri": "https://localhost:8080/"
        },
        "id": "KsNol-B1cwTR",
        "outputId": "51d55788-b58c-4b6b-cd3f-6cad05aa09e0"
      },
      "execution_count": null,
      "outputs": [
        {
          "output_type": "stream",
          "name": "stdout",
          "text": [
            "+---------------+-----------+----------------+---------------+--------------------+--------+-----------------+-------------------------+-----------+--------------------+-----------------+-----------------+----------+----------+--------+\n",
            "|Item_Identifier|Item_Weight|Item_Fat_Content|Item_Visibility|           Item_Type|Item_MRP|Outlet_Identifier|Outlet_Establishment_Year|Outlet_Size|Outlet_Location_Type|      Outlet_Type|Item_Outlet_Sales|  currdate|   newdate|datediff|\n",
            "+---------------+-----------+----------------+---------------+--------------------+--------+-----------------+-------------------------+-----------+--------------------+-----------------+-----------------+----------+----------+--------+\n",
            "|          FDA15|        9.3|         Low Fat|    0.016047301|               Dairy|249.8092|           OUT049|                     1999|     Medium|              Tier 1|Supermarket Type1|         3735.138|28-01-2025|2025-02-07|      10|\n",
            "|          DRC01|       5.92|         Regular|    0.019278216|         Soft Drinks| 48.2692|           OUT018|                     2009|     Medium|              Tier 3|Supermarket Type2|         443.4228|28-01-2025|2025-02-07|      10|\n",
            "|          FDN15|       17.5|         Low Fat|    0.016760075|                Meat| 141.618|           OUT049|                     1999|     Medium|              Tier 1|Supermarket Type1|          2097.27|28-01-2025|2025-02-07|      10|\n",
            "|          FDX07|       19.2|         Regular|              0|Fruits and Vegeta...| 182.095|           OUT010|                     1998|       NULL|              Tier 3|    Grocery Store|           732.38|28-01-2025|2025-02-07|      10|\n",
            "|          NCD19|       8.93|         Low Fat|              0|           Household| 53.8614|           OUT013|                     1987|       High|              Tier 3|Supermarket Type1|         994.7052|28-01-2025|2025-02-07|      10|\n",
            "|          FDP36|     10.395|         Regular|              0|        Baking Goods| 51.4008|           OUT018|                     2009|     Medium|              Tier 3|Supermarket Type2|         556.6088|28-01-2025|2025-02-07|      10|\n",
            "|          FDO10|      13.65|         Regular|    0.012741089|         Snack Foods| 57.6588|           OUT013|                     1987|       High|              Tier 3|Supermarket Type1|         343.5528|28-01-2025|2025-02-07|      10|\n",
            "|          FDP10|       NULL|         Low Fat|    0.127469857|         Snack Foods|107.7622|           OUT027|                     1985|     Medium|              Tier 3|Supermarket Type3|        4022.7636|28-01-2025|2025-02-07|      10|\n",
            "|          FDH17|       16.2|         Regular|    0.016687114|        Frozen Foods| 96.9726|           OUT045|                     2002|       NULL|              Tier 2|Supermarket Type1|        1076.5986|28-01-2025|2025-02-07|      10|\n",
            "|          FDU28|       19.2|         Regular|     0.09444959|        Frozen Foods|187.8214|           OUT017|                     2007|       NULL|              Tier 2|Supermarket Type1|         4710.535|28-01-2025|2025-02-07|      10|\n",
            "|          FDY07|       11.8|         Low Fat|              0|Fruits and Vegeta...| 45.5402|           OUT049|                     1999|     Medium|              Tier 1|Supermarket Type1|        1516.0266|28-01-2025|2025-02-07|      10|\n",
            "|          FDA03|       18.5|         Regular|    0.045463773|               Dairy|144.1102|           OUT046|                     1997|      Small|              Tier 1|Supermarket Type1|         2187.153|28-01-2025|2025-02-07|      10|\n",
            "|          FDX32|       15.1|         Regular|      0.1000135|Fruits and Vegeta...|145.4786|           OUT049|                     1999|     Medium|              Tier 1|Supermarket Type1|        1589.2646|28-01-2025|2025-02-07|      10|\n",
            "|          FDS46|       17.6|         Regular|    0.047257328|         Snack Foods|119.6782|           OUT046|                     1997|      Small|              Tier 1|Supermarket Type1|        2145.2076|28-01-2025|2025-02-07|      10|\n",
            "|          FDF32|      16.35|         Low Fat|      0.0680243|Fruits and Vegeta...|196.4426|           OUT013|                     1987|       High|              Tier 3|Supermarket Type1|         1977.426|28-01-2025|2025-02-07|      10|\n",
            "|          FDP49|          9|         Regular|    0.069088961|           Breakfast| 56.3614|           OUT046|                     1997|      Small|              Tier 1|Supermarket Type1|        1547.3192|28-01-2025|2025-02-07|      10|\n",
            "|          NCB42|       11.8|         Low Fat|    0.008596051|  Health and Hygiene|115.3492|           OUT018|                     2009|     Medium|              Tier 3|Supermarket Type2|        1621.8888|28-01-2025|2025-02-07|      10|\n",
            "|          FDP49|          9|         Regular|    0.069196376|           Breakfast| 54.3614|           OUT049|                     1999|     Medium|              Tier 1|Supermarket Type1|         718.3982|28-01-2025|2025-02-07|      10|\n",
            "|          DRI11|       NULL|         Low Fat|    0.034237682|         Hard Drinks|113.2834|           OUT027|                     1985|     Medium|              Tier 3|Supermarket Type3|         2303.668|28-01-2025|2025-02-07|      10|\n",
            "|          FDU02|      13.35|         Low Fat|     0.10249212|               Dairy|230.5352|           OUT035|                     2004|      Small|              Tier 2|Supermarket Type1|        2748.4224|28-01-2025|2025-02-07|      10|\n",
            "+---------------+-----------+----------------+---------------+--------------------+--------+-----------------+-------------------------+-----------+--------------------+-----------------+-----------------+----------+----------+--------+\n",
            "only showing top 20 rows\n",
            "\n"
          ]
        }
      ]
    },
    {
      "cell_type": "markdown",
      "source": [
        "## Handling null values"
      ],
      "metadata": {
        "id": "k_X19au4giLa"
      }
    },
    {
      "cell_type": "markdown",
      "source": [
        "### dropping nulls"
      ],
      "metadata": {
        "id": "qXad8adyguiS"
      }
    },
    {
      "cell_type": "code",
      "source": [
        "df.count()"
      ],
      "metadata": {
        "colab": {
          "base_uri": "https://localhost:8080/"
        },
        "id": "vNlbb6N8izdN",
        "outputId": "c9578e45-4bbf-4778-d0d3-622e15421226"
      },
      "execution_count": null,
      "outputs": [
        {
          "output_type": "execute_result",
          "data": {
            "text/plain": [
              "8523"
            ]
          },
          "metadata": {},
          "execution_count": 29
        }
      ]
    },
    {
      "cell_type": "code",
      "source": [
        "## Dropping rows with any missing value\n",
        "df.dropna('any').count()"
      ],
      "metadata": {
        "colab": {
          "base_uri": "https://localhost:8080/"
        },
        "id": "YdhA5utxf151",
        "outputId": "bafaea43-0bd3-41a5-e26a-5d484427d9e7"
      },
      "execution_count": null,
      "outputs": [
        {
          "output_type": "execute_result",
          "data": {
            "text/plain": [
              "4650"
            ]
          },
          "metadata": {},
          "execution_count": 28
        }
      ]
    },
    {
      "cell_type": "code",
      "source": [
        "## Dropping rows in which all values are missing\n",
        "df.dropna('all').count()"
      ],
      "metadata": {
        "colab": {
          "base_uri": "https://localhost:8080/"
        },
        "id": "RVtmobN7ix6_",
        "outputId": "6ac28f63-0436-4bf2-8efc-b57da080bf91"
      },
      "execution_count": null,
      "outputs": [
        {
          "output_type": "execute_result",
          "data": {
            "text/plain": [
              "8523"
            ]
          },
          "metadata": {},
          "execution_count": 31
        }
      ]
    },
    {
      "cell_type": "code",
      "source": [
        "## Dropping rows which have null values in a certain column\n",
        "df.dropna(subset = ['Item_Weight']).count()"
      ],
      "metadata": {
        "colab": {
          "base_uri": "https://localhost:8080/"
        },
        "id": "X9xJrloJjW_N",
        "outputId": "5e89777b-2ac1-451f-88e9-40df6556e0da"
      },
      "execution_count": null,
      "outputs": [
        {
          "output_type": "execute_result",
          "data": {
            "text/plain": [
              "7060"
            ]
          },
          "metadata": {},
          "execution_count": 33
        }
      ]
    },
    {
      "cell_type": "markdown",
      "source": [
        "### Filling Null values\n"
      ],
      "metadata": {
        "id": "2EedpHrdkYBT"
      }
    },
    {
      "cell_type": "code",
      "source": [
        "df.printSchema()"
      ],
      "metadata": {
        "colab": {
          "base_uri": "https://localhost:8080/"
        },
        "id": "rpP0WoUbmw5w",
        "outputId": "dadb4d12-e8b0-4b52-e975-6653cac0254b"
      },
      "execution_count": null,
      "outputs": [
        {
          "output_type": "stream",
          "name": "stdout",
          "text": [
            "root\n",
            " |-- Item_Identifier: string (nullable = true)\n",
            " |-- Item_Weight: string (nullable = true)\n",
            " |-- Item_Fat_Content: string (nullable = true)\n",
            " |-- Item_Visibility: string (nullable = true)\n",
            " |-- Item_Type: string (nullable = true)\n",
            " |-- Item_MRP: string (nullable = true)\n",
            " |-- Outlet_Identifier: string (nullable = true)\n",
            " |-- Outlet_Establishment_Year: string (nullable = true)\n",
            " |-- Outlet_Size: string (nullable = true)\n",
            " |-- Outlet_Location_Type: string (nullable = true)\n",
            " |-- Outlet_Type: string (nullable = true)\n",
            " |-- Item_Outlet_Sales: string (nullable = true)\n",
            " |-- currdate: date (nullable = false)\n",
            " |-- newdate: date (nullable = false)\n",
            " |-- datediff: integer (nullable = false)\n",
            "\n"
          ]
        }
      ]
    },
    {
      "cell_type": "code",
      "source": [
        "df.fillna('not available').show()"
      ],
      "metadata": {
        "colab": {
          "base_uri": "https://localhost:8080/"
        },
        "id": "vkwezqN1j6eA",
        "outputId": "4b35ddcb-48b5-4881-fc72-6ca85320bc07"
      },
      "execution_count": null,
      "outputs": [
        {
          "output_type": "stream",
          "name": "stdout",
          "text": [
            "+---------------+-------------+----------------+---------------+--------------------+--------+-----------------+-------------------------+-------------+--------------------+-----------------+-----------------+----------+----------+--------+\n",
            "|Item_Identifier|  Item_Weight|Item_Fat_Content|Item_Visibility|           Item_Type|Item_MRP|Outlet_Identifier|Outlet_Establishment_Year|  Outlet_Size|Outlet_Location_Type|      Outlet_Type|Item_Outlet_Sales|  currdate|   newdate|datediff|\n",
            "+---------------+-------------+----------------+---------------+--------------------+--------+-----------------+-------------------------+-------------+--------------------+-----------------+-----------------+----------+----------+--------+\n",
            "|          FDA15|          9.3|         Low Fat|    0.016047301|               Dairy|249.8092|           OUT049|                     1999|       Medium|              Tier 1|Supermarket Type1|         3735.138|2025-01-28|2025-02-07|      10|\n",
            "|          DRC01|         5.92|         Regular|    0.019278216|         Soft Drinks| 48.2692|           OUT018|                     2009|       Medium|              Tier 3|Supermarket Type2|         443.4228|2025-01-28|2025-02-07|      10|\n",
            "|          FDN15|         17.5|         Low Fat|    0.016760075|                Meat| 141.618|           OUT049|                     1999|       Medium|              Tier 1|Supermarket Type1|          2097.27|2025-01-28|2025-02-07|      10|\n",
            "|          FDX07|         19.2|         Regular|              0|Fruits and Vegeta...| 182.095|           OUT010|                     1998|not available|              Tier 3|    Grocery Store|           732.38|2025-01-28|2025-02-07|      10|\n",
            "|          NCD19|         8.93|         Low Fat|              0|           Household| 53.8614|           OUT013|                     1987|         High|              Tier 3|Supermarket Type1|         994.7052|2025-01-28|2025-02-07|      10|\n",
            "|          FDP36|       10.395|         Regular|              0|        Baking Goods| 51.4008|           OUT018|                     2009|       Medium|              Tier 3|Supermarket Type2|         556.6088|2025-01-28|2025-02-07|      10|\n",
            "|          FDO10|        13.65|         Regular|    0.012741089|         Snack Foods| 57.6588|           OUT013|                     1987|         High|              Tier 3|Supermarket Type1|         343.5528|2025-01-28|2025-02-07|      10|\n",
            "|          FDP10|not available|         Low Fat|    0.127469857|         Snack Foods|107.7622|           OUT027|                     1985|       Medium|              Tier 3|Supermarket Type3|        4022.7636|2025-01-28|2025-02-07|      10|\n",
            "|          FDH17|         16.2|         Regular|    0.016687114|        Frozen Foods| 96.9726|           OUT045|                     2002|not available|              Tier 2|Supermarket Type1|        1076.5986|2025-01-28|2025-02-07|      10|\n",
            "|          FDU28|         19.2|         Regular|     0.09444959|        Frozen Foods|187.8214|           OUT017|                     2007|not available|              Tier 2|Supermarket Type1|         4710.535|2025-01-28|2025-02-07|      10|\n",
            "|          FDY07|         11.8|         Low Fat|              0|Fruits and Vegeta...| 45.5402|           OUT049|                     1999|       Medium|              Tier 1|Supermarket Type1|        1516.0266|2025-01-28|2025-02-07|      10|\n",
            "|          FDA03|         18.5|         Regular|    0.045463773|               Dairy|144.1102|           OUT046|                     1997|        Small|              Tier 1|Supermarket Type1|         2187.153|2025-01-28|2025-02-07|      10|\n",
            "|          FDX32|         15.1|         Regular|      0.1000135|Fruits and Vegeta...|145.4786|           OUT049|                     1999|       Medium|              Tier 1|Supermarket Type1|        1589.2646|2025-01-28|2025-02-07|      10|\n",
            "|          FDS46|         17.6|         Regular|    0.047257328|         Snack Foods|119.6782|           OUT046|                     1997|        Small|              Tier 1|Supermarket Type1|        2145.2076|2025-01-28|2025-02-07|      10|\n",
            "|          FDF32|        16.35|         Low Fat|      0.0680243|Fruits and Vegeta...|196.4426|           OUT013|                     1987|         High|              Tier 3|Supermarket Type1|         1977.426|2025-01-28|2025-02-07|      10|\n",
            "|          FDP49|            9|         Regular|    0.069088961|           Breakfast| 56.3614|           OUT046|                     1997|        Small|              Tier 1|Supermarket Type1|        1547.3192|2025-01-28|2025-02-07|      10|\n",
            "|          NCB42|         11.8|         Low Fat|    0.008596051|  Health and Hygiene|115.3492|           OUT018|                     2009|       Medium|              Tier 3|Supermarket Type2|        1621.8888|2025-01-28|2025-02-07|      10|\n",
            "|          FDP49|            9|         Regular|    0.069196376|           Breakfast| 54.3614|           OUT049|                     1999|       Medium|              Tier 1|Supermarket Type1|         718.3982|2025-01-28|2025-02-07|      10|\n",
            "|          DRI11|not available|         Low Fat|    0.034237682|         Hard Drinks|113.2834|           OUT027|                     1985|       Medium|              Tier 3|Supermarket Type3|         2303.668|2025-01-28|2025-02-07|      10|\n",
            "|          FDU02|        13.35|         Low Fat|     0.10249212|               Dairy|230.5352|           OUT035|                     2004|        Small|              Tier 2|Supermarket Type1|        2748.4224|2025-01-28|2025-02-07|      10|\n",
            "+---------------+-------------+----------------+---------------+--------------------+--------+-----------------+-------------------------+-------------+--------------------+-----------------+-----------------+----------+----------+--------+\n",
            "only showing top 20 rows\n",
            "\n"
          ]
        }
      ]
    },
    {
      "cell_type": "code",
      "source": [
        "df.fillna('not available',subset=['Item_Fat_Content']).show()"
      ],
      "metadata": {
        "colab": {
          "base_uri": "https://localhost:8080/"
        },
        "id": "hlAEpQ81miQw",
        "outputId": "16f5c9e6-ce8c-42d7-df34-e0778c502842"
      },
      "execution_count": null,
      "outputs": [
        {
          "output_type": "stream",
          "name": "stdout",
          "text": [
            "+---------------+-----------+----------------+---------------+--------------------+--------+-----------------+-------------------------+-----------+--------------------+-----------------+-----------------+----------+----------+--------+\n",
            "|Item_Identifier|Item_Weight|Item_Fat_Content|Item_Visibility|           Item_Type|Item_MRP|Outlet_Identifier|Outlet_Establishment_Year|Outlet_Size|Outlet_Location_Type|      Outlet_Type|Item_Outlet_Sales|  currdate|   newdate|datediff|\n",
            "+---------------+-----------+----------------+---------------+--------------------+--------+-----------------+-------------------------+-----------+--------------------+-----------------+-----------------+----------+----------+--------+\n",
            "|          FDA15|        9.3|         Low Fat|    0.016047301|               Dairy|249.8092|           OUT049|                     1999|     Medium|              Tier 1|Supermarket Type1|         3735.138|2025-01-28|2025-02-07|      10|\n",
            "|          DRC01|       5.92|         Regular|    0.019278216|         Soft Drinks| 48.2692|           OUT018|                     2009|     Medium|              Tier 3|Supermarket Type2|         443.4228|2025-01-28|2025-02-07|      10|\n",
            "|          FDN15|       17.5|         Low Fat|    0.016760075|                Meat| 141.618|           OUT049|                     1999|     Medium|              Tier 1|Supermarket Type1|          2097.27|2025-01-28|2025-02-07|      10|\n",
            "|          FDX07|       19.2|         Regular|              0|Fruits and Vegeta...| 182.095|           OUT010|                     1998|       NULL|              Tier 3|    Grocery Store|           732.38|2025-01-28|2025-02-07|      10|\n",
            "|          NCD19|       8.93|         Low Fat|              0|           Household| 53.8614|           OUT013|                     1987|       High|              Tier 3|Supermarket Type1|         994.7052|2025-01-28|2025-02-07|      10|\n",
            "|          FDP36|     10.395|         Regular|              0|        Baking Goods| 51.4008|           OUT018|                     2009|     Medium|              Tier 3|Supermarket Type2|         556.6088|2025-01-28|2025-02-07|      10|\n",
            "|          FDO10|      13.65|         Regular|    0.012741089|         Snack Foods| 57.6588|           OUT013|                     1987|       High|              Tier 3|Supermarket Type1|         343.5528|2025-01-28|2025-02-07|      10|\n",
            "|          FDP10|       NULL|         Low Fat|    0.127469857|         Snack Foods|107.7622|           OUT027|                     1985|     Medium|              Tier 3|Supermarket Type3|        4022.7636|2025-01-28|2025-02-07|      10|\n",
            "|          FDH17|       16.2|         Regular|    0.016687114|        Frozen Foods| 96.9726|           OUT045|                     2002|       NULL|              Tier 2|Supermarket Type1|        1076.5986|2025-01-28|2025-02-07|      10|\n",
            "|          FDU28|       19.2|         Regular|     0.09444959|        Frozen Foods|187.8214|           OUT017|                     2007|       NULL|              Tier 2|Supermarket Type1|         4710.535|2025-01-28|2025-02-07|      10|\n",
            "|          FDY07|       11.8|         Low Fat|              0|Fruits and Vegeta...| 45.5402|           OUT049|                     1999|     Medium|              Tier 1|Supermarket Type1|        1516.0266|2025-01-28|2025-02-07|      10|\n",
            "|          FDA03|       18.5|         Regular|    0.045463773|               Dairy|144.1102|           OUT046|                     1997|      Small|              Tier 1|Supermarket Type1|         2187.153|2025-01-28|2025-02-07|      10|\n",
            "|          FDX32|       15.1|         Regular|      0.1000135|Fruits and Vegeta...|145.4786|           OUT049|                     1999|     Medium|              Tier 1|Supermarket Type1|        1589.2646|2025-01-28|2025-02-07|      10|\n",
            "|          FDS46|       17.6|         Regular|    0.047257328|         Snack Foods|119.6782|           OUT046|                     1997|      Small|              Tier 1|Supermarket Type1|        2145.2076|2025-01-28|2025-02-07|      10|\n",
            "|          FDF32|      16.35|         Low Fat|      0.0680243|Fruits and Vegeta...|196.4426|           OUT013|                     1987|       High|              Tier 3|Supermarket Type1|         1977.426|2025-01-28|2025-02-07|      10|\n",
            "|          FDP49|          9|         Regular|    0.069088961|           Breakfast| 56.3614|           OUT046|                     1997|      Small|              Tier 1|Supermarket Type1|        1547.3192|2025-01-28|2025-02-07|      10|\n",
            "|          NCB42|       11.8|         Low Fat|    0.008596051|  Health and Hygiene|115.3492|           OUT018|                     2009|     Medium|              Tier 3|Supermarket Type2|        1621.8888|2025-01-28|2025-02-07|      10|\n",
            "|          FDP49|          9|         Regular|    0.069196376|           Breakfast| 54.3614|           OUT049|                     1999|     Medium|              Tier 1|Supermarket Type1|         718.3982|2025-01-28|2025-02-07|      10|\n",
            "|          DRI11|       NULL|         Low Fat|    0.034237682|         Hard Drinks|113.2834|           OUT027|                     1985|     Medium|              Tier 3|Supermarket Type3|         2303.668|2025-01-28|2025-02-07|      10|\n",
            "|          FDU02|      13.35|         Low Fat|     0.10249212|               Dairy|230.5352|           OUT035|                     2004|      Small|              Tier 2|Supermarket Type1|        2748.4224|2025-01-28|2025-02-07|      10|\n",
            "+---------------+-----------+----------------+---------------+--------------------+--------+-----------------+-------------------------+-----------+--------------------+-----------------+-----------------+----------+----------+--------+\n",
            "only showing top 20 rows\n",
            "\n"
          ]
        }
      ]
    },
    {
      "cell_type": "markdown",
      "source": [
        "## Split and indexing"
      ],
      "metadata": {
        "id": "GrcAzyw5qMGj"
      }
    },
    {
      "cell_type": "code",
      "source": [
        "## Splitting column based on delimiter\n",
        "\n",
        "df.withColumn('Outlet_Type',split(col('Outlet_Type'),' ')).show()"
      ],
      "metadata": {
        "colab": {
          "base_uri": "https://localhost:8080/"
        },
        "id": "mXm75Cq-p85J",
        "outputId": "011b6bb5-24db-43d6-8c7a-fdab71c8d460"
      },
      "execution_count": null,
      "outputs": [
        {
          "output_type": "stream",
          "name": "stdout",
          "text": [
            "+---------------+-----------+----------------+---------------+--------------------+--------+-----------------+-------------------------+-----------+--------------------+--------------------+-----------------+----------+----------+--------+\n",
            "|Item_Identifier|Item_Weight|Item_Fat_Content|Item_Visibility|           Item_Type|Item_MRP|Outlet_Identifier|Outlet_Establishment_Year|Outlet_Size|Outlet_Location_Type|         Outlet_Type|Item_Outlet_Sales|  currdate|   newdate|datediff|\n",
            "+---------------+-----------+----------------+---------------+--------------------+--------+-----------------+-------------------------+-----------+--------------------+--------------------+-----------------+----------+----------+--------+\n",
            "|          FDA15|        9.3|         Low Fat|    0.016047301|               Dairy|249.8092|           OUT049|                     1999|     Medium|              Tier 1|[Supermarket, Type1]|         3735.138|2025-01-28|2025-02-07|      10|\n",
            "|          DRC01|       5.92|         Regular|    0.019278216|         Soft Drinks| 48.2692|           OUT018|                     2009|     Medium|              Tier 3|[Supermarket, Type2]|         443.4228|2025-01-28|2025-02-07|      10|\n",
            "|          FDN15|       17.5|         Low Fat|    0.016760075|                Meat| 141.618|           OUT049|                     1999|     Medium|              Tier 1|[Supermarket, Type1]|          2097.27|2025-01-28|2025-02-07|      10|\n",
            "|          FDX07|       19.2|         Regular|              0|Fruits and Vegeta...| 182.095|           OUT010|                     1998|       NULL|              Tier 3|    [Grocery, Store]|           732.38|2025-01-28|2025-02-07|      10|\n",
            "|          NCD19|       8.93|         Low Fat|              0|           Household| 53.8614|           OUT013|                     1987|       High|              Tier 3|[Supermarket, Type1]|         994.7052|2025-01-28|2025-02-07|      10|\n",
            "|          FDP36|     10.395|         Regular|              0|        Baking Goods| 51.4008|           OUT018|                     2009|     Medium|              Tier 3|[Supermarket, Type2]|         556.6088|2025-01-28|2025-02-07|      10|\n",
            "|          FDO10|      13.65|         Regular|    0.012741089|         Snack Foods| 57.6588|           OUT013|                     1987|       High|              Tier 3|[Supermarket, Type1]|         343.5528|2025-01-28|2025-02-07|      10|\n",
            "|          FDP10|       NULL|         Low Fat|    0.127469857|         Snack Foods|107.7622|           OUT027|                     1985|     Medium|              Tier 3|[Supermarket, Type3]|        4022.7636|2025-01-28|2025-02-07|      10|\n",
            "|          FDH17|       16.2|         Regular|    0.016687114|        Frozen Foods| 96.9726|           OUT045|                     2002|       NULL|              Tier 2|[Supermarket, Type1]|        1076.5986|2025-01-28|2025-02-07|      10|\n",
            "|          FDU28|       19.2|         Regular|     0.09444959|        Frozen Foods|187.8214|           OUT017|                     2007|       NULL|              Tier 2|[Supermarket, Type1]|         4710.535|2025-01-28|2025-02-07|      10|\n",
            "|          FDY07|       11.8|         Low Fat|              0|Fruits and Vegeta...| 45.5402|           OUT049|                     1999|     Medium|              Tier 1|[Supermarket, Type1]|        1516.0266|2025-01-28|2025-02-07|      10|\n",
            "|          FDA03|       18.5|         Regular|    0.045463773|               Dairy|144.1102|           OUT046|                     1997|      Small|              Tier 1|[Supermarket, Type1]|         2187.153|2025-01-28|2025-02-07|      10|\n",
            "|          FDX32|       15.1|         Regular|      0.1000135|Fruits and Vegeta...|145.4786|           OUT049|                     1999|     Medium|              Tier 1|[Supermarket, Type1]|        1589.2646|2025-01-28|2025-02-07|      10|\n",
            "|          FDS46|       17.6|         Regular|    0.047257328|         Snack Foods|119.6782|           OUT046|                     1997|      Small|              Tier 1|[Supermarket, Type1]|        2145.2076|2025-01-28|2025-02-07|      10|\n",
            "|          FDF32|      16.35|         Low Fat|      0.0680243|Fruits and Vegeta...|196.4426|           OUT013|                     1987|       High|              Tier 3|[Supermarket, Type1]|         1977.426|2025-01-28|2025-02-07|      10|\n",
            "|          FDP49|          9|         Regular|    0.069088961|           Breakfast| 56.3614|           OUT046|                     1997|      Small|              Tier 1|[Supermarket, Type1]|        1547.3192|2025-01-28|2025-02-07|      10|\n",
            "|          NCB42|       11.8|         Low Fat|    0.008596051|  Health and Hygiene|115.3492|           OUT018|                     2009|     Medium|              Tier 3|[Supermarket, Type2]|        1621.8888|2025-01-28|2025-02-07|      10|\n",
            "|          FDP49|          9|         Regular|    0.069196376|           Breakfast| 54.3614|           OUT049|                     1999|     Medium|              Tier 1|[Supermarket, Type1]|         718.3982|2025-01-28|2025-02-07|      10|\n",
            "|          DRI11|       NULL|         Low Fat|    0.034237682|         Hard Drinks|113.2834|           OUT027|                     1985|     Medium|              Tier 3|[Supermarket, Type3]|         2303.668|2025-01-28|2025-02-07|      10|\n",
            "|          FDU02|      13.35|         Low Fat|     0.10249212|               Dairy|230.5352|           OUT035|                     2004|      Small|              Tier 2|[Supermarket, Type1]|        2748.4224|2025-01-28|2025-02-07|      10|\n",
            "+---------------+-----------+----------------+---------------+--------------------+--------+-----------------+-------------------------+-----------+--------------------+--------------------+-----------------+----------+----------+--------+\n",
            "only showing top 20 rows\n",
            "\n"
          ]
        }
      ]
    },
    {
      "cell_type": "code",
      "source": [
        "## Indexing\n",
        "\n",
        "df.withColumn('Outlet_Type',split(col('Outlet_Type'),' ')[1]).show()"
      ],
      "metadata": {
        "colab": {
          "base_uri": "https://localhost:8080/"
        },
        "id": "yBzhHU38rkMt",
        "outputId": "f1c1d38a-24cc-4216-a8ed-5e0f13e15169"
      },
      "execution_count": null,
      "outputs": [
        {
          "output_type": "stream",
          "name": "stdout",
          "text": [
            "+---------------+-----------+----------------+---------------+--------------------+--------+-----------------+-------------------------+-----------+--------------------+-----------+-----------------+----------+----------+--------+\n",
            "|Item_Identifier|Item_Weight|Item_Fat_Content|Item_Visibility|           Item_Type|Item_MRP|Outlet_Identifier|Outlet_Establishment_Year|Outlet_Size|Outlet_Location_Type|Outlet_Type|Item_Outlet_Sales|  currdate|   newdate|datediff|\n",
            "+---------------+-----------+----------------+---------------+--------------------+--------+-----------------+-------------------------+-----------+--------------------+-----------+-----------------+----------+----------+--------+\n",
            "|          FDA15|        9.3|         Low Fat|    0.016047301|               Dairy|249.8092|           OUT049|                     1999|     Medium|              Tier 1|      Type1|         3735.138|2025-01-28|2025-02-07|      10|\n",
            "|          DRC01|       5.92|         Regular|    0.019278216|         Soft Drinks| 48.2692|           OUT018|                     2009|     Medium|              Tier 3|      Type2|         443.4228|2025-01-28|2025-02-07|      10|\n",
            "|          FDN15|       17.5|         Low Fat|    0.016760075|                Meat| 141.618|           OUT049|                     1999|     Medium|              Tier 1|      Type1|          2097.27|2025-01-28|2025-02-07|      10|\n",
            "|          FDX07|       19.2|         Regular|              0|Fruits and Vegeta...| 182.095|           OUT010|                     1998|       NULL|              Tier 3|      Store|           732.38|2025-01-28|2025-02-07|      10|\n",
            "|          NCD19|       8.93|         Low Fat|              0|           Household| 53.8614|           OUT013|                     1987|       High|              Tier 3|      Type1|         994.7052|2025-01-28|2025-02-07|      10|\n",
            "|          FDP36|     10.395|         Regular|              0|        Baking Goods| 51.4008|           OUT018|                     2009|     Medium|              Tier 3|      Type2|         556.6088|2025-01-28|2025-02-07|      10|\n",
            "|          FDO10|      13.65|         Regular|    0.012741089|         Snack Foods| 57.6588|           OUT013|                     1987|       High|              Tier 3|      Type1|         343.5528|2025-01-28|2025-02-07|      10|\n",
            "|          FDP10|       NULL|         Low Fat|    0.127469857|         Snack Foods|107.7622|           OUT027|                     1985|     Medium|              Tier 3|      Type3|        4022.7636|2025-01-28|2025-02-07|      10|\n",
            "|          FDH17|       16.2|         Regular|    0.016687114|        Frozen Foods| 96.9726|           OUT045|                     2002|       NULL|              Tier 2|      Type1|        1076.5986|2025-01-28|2025-02-07|      10|\n",
            "|          FDU28|       19.2|         Regular|     0.09444959|        Frozen Foods|187.8214|           OUT017|                     2007|       NULL|              Tier 2|      Type1|         4710.535|2025-01-28|2025-02-07|      10|\n",
            "|          FDY07|       11.8|         Low Fat|              0|Fruits and Vegeta...| 45.5402|           OUT049|                     1999|     Medium|              Tier 1|      Type1|        1516.0266|2025-01-28|2025-02-07|      10|\n",
            "|          FDA03|       18.5|         Regular|    0.045463773|               Dairy|144.1102|           OUT046|                     1997|      Small|              Tier 1|      Type1|         2187.153|2025-01-28|2025-02-07|      10|\n",
            "|          FDX32|       15.1|         Regular|      0.1000135|Fruits and Vegeta...|145.4786|           OUT049|                     1999|     Medium|              Tier 1|      Type1|        1589.2646|2025-01-28|2025-02-07|      10|\n",
            "|          FDS46|       17.6|         Regular|    0.047257328|         Snack Foods|119.6782|           OUT046|                     1997|      Small|              Tier 1|      Type1|        2145.2076|2025-01-28|2025-02-07|      10|\n",
            "|          FDF32|      16.35|         Low Fat|      0.0680243|Fruits and Vegeta...|196.4426|           OUT013|                     1987|       High|              Tier 3|      Type1|         1977.426|2025-01-28|2025-02-07|      10|\n",
            "|          FDP49|          9|         Regular|    0.069088961|           Breakfast| 56.3614|           OUT046|                     1997|      Small|              Tier 1|      Type1|        1547.3192|2025-01-28|2025-02-07|      10|\n",
            "|          NCB42|       11.8|         Low Fat|    0.008596051|  Health and Hygiene|115.3492|           OUT018|                     2009|     Medium|              Tier 3|      Type2|        1621.8888|2025-01-28|2025-02-07|      10|\n",
            "|          FDP49|          9|         Regular|    0.069196376|           Breakfast| 54.3614|           OUT049|                     1999|     Medium|              Tier 1|      Type1|         718.3982|2025-01-28|2025-02-07|      10|\n",
            "|          DRI11|       NULL|         Low Fat|    0.034237682|         Hard Drinks|113.2834|           OUT027|                     1985|     Medium|              Tier 3|      Type3|         2303.668|2025-01-28|2025-02-07|      10|\n",
            "|          FDU02|      13.35|         Low Fat|     0.10249212|               Dairy|230.5352|           OUT035|                     2004|      Small|              Tier 2|      Type1|        2748.4224|2025-01-28|2025-02-07|      10|\n",
            "+---------------+-----------+----------------+---------------+--------------------+--------+-----------------+-------------------------+-----------+--------------------+-----------+-----------------+----------+----------+--------+\n",
            "only showing top 20 rows\n",
            "\n"
          ]
        }
      ]
    },
    {
      "cell_type": "markdown",
      "source": [
        "## Explode function"
      ],
      "metadata": {
        "id": "-2SruOvSsWQt"
      }
    },
    {
      "cell_type": "code",
      "source": [
        "df_exp = df.withColumn('Outlet_Type',split(col('Outlet_Type'),' '))"
      ],
      "metadata": {
        "id": "mRc2FRfqr8cY"
      },
      "execution_count": null,
      "outputs": []
    },
    {
      "cell_type": "code",
      "source": [
        "df_exp.show()"
      ],
      "metadata": {
        "colab": {
          "base_uri": "https://localhost:8080/"
        },
        "id": "dC-Lhm4AtcqU",
        "outputId": "29a76cf3-25a9-4303-d3a2-d3445b188490"
      },
      "execution_count": null,
      "outputs": [
        {
          "output_type": "stream",
          "name": "stdout",
          "text": [
            "+---------------+-----------+----------------+---------------+--------------------+--------+-----------------+-------------------------+-----------+--------------------+--------------------+-----------------+----------+----------+--------+\n",
            "|Item_Identifier|Item_Weight|Item_Fat_Content|Item_Visibility|           Item_Type|Item_MRP|Outlet_Identifier|Outlet_Establishment_Year|Outlet_Size|Outlet_Location_Type|         Outlet_Type|Item_Outlet_Sales|  currdate|   newdate|datediff|\n",
            "+---------------+-----------+----------------+---------------+--------------------+--------+-----------------+-------------------------+-----------+--------------------+--------------------+-----------------+----------+----------+--------+\n",
            "|          FDA15|        9.3|         Low Fat|    0.016047301|               Dairy|249.8092|           OUT049|                     1999|     Medium|              Tier 1|[Supermarket, Type1]|         3735.138|2025-01-28|2025-02-07|      10|\n",
            "|          DRC01|       5.92|         Regular|    0.019278216|         Soft Drinks| 48.2692|           OUT018|                     2009|     Medium|              Tier 3|[Supermarket, Type2]|         443.4228|2025-01-28|2025-02-07|      10|\n",
            "|          FDN15|       17.5|         Low Fat|    0.016760075|                Meat| 141.618|           OUT049|                     1999|     Medium|              Tier 1|[Supermarket, Type1]|          2097.27|2025-01-28|2025-02-07|      10|\n",
            "|          FDX07|       19.2|         Regular|              0|Fruits and Vegeta...| 182.095|           OUT010|                     1998|       NULL|              Tier 3|    [Grocery, Store]|           732.38|2025-01-28|2025-02-07|      10|\n",
            "|          NCD19|       8.93|         Low Fat|              0|           Household| 53.8614|           OUT013|                     1987|       High|              Tier 3|[Supermarket, Type1]|         994.7052|2025-01-28|2025-02-07|      10|\n",
            "|          FDP36|     10.395|         Regular|              0|        Baking Goods| 51.4008|           OUT018|                     2009|     Medium|              Tier 3|[Supermarket, Type2]|         556.6088|2025-01-28|2025-02-07|      10|\n",
            "|          FDO10|      13.65|         Regular|    0.012741089|         Snack Foods| 57.6588|           OUT013|                     1987|       High|              Tier 3|[Supermarket, Type1]|         343.5528|2025-01-28|2025-02-07|      10|\n",
            "|          FDP10|       NULL|         Low Fat|    0.127469857|         Snack Foods|107.7622|           OUT027|                     1985|     Medium|              Tier 3|[Supermarket, Type3]|        4022.7636|2025-01-28|2025-02-07|      10|\n",
            "|          FDH17|       16.2|         Regular|    0.016687114|        Frozen Foods| 96.9726|           OUT045|                     2002|       NULL|              Tier 2|[Supermarket, Type1]|        1076.5986|2025-01-28|2025-02-07|      10|\n",
            "|          FDU28|       19.2|         Regular|     0.09444959|        Frozen Foods|187.8214|           OUT017|                     2007|       NULL|              Tier 2|[Supermarket, Type1]|         4710.535|2025-01-28|2025-02-07|      10|\n",
            "|          FDY07|       11.8|         Low Fat|              0|Fruits and Vegeta...| 45.5402|           OUT049|                     1999|     Medium|              Tier 1|[Supermarket, Type1]|        1516.0266|2025-01-28|2025-02-07|      10|\n",
            "|          FDA03|       18.5|         Regular|    0.045463773|               Dairy|144.1102|           OUT046|                     1997|      Small|              Tier 1|[Supermarket, Type1]|         2187.153|2025-01-28|2025-02-07|      10|\n",
            "|          FDX32|       15.1|         Regular|      0.1000135|Fruits and Vegeta...|145.4786|           OUT049|                     1999|     Medium|              Tier 1|[Supermarket, Type1]|        1589.2646|2025-01-28|2025-02-07|      10|\n",
            "|          FDS46|       17.6|         Regular|    0.047257328|         Snack Foods|119.6782|           OUT046|                     1997|      Small|              Tier 1|[Supermarket, Type1]|        2145.2076|2025-01-28|2025-02-07|      10|\n",
            "|          FDF32|      16.35|         Low Fat|      0.0680243|Fruits and Vegeta...|196.4426|           OUT013|                     1987|       High|              Tier 3|[Supermarket, Type1]|         1977.426|2025-01-28|2025-02-07|      10|\n",
            "|          FDP49|          9|         Regular|    0.069088961|           Breakfast| 56.3614|           OUT046|                     1997|      Small|              Tier 1|[Supermarket, Type1]|        1547.3192|2025-01-28|2025-02-07|      10|\n",
            "|          NCB42|       11.8|         Low Fat|    0.008596051|  Health and Hygiene|115.3492|           OUT018|                     2009|     Medium|              Tier 3|[Supermarket, Type2]|        1621.8888|2025-01-28|2025-02-07|      10|\n",
            "|          FDP49|          9|         Regular|    0.069196376|           Breakfast| 54.3614|           OUT049|                     1999|     Medium|              Tier 1|[Supermarket, Type1]|         718.3982|2025-01-28|2025-02-07|      10|\n",
            "|          DRI11|       NULL|         Low Fat|    0.034237682|         Hard Drinks|113.2834|           OUT027|                     1985|     Medium|              Tier 3|[Supermarket, Type3]|         2303.668|2025-01-28|2025-02-07|      10|\n",
            "|          FDU02|      13.35|         Low Fat|     0.10249212|               Dairy|230.5352|           OUT035|                     2004|      Small|              Tier 2|[Supermarket, Type1]|        2748.4224|2025-01-28|2025-02-07|      10|\n",
            "+---------------+-----------+----------------+---------------+--------------------+--------+-----------------+-------------------------+-----------+--------------------+--------------------+-----------------+----------+----------+--------+\n",
            "only showing top 20 rows\n",
            "\n"
          ]
        }
      ]
    },
    {
      "cell_type": "code",
      "source": [
        "df_exp.withColumn('Outlet_Type',explode(col('Outlet_Type'))).show()"
      ],
      "metadata": {
        "colab": {
          "base_uri": "https://localhost:8080/"
        },
        "id": "MZaE6I5IteTw",
        "outputId": "b0768573-a9ef-460e-ca6c-c31f67f85223"
      },
      "execution_count": null,
      "outputs": [
        {
          "output_type": "stream",
          "name": "stdout",
          "text": [
            "+---------------+-----------+----------------+---------------+--------------------+--------+-----------------+-------------------------+-----------+--------------------+-----------+-----------------+----------+----------+--------+\n",
            "|Item_Identifier|Item_Weight|Item_Fat_Content|Item_Visibility|           Item_Type|Item_MRP|Outlet_Identifier|Outlet_Establishment_Year|Outlet_Size|Outlet_Location_Type|Outlet_Type|Item_Outlet_Sales|  currdate|   newdate|datediff|\n",
            "+---------------+-----------+----------------+---------------+--------------------+--------+-----------------+-------------------------+-----------+--------------------+-----------+-----------------+----------+----------+--------+\n",
            "|          FDA15|        9.3|         Low Fat|    0.016047301|               Dairy|249.8092|           OUT049|                     1999|     Medium|              Tier 1|Supermarket|         3735.138|2025-01-28|2025-02-07|      10|\n",
            "|          FDA15|        9.3|         Low Fat|    0.016047301|               Dairy|249.8092|           OUT049|                     1999|     Medium|              Tier 1|      Type1|         3735.138|2025-01-28|2025-02-07|      10|\n",
            "|          DRC01|       5.92|         Regular|    0.019278216|         Soft Drinks| 48.2692|           OUT018|                     2009|     Medium|              Tier 3|Supermarket|         443.4228|2025-01-28|2025-02-07|      10|\n",
            "|          DRC01|       5.92|         Regular|    0.019278216|         Soft Drinks| 48.2692|           OUT018|                     2009|     Medium|              Tier 3|      Type2|         443.4228|2025-01-28|2025-02-07|      10|\n",
            "|          FDN15|       17.5|         Low Fat|    0.016760075|                Meat| 141.618|           OUT049|                     1999|     Medium|              Tier 1|Supermarket|          2097.27|2025-01-28|2025-02-07|      10|\n",
            "|          FDN15|       17.5|         Low Fat|    0.016760075|                Meat| 141.618|           OUT049|                     1999|     Medium|              Tier 1|      Type1|          2097.27|2025-01-28|2025-02-07|      10|\n",
            "|          FDX07|       19.2|         Regular|              0|Fruits and Vegeta...| 182.095|           OUT010|                     1998|       NULL|              Tier 3|    Grocery|           732.38|2025-01-28|2025-02-07|      10|\n",
            "|          FDX07|       19.2|         Regular|              0|Fruits and Vegeta...| 182.095|           OUT010|                     1998|       NULL|              Tier 3|      Store|           732.38|2025-01-28|2025-02-07|      10|\n",
            "|          NCD19|       8.93|         Low Fat|              0|           Household| 53.8614|           OUT013|                     1987|       High|              Tier 3|Supermarket|         994.7052|2025-01-28|2025-02-07|      10|\n",
            "|          NCD19|       8.93|         Low Fat|              0|           Household| 53.8614|           OUT013|                     1987|       High|              Tier 3|      Type1|         994.7052|2025-01-28|2025-02-07|      10|\n",
            "|          FDP36|     10.395|         Regular|              0|        Baking Goods| 51.4008|           OUT018|                     2009|     Medium|              Tier 3|Supermarket|         556.6088|2025-01-28|2025-02-07|      10|\n",
            "|          FDP36|     10.395|         Regular|              0|        Baking Goods| 51.4008|           OUT018|                     2009|     Medium|              Tier 3|      Type2|         556.6088|2025-01-28|2025-02-07|      10|\n",
            "|          FDO10|      13.65|         Regular|    0.012741089|         Snack Foods| 57.6588|           OUT013|                     1987|       High|              Tier 3|Supermarket|         343.5528|2025-01-28|2025-02-07|      10|\n",
            "|          FDO10|      13.65|         Regular|    0.012741089|         Snack Foods| 57.6588|           OUT013|                     1987|       High|              Tier 3|      Type1|         343.5528|2025-01-28|2025-02-07|      10|\n",
            "|          FDP10|       NULL|         Low Fat|    0.127469857|         Snack Foods|107.7622|           OUT027|                     1985|     Medium|              Tier 3|Supermarket|        4022.7636|2025-01-28|2025-02-07|      10|\n",
            "|          FDP10|       NULL|         Low Fat|    0.127469857|         Snack Foods|107.7622|           OUT027|                     1985|     Medium|              Tier 3|      Type3|        4022.7636|2025-01-28|2025-02-07|      10|\n",
            "|          FDH17|       16.2|         Regular|    0.016687114|        Frozen Foods| 96.9726|           OUT045|                     2002|       NULL|              Tier 2|Supermarket|        1076.5986|2025-01-28|2025-02-07|      10|\n",
            "|          FDH17|       16.2|         Regular|    0.016687114|        Frozen Foods| 96.9726|           OUT045|                     2002|       NULL|              Tier 2|      Type1|        1076.5986|2025-01-28|2025-02-07|      10|\n",
            "|          FDU28|       19.2|         Regular|     0.09444959|        Frozen Foods|187.8214|           OUT017|                     2007|       NULL|              Tier 2|Supermarket|         4710.535|2025-01-28|2025-02-07|      10|\n",
            "|          FDU28|       19.2|         Regular|     0.09444959|        Frozen Foods|187.8214|           OUT017|                     2007|       NULL|              Tier 2|      Type1|         4710.535|2025-01-28|2025-02-07|      10|\n",
            "+---------------+-----------+----------------+---------------+--------------------+--------+-----------------+-------------------------+-----------+--------------------+-----------+-----------------+----------+----------+--------+\n",
            "only showing top 20 rows\n",
            "\n"
          ]
        }
      ]
    },
    {
      "cell_type": "markdown",
      "source": [
        "## Array Contains"
      ],
      "metadata": {
        "id": "Ony6G_SNuBBK"
      }
    },
    {
      "cell_type": "code",
      "source": [
        "df_split = df.withColumn('Outlet_Type',split(col('Outlet_Type'),' '))"
      ],
      "metadata": {
        "id": "EoBCAMahuAvh"
      },
      "execution_count": null,
      "outputs": []
    },
    {
      "cell_type": "code",
      "source": [
        "df_split.withColumn('Type1present',array_contains(col('Outlet_Type'),'Type1')).show()"
      ],
      "metadata": {
        "id": "1nc_8jQXt9Pl",
        "colab": {
          "base_uri": "https://localhost:8080/"
        },
        "outputId": "124f8ca6-9236-48ff-93f5-3933edb5ed48"
      },
      "execution_count": null,
      "outputs": [
        {
          "output_type": "stream",
          "name": "stdout",
          "text": [
            "+---------------+-----------+----------------+---------------+--------------------+--------+-----------------+-------------------------+-----------+--------------------+--------------------+-----------------+------------+\n",
            "|Item_Identifier|Item_Weight|Item_Fat_Content|Item_Visibility|           Item_Type|Item_MRP|Outlet_Identifier|Outlet_Establishment_Year|Outlet_Size|Outlet_Location_Type|         Outlet_Type|Item_Outlet_Sales|Type1present|\n",
            "+---------------+-----------+----------------+---------------+--------------------+--------+-----------------+-------------------------+-----------+--------------------+--------------------+-----------------+------------+\n",
            "|          FDA15|        9.3|         Low Fat|    0.016047301|               Dairy|249.8092|           OUT049|                     1999|     Medium|              Tier 1|[Supermarket, Type1]|         3735.138|        true|\n",
            "|          DRC01|       5.92|         Regular|    0.019278216|         Soft Drinks| 48.2692|           OUT018|                     2009|     Medium|              Tier 3|[Supermarket, Type2]|         443.4228|       false|\n",
            "|          FDN15|       17.5|         Low Fat|    0.016760075|                Meat| 141.618|           OUT049|                     1999|     Medium|              Tier 1|[Supermarket, Type1]|          2097.27|        true|\n",
            "|          FDX07|       19.2|         Regular|              0|Fruits and Vegeta...| 182.095|           OUT010|                     1998|       NULL|              Tier 3|    [Grocery, Store]|           732.38|       false|\n",
            "|          NCD19|       8.93|         Low Fat|              0|           Household| 53.8614|           OUT013|                     1987|       High|              Tier 3|[Supermarket, Type1]|         994.7052|        true|\n",
            "|          FDP36|     10.395|         Regular|              0|        Baking Goods| 51.4008|           OUT018|                     2009|     Medium|              Tier 3|[Supermarket, Type2]|         556.6088|       false|\n",
            "|          FDO10|      13.65|         Regular|    0.012741089|         Snack Foods| 57.6588|           OUT013|                     1987|       High|              Tier 3|[Supermarket, Type1]|         343.5528|        true|\n",
            "|          FDP10|       NULL|         Low Fat|    0.127469857|         Snack Foods|107.7622|           OUT027|                     1985|     Medium|              Tier 3|[Supermarket, Type3]|        4022.7636|       false|\n",
            "|          FDH17|       16.2|         Regular|    0.016687114|        Frozen Foods| 96.9726|           OUT045|                     2002|       NULL|              Tier 2|[Supermarket, Type1]|        1076.5986|        true|\n",
            "|          FDU28|       19.2|         Regular|     0.09444959|        Frozen Foods|187.8214|           OUT017|                     2007|       NULL|              Tier 2|[Supermarket, Type1]|         4710.535|        true|\n",
            "|          FDY07|       11.8|         Low Fat|              0|Fruits and Vegeta...| 45.5402|           OUT049|                     1999|     Medium|              Tier 1|[Supermarket, Type1]|        1516.0266|        true|\n",
            "|          FDA03|       18.5|         Regular|    0.045463773|               Dairy|144.1102|           OUT046|                     1997|      Small|              Tier 1|[Supermarket, Type1]|         2187.153|        true|\n",
            "|          FDX32|       15.1|         Regular|      0.1000135|Fruits and Vegeta...|145.4786|           OUT049|                     1999|     Medium|              Tier 1|[Supermarket, Type1]|        1589.2646|        true|\n",
            "|          FDS46|       17.6|         Regular|    0.047257328|         Snack Foods|119.6782|           OUT046|                     1997|      Small|              Tier 1|[Supermarket, Type1]|        2145.2076|        true|\n",
            "|          FDF32|      16.35|         Low Fat|      0.0680243|Fruits and Vegeta...|196.4426|           OUT013|                     1987|       High|              Tier 3|[Supermarket, Type1]|         1977.426|        true|\n",
            "|          FDP49|          9|         Regular|    0.069088961|           Breakfast| 56.3614|           OUT046|                     1997|      Small|              Tier 1|[Supermarket, Type1]|        1547.3192|        true|\n",
            "|          NCB42|       11.8|         Low Fat|    0.008596051|  Health and Hygiene|115.3492|           OUT018|                     2009|     Medium|              Tier 3|[Supermarket, Type2]|        1621.8888|       false|\n",
            "|          FDP49|          9|         Regular|    0.069196376|           Breakfast| 54.3614|           OUT049|                     1999|     Medium|              Tier 1|[Supermarket, Type1]|         718.3982|        true|\n",
            "|          DRI11|       NULL|         Low Fat|    0.034237682|         Hard Drinks|113.2834|           OUT027|                     1985|     Medium|              Tier 3|[Supermarket, Type3]|         2303.668|       false|\n",
            "|          FDU02|      13.35|         Low Fat|     0.10249212|               Dairy|230.5352|           OUT035|                     2004|      Small|              Tier 2|[Supermarket, Type1]|        2748.4224|        true|\n",
            "+---------------+-----------+----------------+---------------+--------------------+--------+-----------------+-------------------------+-----------+--------------------+--------------------+-----------------+------------+\n",
            "only showing top 20 rows\n",
            "\n"
          ]
        }
      ]
    },
    {
      "cell_type": "markdown",
      "source": [
        "## Group by"
      ],
      "metadata": {
        "id": "DX2iwM3904v1"
      }
    },
    {
      "cell_type": "code",
      "source": [
        "df.groupby(col('Item_Type')).agg(sum('Item_MRP')).show()"
      ],
      "metadata": {
        "colab": {
          "base_uri": "https://localhost:8080/"
        },
        "id": "LCQq7mOquhDJ",
        "outputId": "35565907-04cc-4fba-82fc-76acfce1bc9f"
      },
      "execution_count": 22,
      "outputs": [
        {
          "output_type": "stream",
          "name": "stdout",
          "text": [
            "+--------------------+------------------+\n",
            "|           Item_Type|     sum(Item_MRP)|\n",
            "+--------------------+------------------+\n",
            "|       Starchy Foods|21880.027399999995|\n",
            "|        Baking Goods| 81894.73640000001|\n",
            "|              Breads| 35379.11979999999|\n",
            "|Fruits and Vegeta...|178124.08099999998|\n",
            "|                Meat|59449.863799999956|\n",
            "|         Hard Drinks|29334.676599999995|\n",
            "|         Soft Drinks|58514.164999999964|\n",
            "|           Household|135976.52539999998|\n",
            "|           Breakfast|        15596.6966|\n",
            "|               Dairy|101276.45959999996|\n",
            "|         Snack Foods|175433.92040000003|\n",
            "|              Others|22451.891600000006|\n",
            "|             Seafood| 9077.870000000003|\n",
            "|              Canned|  90706.7269999999|\n",
            "|        Frozen Foods|118558.88140000001|\n",
            "|  Health and Hygiene|        68025.8388|\n",
            "+--------------------+------------------+\n",
            "\n"
          ]
        }
      ]
    },
    {
      "cell_type": "code",
      "source": [
        "df.groupby(col('Item_Type')).agg(sum('Item_MRP')).sort(col('sum(Item_MRP)').desc()).show()"
      ],
      "metadata": {
        "colab": {
          "base_uri": "https://localhost:8080/"
        },
        "id": "5S1msc9QB0_7",
        "outputId": "cb2309d5-f042-47da-b71a-073c921a326f"
      },
      "execution_count": null,
      "outputs": [
        {
          "output_type": "stream",
          "name": "stdout",
          "text": [
            "+--------------------+------------------+\n",
            "|           Item_Type|     sum(Item_MRP)|\n",
            "+--------------------+------------------+\n",
            "|Fruits and Vegeta...|178124.08099999998|\n",
            "|         Snack Foods|175433.92040000003|\n",
            "|           Household|135976.52539999998|\n",
            "|        Frozen Foods|118558.88140000001|\n",
            "|               Dairy|101276.45959999996|\n",
            "|              Canned|  90706.7269999999|\n",
            "|        Baking Goods| 81894.73640000001|\n",
            "|  Health and Hygiene|        68025.8388|\n",
            "|                Meat|59449.863799999956|\n",
            "|         Soft Drinks|58514.164999999964|\n",
            "|              Breads| 35379.11979999999|\n",
            "|         Hard Drinks|29334.676599999995|\n",
            "|              Others|22451.891600000006|\n",
            "|       Starchy Foods|21880.027399999995|\n",
            "|           Breakfast|        15596.6966|\n",
            "|             Seafood| 9077.870000000003|\n",
            "+--------------------+------------------+\n",
            "\n"
          ]
        }
      ]
    },
    {
      "cell_type": "markdown",
      "source": [
        "## Collect list"
      ],
      "metadata": {
        "id": "-0Om4Ll1loen"
      }
    },
    {
      "cell_type": "code",
      "source": [
        "data = [('user1','book1'),\n",
        "        ('user1','book2'),\n",
        "        ('user2','book1'),\n",
        "        ('user2','book3'),\n",
        "        ('user3','book2'),\n",
        "        ('user3','book1')]\n",
        "\n",
        "schema = 'user STRING, book STRING'\n",
        "\n",
        "df_coll = spark.createDataFrame(data=data,schema=schema)"
      ],
      "metadata": {
        "id": "3EalsPwUCzru"
      },
      "execution_count": 4,
      "outputs": []
    },
    {
      "cell_type": "code",
      "source": [
        "df_coll.groupby(col('user')).agg(collect_list(col('book'))).show()"
      ],
      "metadata": {
        "colab": {
          "base_uri": "https://localhost:8080/"
        },
        "id": "hJGuprLhmLKD",
        "outputId": "e449f789-2174-466e-ab54-77cc1e40d9d4"
      },
      "execution_count": 6,
      "outputs": [
        {
          "output_type": "stream",
          "name": "stdout",
          "text": [
            "+-----+------------------+\n",
            "| user|collect_list(book)|\n",
            "+-----+------------------+\n",
            "|user1|    [book1, book2]|\n",
            "|user3|    [book2, book1]|\n",
            "|user2|    [book1, book3]|\n",
            "+-----+------------------+\n",
            "\n"
          ]
        }
      ]
    },
    {
      "cell_type": "markdown",
      "source": [
        "## Pivot"
      ],
      "metadata": {
        "id": "aT_VDE0tm_y7"
      }
    },
    {
      "cell_type": "code",
      "source": [
        "df_pivot =  df.select(col('Item_Type'),col('Item_MRP').cast(DoubleType()),col('Outlet_Size'))"
      ],
      "metadata": {
        "id": "2JIY0rgYml3V"
      },
      "execution_count": 18,
      "outputs": []
    },
    {
      "cell_type": "code",
      "source": [
        "df_pivot.printSchema()"
      ],
      "metadata": {
        "colab": {
          "base_uri": "https://localhost:8080/"
        },
        "id": "r86rA-AypNtb",
        "outputId": "9ed9e3d4-ddf2-4008-cb24-f61e67b3bb56"
      },
      "execution_count": 19,
      "outputs": [
        {
          "output_type": "stream",
          "name": "stdout",
          "text": [
            "root\n",
            " |-- Item_Type: string (nullable = true)\n",
            " |-- Item_MRP: double (nullable = true)\n",
            " |-- Outlet_Size: string (nullable = true)\n",
            "\n"
          ]
        }
      ]
    },
    {
      "cell_type": "code",
      "source": [
        "df_pivot.show()"
      ],
      "metadata": {
        "colab": {
          "base_uri": "https://localhost:8080/"
        },
        "id": "D7Db5lEyoD-6",
        "outputId": "a660d5b4-ced4-4faf-ef80-14eeee6b219e"
      },
      "execution_count": 20,
      "outputs": [
        {
          "output_type": "stream",
          "name": "stdout",
          "text": [
            "+--------------------+--------+-----------+\n",
            "|           Item_Type|Item_MRP|Outlet_Size|\n",
            "+--------------------+--------+-----------+\n",
            "|               Dairy|249.8092|     Medium|\n",
            "|         Soft Drinks| 48.2692|     Medium|\n",
            "|                Meat| 141.618|     Medium|\n",
            "|Fruits and Vegeta...| 182.095|       NULL|\n",
            "|           Household| 53.8614|       High|\n",
            "|        Baking Goods| 51.4008|     Medium|\n",
            "|         Snack Foods| 57.6588|       High|\n",
            "|         Snack Foods|107.7622|     Medium|\n",
            "|        Frozen Foods| 96.9726|       NULL|\n",
            "|        Frozen Foods|187.8214|       NULL|\n",
            "|Fruits and Vegeta...| 45.5402|     Medium|\n",
            "|               Dairy|144.1102|      Small|\n",
            "|Fruits and Vegeta...|145.4786|     Medium|\n",
            "|         Snack Foods|119.6782|      Small|\n",
            "|Fruits and Vegeta...|196.4426|       High|\n",
            "|           Breakfast| 56.3614|      Small|\n",
            "|  Health and Hygiene|115.3492|     Medium|\n",
            "|           Breakfast| 54.3614|     Medium|\n",
            "|         Hard Drinks|113.2834|     Medium|\n",
            "|               Dairy|230.5352|      Small|\n",
            "+--------------------+--------+-----------+\n",
            "only showing top 20 rows\n",
            "\n"
          ]
        }
      ]
    },
    {
      "cell_type": "code",
      "source": [
        "df_pivot.groupby(col('Item_Type')).pivot('Outlet_Size').agg(sum(col('Item_MRP'))).show()"
      ],
      "metadata": {
        "colab": {
          "base_uri": "https://localhost:8080/"
        },
        "id": "SKBcALIHoGMi",
        "outputId": "7f1a9861-b157-4637-a274-b7e87531de2b"
      },
      "execution_count": 25,
      "outputs": [
        {
          "output_type": "stream",
          "name": "stdout",
          "text": [
            "+--------------------+------------------+------------------+------------------+------------------+\n",
            "|           Item_Type|              null|              High|            Medium|             Small|\n",
            "+--------------------+------------------+------------------+------------------+------------------+\n",
            "|       Starchy Foods|         6040.6402|3004.9844000000003| 7124.136199999997| 5710.266599999999|\n",
            "|              Breads|        10011.5004|          3343.974|        11691.4662|10332.179200000002|\n",
            "|        Baking Goods|23433.838799999994| 9431.749199999998|25614.249399999997| 23414.89900000001|\n",
            "|Fruits and Vegeta...|49758.730999999985| 20671.34759999999|59047.217200000014|48646.785199999984|\n",
            "|                Meat|16158.166000000005| 5627.036400000002| 20326.45059999999|        17338.2108|\n",
            "|         Hard Drinks| 8869.577199999998|3264.3329999999996|10712.827199999996|         6487.9392|\n",
            "|         Soft Drinks|17745.318000000003| 6456.165199999999|17572.946399999997|16739.735400000005|\n",
            "|           Household| 38567.78840000001|15151.044799999994| 42688.57439999998| 39569.11779999999|\n",
            "|           Breakfast| 4918.927800000001|         1917.3776|         4843.3504|3917.0407999999998|\n",
            "|               Dairy|27723.535800000005|12280.733799999996| 32375.65400000001|28896.536000000004|\n",
            "|         Snack Foods| 48143.23779999995|18230.885799999993|60701.911599999985| 48357.88520000003|\n",
            "|              Others| 6099.277800000001|         2121.2258| 6647.481400000001| 7583.906599999998|\n",
            "|             Seafood|         2559.9036| 674.3212000000001|2958.0099999999993|2885.6351999999997|\n",
            "|              Canned|25036.022400000005|          8803.776|29973.092599999996|26893.836000000003|\n",
            "|        Frozen Foods| 33136.17080000001|12588.291000000001|        38512.6222| 34321.79739999998|\n",
            "|  Health and Hygiene|19975.663200000003|         8241.7698|21879.317000000003| 17929.08879999999|\n",
            "+--------------------+------------------+------------------+------------------+------------------+\n",
            "\n"
          ]
        }
      ]
    },
    {
      "cell_type": "markdown",
      "source": [
        "## When otherwise"
      ],
      "metadata": {
        "id": "E2MsLDrvswY5"
      }
    },
    {
      "cell_type": "code",
      "source": [
        "df = df.withColumn('veg_nonveg',when(col('Item_Type')=='Meat','Nonveg').otherwise('Veg'))"
      ],
      "metadata": {
        "id": "uI9jVYPvop21"
      },
      "execution_count": 38,
      "outputs": []
    },
    {
      "cell_type": "code",
      "source": [
        "df.show()"
      ],
      "metadata": {
        "colab": {
          "base_uri": "https://localhost:8080/"
        },
        "id": "adHOOoUjxYQH",
        "outputId": "a0b65bb3-de70-4e66-9745-25852a6f08c1"
      },
      "execution_count": 33,
      "outputs": [
        {
          "output_type": "stream",
          "name": "stdout",
          "text": [
            "+---------------+-----------+----------------+---------------+--------------------+--------+-----------------+-------------------------+-----------+--------------------+-----------------+-----------------+----------+\n",
            "|Item_Identifier|Item_Weight|Item_Fat_Content|Item_Visibility|           Item_Type|Item_MRP|Outlet_Identifier|Outlet_Establishment_Year|Outlet_Size|Outlet_Location_Type|      Outlet_Type|Item_Outlet_Sales|veg_nonveg|\n",
            "+---------------+-----------+----------------+---------------+--------------------+--------+-----------------+-------------------------+-----------+--------------------+-----------------+-----------------+----------+\n",
            "|          FDA15|        9.3|         Low Fat|    0.016047301|               Dairy|249.8092|           OUT049|                     1999|     Medium|              Tier 1|Supermarket Type1|         3735.138|       Veg|\n",
            "|          DRC01|       5.92|         Regular|    0.019278216|         Soft Drinks| 48.2692|           OUT018|                     2009|     Medium|              Tier 3|Supermarket Type2|         443.4228|       Veg|\n",
            "|          FDN15|       17.5|         Low Fat|    0.016760075|                Meat| 141.618|           OUT049|                     1999|     Medium|              Tier 1|Supermarket Type1|          2097.27|    Nonveg|\n",
            "|          FDX07|       19.2|         Regular|              0|Fruits and Vegeta...| 182.095|           OUT010|                     1998|       NULL|              Tier 3|    Grocery Store|           732.38|       Veg|\n",
            "|          NCD19|       8.93|         Low Fat|              0|           Household| 53.8614|           OUT013|                     1987|       High|              Tier 3|Supermarket Type1|         994.7052|       Veg|\n",
            "|          FDP36|     10.395|         Regular|              0|        Baking Goods| 51.4008|           OUT018|                     2009|     Medium|              Tier 3|Supermarket Type2|         556.6088|       Veg|\n",
            "|          FDO10|      13.65|         Regular|    0.012741089|         Snack Foods| 57.6588|           OUT013|                     1987|       High|              Tier 3|Supermarket Type1|         343.5528|       Veg|\n",
            "|          FDP10|       NULL|         Low Fat|    0.127469857|         Snack Foods|107.7622|           OUT027|                     1985|     Medium|              Tier 3|Supermarket Type3|        4022.7636|       Veg|\n",
            "|          FDH17|       16.2|         Regular|    0.016687114|        Frozen Foods| 96.9726|           OUT045|                     2002|       NULL|              Tier 2|Supermarket Type1|        1076.5986|       Veg|\n",
            "|          FDU28|       19.2|         Regular|     0.09444959|        Frozen Foods|187.8214|           OUT017|                     2007|       NULL|              Tier 2|Supermarket Type1|         4710.535|       Veg|\n",
            "|          FDY07|       11.8|         Low Fat|              0|Fruits and Vegeta...| 45.5402|           OUT049|                     1999|     Medium|              Tier 1|Supermarket Type1|        1516.0266|       Veg|\n",
            "|          FDA03|       18.5|         Regular|    0.045463773|               Dairy|144.1102|           OUT046|                     1997|      Small|              Tier 1|Supermarket Type1|         2187.153|       Veg|\n",
            "|          FDX32|       15.1|         Regular|      0.1000135|Fruits and Vegeta...|145.4786|           OUT049|                     1999|     Medium|              Tier 1|Supermarket Type1|        1589.2646|       Veg|\n",
            "|          FDS46|       17.6|         Regular|    0.047257328|         Snack Foods|119.6782|           OUT046|                     1997|      Small|              Tier 1|Supermarket Type1|        2145.2076|       Veg|\n",
            "|          FDF32|      16.35|         Low Fat|      0.0680243|Fruits and Vegeta...|196.4426|           OUT013|                     1987|       High|              Tier 3|Supermarket Type1|         1977.426|       Veg|\n",
            "|          FDP49|          9|         Regular|    0.069088961|           Breakfast| 56.3614|           OUT046|                     1997|      Small|              Tier 1|Supermarket Type1|        1547.3192|       Veg|\n",
            "|          NCB42|       11.8|         Low Fat|    0.008596051|  Health and Hygiene|115.3492|           OUT018|                     2009|     Medium|              Tier 3|Supermarket Type2|        1621.8888|       Veg|\n",
            "|          FDP49|          9|         Regular|    0.069196376|           Breakfast| 54.3614|           OUT049|                     1999|     Medium|              Tier 1|Supermarket Type1|         718.3982|       Veg|\n",
            "|          DRI11|       NULL|         Low Fat|    0.034237682|         Hard Drinks|113.2834|           OUT027|                     1985|     Medium|              Tier 3|Supermarket Type3|         2303.668|       Veg|\n",
            "|          FDU02|      13.35|         Low Fat|     0.10249212|               Dairy|230.5352|           OUT035|                     2004|      Small|              Tier 2|Supermarket Type1|        2748.4224|       Veg|\n",
            "+---------------+-----------+----------------+---------------+--------------------+--------+-----------------+-------------------------+-----------+--------------------+-----------------+-----------------+----------+\n",
            "only showing top 20 rows\n",
            "\n"
          ]
        }
      ]
    },
    {
      "cell_type": "markdown",
      "source": [
        "### Multiple conditions"
      ],
      "metadata": {
        "id": "QjYToveaw9yL"
      }
    },
    {
      "cell_type": "code",
      "source": [
        "df.withColumn('veg_nonveg',when((col('veg_nonveg')=='Veg') & (col('Item_MRP') > 100),'ExpensiveVeg')\\\n",
        "              .when((col('veg_nonveg')=='Veg') & (col('Item_MRP') <= 100),'CheapVeg')\\\n",
        "              .otherwise('NonVeg')).show()"
      ],
      "metadata": {
        "colab": {
          "base_uri": "https://localhost:8080/"
        },
        "id": "wTdm2jP_u5rr",
        "outputId": "b5f893d6-252f-456c-d35a-52d05277e36b"
      },
      "execution_count": 40,
      "outputs": [
        {
          "output_type": "stream",
          "name": "stdout",
          "text": [
            "+---------------+-----------+----------------+---------------+--------------------+--------+-----------------+-------------------------+-----------+--------------------+-----------------+-----------------+------------+\n",
            "|Item_Identifier|Item_Weight|Item_Fat_Content|Item_Visibility|           Item_Type|Item_MRP|Outlet_Identifier|Outlet_Establishment_Year|Outlet_Size|Outlet_Location_Type|      Outlet_Type|Item_Outlet_Sales|  veg_nonveg|\n",
            "+---------------+-----------+----------------+---------------+--------------------+--------+-----------------+-------------------------+-----------+--------------------+-----------------+-----------------+------------+\n",
            "|          FDA15|        9.3|         Low Fat|    0.016047301|               Dairy|249.8092|           OUT049|                     1999|     Medium|              Tier 1|Supermarket Type1|         3735.138|ExpensiveVeg|\n",
            "|          DRC01|       5.92|         Regular|    0.019278216|         Soft Drinks| 48.2692|           OUT018|                     2009|     Medium|              Tier 3|Supermarket Type2|         443.4228|    CheapVeg|\n",
            "|          FDN15|       17.5|         Low Fat|    0.016760075|                Meat| 141.618|           OUT049|                     1999|     Medium|              Tier 1|Supermarket Type1|          2097.27|      NonVeg|\n",
            "|          FDX07|       19.2|         Regular|            0.0|Fruits and Vegeta...| 182.095|           OUT010|                     1998|       NULL|              Tier 3|    Grocery Store|           732.38|ExpensiveVeg|\n",
            "|          NCD19|       8.93|         Low Fat|            0.0|           Household| 53.8614|           OUT013|                     1987|       High|              Tier 3|Supermarket Type1|         994.7052|    CheapVeg|\n",
            "|          FDP36|     10.395|         Regular|            0.0|        Baking Goods| 51.4008|           OUT018|                     2009|     Medium|              Tier 3|Supermarket Type2|         556.6088|    CheapVeg|\n",
            "|          FDO10|      13.65|         Regular|    0.012741089|         Snack Foods| 57.6588|           OUT013|                     1987|       High|              Tier 3|Supermarket Type1|         343.5528|    CheapVeg|\n",
            "|          FDP10|       NULL|         Low Fat|    0.127469857|         Snack Foods|107.7622|           OUT027|                     1985|     Medium|              Tier 3|Supermarket Type3|        4022.7636|ExpensiveVeg|\n",
            "|          FDH17|       16.2|         Regular|    0.016687114|        Frozen Foods| 96.9726|           OUT045|                     2002|       NULL|              Tier 2|Supermarket Type1|        1076.5986|    CheapVeg|\n",
            "|          FDU28|       19.2|         Regular|     0.09444959|        Frozen Foods|187.8214|           OUT017|                     2007|       NULL|              Tier 2|Supermarket Type1|         4710.535|ExpensiveVeg|\n",
            "|          FDY07|       11.8|         Low Fat|            0.0|Fruits and Vegeta...| 45.5402|           OUT049|                     1999|     Medium|              Tier 1|Supermarket Type1|        1516.0266|    CheapVeg|\n",
            "|          FDA03|       18.5|         Regular|    0.045463773|               Dairy|144.1102|           OUT046|                     1997|      Small|              Tier 1|Supermarket Type1|         2187.153|ExpensiveVeg|\n",
            "|          FDX32|       15.1|         Regular|      0.1000135|Fruits and Vegeta...|145.4786|           OUT049|                     1999|     Medium|              Tier 1|Supermarket Type1|        1589.2646|ExpensiveVeg|\n",
            "|          FDS46|       17.6|         Regular|    0.047257328|         Snack Foods|119.6782|           OUT046|                     1997|      Small|              Tier 1|Supermarket Type1|        2145.2076|ExpensiveVeg|\n",
            "|          FDF32|      16.35|         Low Fat|      0.0680243|Fruits and Vegeta...|196.4426|           OUT013|                     1987|       High|              Tier 3|Supermarket Type1|         1977.426|ExpensiveVeg|\n",
            "|          FDP49|        9.0|         Regular|    0.069088961|           Breakfast| 56.3614|           OUT046|                     1997|      Small|              Tier 1|Supermarket Type1|        1547.3192|    CheapVeg|\n",
            "|          NCB42|       11.8|         Low Fat|    0.008596051|  Health and Hygiene|115.3492|           OUT018|                     2009|     Medium|              Tier 3|Supermarket Type2|        1621.8888|ExpensiveVeg|\n",
            "|          FDP49|        9.0|         Regular|    0.069196376|           Breakfast| 54.3614|           OUT049|                     1999|     Medium|              Tier 1|Supermarket Type1|         718.3982|    CheapVeg|\n",
            "|          DRI11|       NULL|         Low Fat|    0.034237682|         Hard Drinks|113.2834|           OUT027|                     1985|     Medium|              Tier 3|Supermarket Type3|         2303.668|ExpensiveVeg|\n",
            "|          FDU02|      13.35|         Low Fat|     0.10249212|               Dairy|230.5352|           OUT035|                     2004|      Small|              Tier 2|Supermarket Type1|        2748.4224|ExpensiveVeg|\n",
            "+---------------+-----------+----------------+---------------+--------------------+--------+-----------------+-------------------------+-----------+--------------------+-----------------+-----------------+------------+\n",
            "only showing top 20 rows\n",
            "\n"
          ]
        }
      ]
    },
    {
      "cell_type": "markdown",
      "source": [
        "## Joins"
      ],
      "metadata": {
        "id": "JdpJKo823zUb"
      }
    },
    {
      "cell_type": "code",
      "source": [
        "## left right inner same as sql\n",
        "## syntax\n",
        "## df_left.join(df_right,df_left['key'] == df_right['key'],'type of join').show()\n",
        "## type of join left,right,inner\n",
        "\n",
        "## Anti Join\n",
        "## returns records of df_left which are not available in df_right\n"
      ],
      "metadata": {
        "id": "MlYAHGsL3y8R"
      },
      "execution_count": 30,
      "outputs": []
    },
    {
      "cell_type": "markdown",
      "source": [
        "## Window functions"
      ],
      "metadata": {
        "id": "-IS_TeuAIVSZ"
      }
    },
    {
      "cell_type": "code",
      "source": [
        "from pyspark.sql.window import Window"
      ],
      "metadata": {
        "id": "1gvz7z4EvI2r"
      },
      "execution_count": 9,
      "outputs": []
    },
    {
      "cell_type": "markdown",
      "source": [
        "### RowNumber()"
      ],
      "metadata": {
        "id": "EB67Uo5QsUKk"
      }
    },
    {
      "cell_type": "code",
      "source": [
        "df.withColumn('rowCol',row_number().over(Window.orderBy('Item_Identifier')))\\\n",
        ".select('Item_Identifier','rowCol').show()"
      ],
      "metadata": {
        "colab": {
          "base_uri": "https://localhost:8080/"
        },
        "id": "2TX9lT-S1uuK",
        "outputId": "d68ff98a-f829-4783-b8e2-a9186e7a71f0"
      },
      "execution_count": 19,
      "outputs": [
        {
          "output_type": "stream",
          "name": "stdout",
          "text": [
            "+---------------+------+\n",
            "|Item_Identifier|rowCol|\n",
            "+---------------+------+\n",
            "|          DRA12|     1|\n",
            "|          DRA12|     2|\n",
            "|          DRA12|     3|\n",
            "|          DRA12|     4|\n",
            "|          DRA12|     5|\n",
            "|          DRA12|     6|\n",
            "|          DRA24|     7|\n",
            "|          DRA24|     8|\n",
            "|          DRA24|     9|\n",
            "|          DRA24|    10|\n",
            "|          DRA24|    11|\n",
            "|          DRA24|    12|\n",
            "|          DRA24|    13|\n",
            "|          DRA59|    14|\n",
            "|          DRA59|    15|\n",
            "|          DRA59|    16|\n",
            "|          DRA59|    17|\n",
            "|          DRA59|    18|\n",
            "|          DRA59|    19|\n",
            "|          DRA59|    20|\n",
            "+---------------+------+\n",
            "only showing top 20 rows\n",
            "\n"
          ]
        }
      ]
    },
    {
      "cell_type": "markdown",
      "source": [
        "### Rank/Dense Rank"
      ],
      "metadata": {
        "id": "iqRVTnJ-x1i6"
      }
    },
    {
      "cell_type": "code",
      "source": [
        "df.withColumn('rank',rank().over(Window.orderBy('Item_Identifier')))\\\n",
        "  .withColumn('dense_rank',dense_rank().over(Window.orderBy('Item_Identifier')))\\\n",
        "  .select('Item_Identifier','rank','dense_rank').show()\n"
      ],
      "metadata": {
        "colab": {
          "base_uri": "https://localhost:8080/"
        },
        "id": "qOxEZacyuNI2",
        "outputId": "251a025e-5a76-49c1-e000-0bcee290bacc"
      },
      "execution_count": 18,
      "outputs": [
        {
          "output_type": "stream",
          "name": "stdout",
          "text": [
            "+---------------+----+----------+\n",
            "|Item_Identifier|rank|dense_rank|\n",
            "+---------------+----+----------+\n",
            "|          DRA12|   1|         1|\n",
            "|          DRA12|   1|         1|\n",
            "|          DRA12|   1|         1|\n",
            "|          DRA12|   1|         1|\n",
            "|          DRA12|   1|         1|\n",
            "|          DRA12|   1|         1|\n",
            "|          DRA24|   7|         2|\n",
            "|          DRA24|   7|         2|\n",
            "|          DRA24|   7|         2|\n",
            "|          DRA24|   7|         2|\n",
            "|          DRA24|   7|         2|\n",
            "|          DRA24|   7|         2|\n",
            "|          DRA24|   7|         2|\n",
            "|          DRA59|  14|         3|\n",
            "|          DRA59|  14|         3|\n",
            "|          DRA59|  14|         3|\n",
            "|          DRA59|  14|         3|\n",
            "|          DRA59|  14|         3|\n",
            "|          DRA59|  14|         3|\n",
            "|          DRA59|  14|         3|\n",
            "+---------------+----+----------+\n",
            "only showing top 20 rows\n",
            "\n"
          ]
        }
      ]
    },
    {
      "cell_type": "markdown",
      "source": [
        "### Cumulative sum"
      ],
      "metadata": {
        "id": "zSYsZKyoy3R0"
      }
    },
    {
      "cell_type": "code",
      "source": [
        "df.withColumn('total_sum',sum(col('Item_MRP')).over(Window.orderBy('Item_Identifier')))\\\n",
        "  .select('Item_Identifier','Item_MRP','total_sum').show()"
      ],
      "metadata": {
        "colab": {
          "base_uri": "https://localhost:8080/"
        },
        "id": "8_RrU9K3yLcr",
        "outputId": "677f4243-cd0c-4f80-d61f-de5bce862b05"
      },
      "execution_count": 21,
      "outputs": [
        {
          "output_type": "stream",
          "name": "stdout",
          "text": [
            "+---------------+--------+------------------+\n",
            "|Item_Identifier|Item_MRP|         total_sum|\n",
            "+---------------+--------+------------------+\n",
            "|          DRA12|140.3154|          851.1924|\n",
            "|          DRA12|141.6154|          851.1924|\n",
            "|          DRA12|142.3154|          851.1924|\n",
            "|          DRA12|141.9154|          851.1924|\n",
            "|          DRA12|142.0154|          851.1924|\n",
            "|          DRA12|143.0154|          851.1924|\n",
            "|          DRA24|164.6868|1999.8000000000002|\n",
            "|          DRA24|163.2868|1999.8000000000002|\n",
            "|          DRA24|163.8868|1999.8000000000002|\n",
            "|          DRA24|165.7868|1999.8000000000002|\n",
            "|          DRA24|163.3868|1999.8000000000002|\n",
            "|          DRA24|165.0868|1999.8000000000002|\n",
            "|          DRA24|162.4868|1999.8000000000002|\n",
            "|          DRA59|184.8924|         3481.2392|\n",
            "|          DRA59|183.6924|         3481.2392|\n",
            "|          DRA59|185.9924|         3481.2392|\n",
            "|          DRA59|183.2924|         3481.2392|\n",
            "|          DRA59|186.6924|         3481.2392|\n",
            "|          DRA59|186.2924|         3481.2392|\n",
            "|          DRA59|186.5924|         3481.2392|\n",
            "+---------------+--------+------------------+\n",
            "only showing top 20 rows\n",
            "\n"
          ]
        }
      ]
    },
    {
      "cell_type": "code",
      "source": [
        "df.withColumn('Cumulative',sum(col('Item_MRP')).over(Window.orderBy('Item_Identifier').rowsBetween(Window.unboundedPreceding,Window.currentRow)))\\\n",
        "  .select('Item_Identifier','Item_MRP','Cumulative').show()"
      ],
      "metadata": {
        "colab": {
          "base_uri": "https://localhost:8080/"
        },
        "id": "MDXwwjU_zURZ",
        "outputId": "d5f07b17-d0dd-4d59-a416-4bc9944e1d05"
      },
      "execution_count": 23,
      "outputs": [
        {
          "output_type": "stream",
          "name": "stdout",
          "text": [
            "+---------------+--------+------------------+\n",
            "|Item_Identifier|Item_MRP|        Cumulative|\n",
            "+---------------+--------+------------------+\n",
            "|          DRA12|140.3154|          140.3154|\n",
            "|          DRA12|141.6154|          281.9308|\n",
            "|          DRA12|142.3154|          424.2462|\n",
            "|          DRA12|141.9154|          566.1616|\n",
            "|          DRA12|142.0154|           708.177|\n",
            "|          DRA12|143.0154|          851.1924|\n",
            "|          DRA24|164.6868|1015.8792000000001|\n",
            "|          DRA24|163.2868|1179.1660000000002|\n",
            "|          DRA24|163.8868|1343.0528000000002|\n",
            "|          DRA24|165.7868|1508.8396000000002|\n",
            "|          DRA24|163.3868|1672.2264000000002|\n",
            "|          DRA24|165.0868|1837.3132000000003|\n",
            "|          DRA24|162.4868|1999.8000000000002|\n",
            "|          DRA59|184.8924|2184.6924000000004|\n",
            "|          DRA59|183.6924|2368.3848000000003|\n",
            "|          DRA59|185.9924|2554.3772000000004|\n",
            "|          DRA59|183.2924|         2737.6696|\n",
            "|          DRA59|186.6924|          2924.362|\n",
            "|          DRA59|186.2924|         3110.6544|\n",
            "|          DRA59|186.5924|         3297.2468|\n",
            "+---------------+--------+------------------+\n",
            "only showing top 20 rows\n",
            "\n"
          ]
        }
      ]
    },
    {
      "cell_type": "markdown",
      "source": [
        "## Spark SQL"
      ],
      "metadata": {
        "id": "kJEItuGhCpGV"
      }
    },
    {
      "cell_type": "code",
      "source": [
        "df.createOrReplaceTempView('temp_table')"
      ],
      "metadata": {
        "id": "Fz-5fhqTCo2A"
      },
      "execution_count": 27,
      "outputs": []
    },
    {
      "cell_type": "code",
      "source": [
        "## can be extended for any sql query\n",
        "result_df = spark.sql('SELECT * FROM temp_table')"
      ],
      "metadata": {
        "id": "-yD59eOU0nVN"
      },
      "execution_count": 28,
      "outputs": []
    },
    {
      "cell_type": "code",
      "source": [
        "result_df.show()"
      ],
      "metadata": {
        "colab": {
          "base_uri": "https://localhost:8080/"
        },
        "id": "uE7fpsDRDQCD",
        "outputId": "159fa479-c6b7-4bed-e219-4dd77d1cbe33"
      },
      "execution_count": 29,
      "outputs": [
        {
          "output_type": "stream",
          "name": "stdout",
          "text": [
            "+---------------+-----------+----------------+---------------+--------------------+--------+-----------------+-------------------------+-----------+--------------------+-----------------+-----------------+\n",
            "|Item_Identifier|Item_Weight|Item_Fat_Content|Item_Visibility|           Item_Type|Item_MRP|Outlet_Identifier|Outlet_Establishment_Year|Outlet_Size|Outlet_Location_Type|      Outlet_Type|Item_Outlet_Sales|\n",
            "+---------------+-----------+----------------+---------------+--------------------+--------+-----------------+-------------------------+-----------+--------------------+-----------------+-----------------+\n",
            "|          FDA15|        9.3|         Low Fat|    0.016047301|               Dairy|249.8092|           OUT049|                     1999|     Medium|              Tier 1|Supermarket Type1|         3735.138|\n",
            "|          DRC01|       5.92|         Regular|    0.019278216|         Soft Drinks| 48.2692|           OUT018|                     2009|     Medium|              Tier 3|Supermarket Type2|         443.4228|\n",
            "|          FDN15|       17.5|         Low Fat|    0.016760075|                Meat| 141.618|           OUT049|                     1999|     Medium|              Tier 1|Supermarket Type1|          2097.27|\n",
            "|          FDX07|       19.2|         Regular|            0.0|Fruits and Vegeta...| 182.095|           OUT010|                     1998|       NULL|              Tier 3|    Grocery Store|           732.38|\n",
            "|          NCD19|       8.93|         Low Fat|            0.0|           Household| 53.8614|           OUT013|                     1987|       High|              Tier 3|Supermarket Type1|         994.7052|\n",
            "|          FDP36|     10.395|         Regular|            0.0|        Baking Goods| 51.4008|           OUT018|                     2009|     Medium|              Tier 3|Supermarket Type2|         556.6088|\n",
            "|          FDO10|      13.65|         Regular|    0.012741089|         Snack Foods| 57.6588|           OUT013|                     1987|       High|              Tier 3|Supermarket Type1|         343.5528|\n",
            "|          FDP10|       NULL|         Low Fat|    0.127469857|         Snack Foods|107.7622|           OUT027|                     1985|     Medium|              Tier 3|Supermarket Type3|        4022.7636|\n",
            "|          FDH17|       16.2|         Regular|    0.016687114|        Frozen Foods| 96.9726|           OUT045|                     2002|       NULL|              Tier 2|Supermarket Type1|        1076.5986|\n",
            "|          FDU28|       19.2|         Regular|     0.09444959|        Frozen Foods|187.8214|           OUT017|                     2007|       NULL|              Tier 2|Supermarket Type1|         4710.535|\n",
            "|          FDY07|       11.8|         Low Fat|            0.0|Fruits and Vegeta...| 45.5402|           OUT049|                     1999|     Medium|              Tier 1|Supermarket Type1|        1516.0266|\n",
            "|          FDA03|       18.5|         Regular|    0.045463773|               Dairy|144.1102|           OUT046|                     1997|      Small|              Tier 1|Supermarket Type1|         2187.153|\n",
            "|          FDX32|       15.1|         Regular|      0.1000135|Fruits and Vegeta...|145.4786|           OUT049|                     1999|     Medium|              Tier 1|Supermarket Type1|        1589.2646|\n",
            "|          FDS46|       17.6|         Regular|    0.047257328|         Snack Foods|119.6782|           OUT046|                     1997|      Small|              Tier 1|Supermarket Type1|        2145.2076|\n",
            "|          FDF32|      16.35|         Low Fat|      0.0680243|Fruits and Vegeta...|196.4426|           OUT013|                     1987|       High|              Tier 3|Supermarket Type1|         1977.426|\n",
            "|          FDP49|        9.0|         Regular|    0.069088961|           Breakfast| 56.3614|           OUT046|                     1997|      Small|              Tier 1|Supermarket Type1|        1547.3192|\n",
            "|          NCB42|       11.8|         Low Fat|    0.008596051|  Health and Hygiene|115.3492|           OUT018|                     2009|     Medium|              Tier 3|Supermarket Type2|        1621.8888|\n",
            "|          FDP49|        9.0|         Regular|    0.069196376|           Breakfast| 54.3614|           OUT049|                     1999|     Medium|              Tier 1|Supermarket Type1|         718.3982|\n",
            "|          DRI11|       NULL|         Low Fat|    0.034237682|         Hard Drinks|113.2834|           OUT027|                     1985|     Medium|              Tier 3|Supermarket Type3|         2303.668|\n",
            "|          FDU02|      13.35|         Low Fat|     0.10249212|               Dairy|230.5352|           OUT035|                     2004|      Small|              Tier 2|Supermarket Type1|        2748.4224|\n",
            "+---------------+-----------+----------------+---------------+--------------------+--------+-----------------+-------------------------+-----------+--------------------+-----------------+-----------------+\n",
            "only showing top 20 rows\n",
            "\n"
          ]
        }
      ]
    },
    {
      "cell_type": "code",
      "source": [],
      "metadata": {
        "id": "jYcQJ_hrDSwH"
      },
      "execution_count": null,
      "outputs": []
    }
  ]
}